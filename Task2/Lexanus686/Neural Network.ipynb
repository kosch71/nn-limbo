{
 "cells": [
  {
   "cell_type": "markdown",
   "metadata": {},
   "source": [
    "# Задание 2.1 - Нейронные сети\n",
    "\n",
    "В этом задании вы реализуете и натренируете настоящую нейроную сеть своими руками!\n",
    "\n",
    "В некотором смысле это будет расширением прошлого задания - нам нужно просто составить несколько линейных классификаторов вместе!\n",
    "\n",
    "<img src=\"https://i.redd.it/n9fgba8b0qr01.png\" alt=\"Stack_more_layers\" width=\"400px\"/>"
   ]
  },
  {
   "cell_type": "code",
   "execution_count": 1,
   "metadata": {},
   "outputs": [],
   "source": [
    "import numpy as np\n",
    "import matplotlib.pyplot as plt\n",
    "\n",
    "%matplotlib inline\n",
    "\n",
    "%load_ext autoreload\n",
    "%autoreload 2"
   ]
  },
  {
   "cell_type": "code",
   "execution_count": 2,
   "metadata": {},
   "outputs": [],
   "source": [
    "from dataset import load_svhn, random_split_train_val\n",
    "from gradient_check import check_layer_gradient, check_layer_param_gradient, check_model_gradient\n",
    "from layers import FullyConnectedLayer, ReLULayer\n",
    "from model import TwoLayerNet\n",
    "from trainer import Trainer, Dataset\n",
    "from optim import SGD, MomentumSGD\n",
    "from metrics import multiclass_accuracy"
   ]
  },
  {
   "cell_type": "markdown",
   "metadata": {},
   "source": [
    "# Загружаем данные\n",
    "\n",
    "И разделяем их на training и validation."
   ]
  },
  {
   "cell_type": "code",
   "execution_count": 3,
   "metadata": {},
   "outputs": [],
   "source": [
    "def prepare_for_neural_network(train_X, test_X):\n",
    "    train_flat = train_X.reshape(train_X.shape[0], -1).astype(np.float) / 255.0\n",
    "    test_flat = test_X.reshape(test_X.shape[0], -1).astype(np.float) / 255.0\n",
    "    \n",
    "    # Subtract mean\n",
    "    mean_image = np.mean(train_flat, axis = 0)\n",
    "    train_flat -= mean_image\n",
    "    test_flat -= mean_image\n",
    "    \n",
    "    return train_flat, test_flat\n",
    "    \n",
    "train_X, train_y, test_X, test_y = load_svhn(\"data\", max_train=10000, max_test=1000)    \n",
    "train_X, test_X = prepare_for_neural_network(train_X, test_X)\n",
    "# Split train into train and val\n",
    "train_X, train_y, val_X, val_y = random_split_train_val(train_X, train_y, num_val = 1000)"
   ]
  },
  {
   "cell_type": "markdown",
   "metadata": {},
   "source": [
    "# Как всегда, начинаем с кирпичиков\n",
    "\n",
    "Мы будем реализовывать необходимые нам слои по очереди. Каждый слой должен реализовать:\n",
    "- прямой проход (forward pass), который генерирует выход слоя по входу и запоминает необходимые данные\n",
    "- обратный проход (backward pass), который получает градиент по выходу слоя и вычисляет градиент по входу и по параметрам\n",
    "\n",
    "Начнем с ReLU, у которого параметров нет."
   ]
  },
  {
   "cell_type": "code",
   "execution_count": 4,
   "metadata": {},
   "outputs": [
    {
     "name": "stdout",
     "output_type": "stream",
     "text": "Gradient check passed!\n"
    }
   ],
   "source": [
    "# TODO: Implement ReLULayer layer in layers.py\n",
    "# Note: you'll need to copy implementation of the gradient_check function from the previous assignment\n",
    "\n",
    "X = np.array([[1,-2,3],\n",
    "              [-1, 2, 0.1]\n",
    "              ])\n",
    "# print(ReLULayer())\n",
    "assert check_layer_gradient(ReLULayer(), X)"
   ]
  },
  {
   "cell_type": "markdown",
   "metadata": {},
   "source": [
    "А теперь реализуем полносвязный слой (fully connected layer), у которого будет два массива параметров: W (weights) и B (bias).\n",
    "\n",
    "Все параметры наши слои будут использовать для параметров специальный класс `Param`, в котором будут храниться значения параметров и градиенты этих параметров, вычисляемые во время обратного прохода.\n",
    "\n",
    "Это даст возможность аккумулировать (суммировать) градиенты из разных частей функции потерь, например, из cross-entropy loss и regularization loss."
   ]
  },
  {
   "cell_type": "code",
   "execution_count": 5,
   "metadata": {},
   "outputs": [
    {
     "name": "stdout",
     "output_type": "stream",
     "text": "Gradient check passed!\nGradient check passed!\nGradient check passed!\n"
    }
   ],
   "source": [
    "# TODO: Implement FullyConnected layer forward and backward methods\n",
    "assert check_layer_gradient(FullyConnectedLayer(3, 4), X)\n",
    "# TODO: Implement storing gradients for W and B\n",
    "assert check_layer_param_gradient(FullyConnectedLayer(3, 4), X, 'W')\n",
    "assert check_layer_param_gradient(FullyConnectedLayer(3, 4), X, 'B')"
   ]
  },
  {
   "cell_type": "markdown",
   "metadata": {},
   "source": [
    "## Создаем нейронную сеть\n",
    "\n",
    "Теперь мы реализуем простейшую нейронную сеть с двумя полносвязным слоями и нелинейностью ReLU. Реализуйте функцию `compute_loss_and_gradients`, она должна запустить прямой и обратный проход через оба слоя для вычисления градиентов.\n",
    "\n",
    "Не забудьте реализовать очистку градиентов в начале функции."
   ]
  },
  {
   "cell_type": "code",
   "execution_count": 6,
   "metadata": {},
   "outputs": [
    {
     "name": "stdout",
     "output_type": "stream",
     "text": "Checking gradient for W1\nGradient check passed!\nChecking gradient for B1\nGradient check passed!\nChecking gradient for W2\nGradient check passed!\nChecking gradient for B2\nGradient check passed!\n"
    },
    {
     "data": {
      "text/plain": "True"
     },
     "execution_count": 6,
     "metadata": {},
     "output_type": "execute_result"
    }
   ],
   "source": [
    "# TODO: In model.py, implement compute_loss_and_gradients function\n",
    "model = TwoLayerNet(n_input = train_X.shape[1], n_output = 10, hidden_layer_size = 3, reg = 0)\n",
    "loss = model.compute_loss_and_gradients(train_X[:2], train_y[:2])\n",
    "\n",
    "# TODO Now implement backward pass and aggregate all of the params\n",
    "check_model_gradient(model, train_X[:2], train_y[:2])"
   ]
  },
  {
   "cell_type": "markdown",
   "metadata": {},
   "source": [
    "Теперь добавьте к модели регуляризацию - она должна прибавляться к loss и делать свой вклад в градиенты."
   ]
  },
  {
   "cell_type": "code",
   "execution_count": 7,
   "metadata": {},
   "outputs": [
    {
     "name": "stdout",
     "output_type": "stream",
     "text": "Checking gradient for W1\nGradient check passed!\nChecking gradient for B1\nGradient check passed!\nChecking gradient for W2\nGradient check passed!\nChecking gradient for B2\nGradient check passed!\n"
    },
    {
     "data": {
      "text/plain": "True"
     },
     "execution_count": 7,
     "metadata": {},
     "output_type": "execute_result"
    }
   ],
   "source": [
    "# TODO Now implement l2 regularization in the forward and backward pass\n",
    "model_with_reg = TwoLayerNet(n_input = train_X.shape[1], n_output = 10, hidden_layer_size = 3, reg = 1e1)\n",
    "loss_with_reg = model_with_reg.compute_loss_and_gradients(train_X[:2], train_y[:2])\n",
    "assert loss_with_reg > loss and not np.isclose(loss_with_reg, loss), \\\n",
    "    \"Loss with regularization (%2.4f) should be higher than without it (%2.4f)!\" % (loss, loss_with_reg)\n",
    "\n",
    "check_model_gradient(model_with_reg, train_X[:2], train_y[:2])"
   ]
  },
  {
   "cell_type": "markdown",
   "metadata": {},
   "source": [
    "Также реализуем функцию предсказания (вычисления значения) модели на новых данных.\n",
    "\n",
    "Какое значение точности мы ожидаем увидеть до начала тренировки?"
   ]
  },
  {
   "cell_type": "code",
   "execution_count": 9,
   "metadata": {},
   "outputs": [
    {
     "data": {
      "text/plain": "0.1"
     },
     "execution_count": 9,
     "metadata": {},
     "output_type": "execute_result"
    }
   ],
   "source": [
    "# Finally, implement predict function!\n",
    "\n",
    "# TODO: Implement predict function\n",
    "# What would be the value we expect?\n",
    "multiclass_accuracy(model_with_reg.predict(train_X[:30]), train_y[:30]) "
   ]
  },
  {
   "cell_type": "markdown",
   "metadata": {},
   "source": [
    "# Допишем код для процесса тренировки\n",
    "\n",
    "Если все реализовано корректно, значение функции ошибки должно уменьшаться с каждой эпохой, пусть и медленно. Не беспокойтесь пока про validation accuracy."
   ]
  },
  {
   "cell_type": "code",
   "execution_count": 10,
   "metadata": {},
   "outputs": [
    {
     "name": "stdout",
     "output_type": "stream",
     "text": "Loss: 45.861270, Train accuracy: 0.196667, val accuracy: 0.206000\nLoss: 45.737422, Train accuracy: 0.196667, val accuracy: 0.206000\nLoss: 45.789932, Train accuracy: 0.148222, val accuracy: 0.140000\nLoss: 46.073907, Train accuracy: 0.196667, val accuracy: 0.206000\nLoss: 45.847318, Train accuracy: 0.196667, val accuracy: 0.206000\nLoss: 45.517241, Train accuracy: 0.196667, val accuracy: 0.206000\nLoss: 46.143701, Train accuracy: 0.196667, val accuracy: 0.206000\nLoss: 45.705971, Train accuracy: 0.196667, val accuracy: 0.206000\nLoss: 45.901959, Train accuracy: 0.196667, val accuracy: 0.206000\nLoss: 45.887821, Train accuracy: 0.196667, val accuracy: 0.206000\nLoss: 46.013442, Train accuracy: 0.196667, val accuracy: 0.206000\nLoss: 46.129141, Train accuracy: 0.196667, val accuracy: 0.206000\nLoss: 46.149481, Train accuracy: 0.196667, val accuracy: 0.206000\nLoss: 45.986460, Train accuracy: 0.196667, val accuracy: 0.206000\nLoss: 46.300729, Train accuracy: 0.196667, val accuracy: 0.206000\nLoss: 45.757450, Train accuracy: 0.196667, val accuracy: 0.206000\nLoss: 45.954830, Train accuracy: 0.196667, val accuracy: 0.206000\n"
    },
    {
     "ename": "KeyboardInterrupt",
     "evalue": "",
     "output_type": "error",
     "traceback": [
      "\u001b[1;31m---------------------------------------------------------------------------\u001b[0m",
      "\u001b[1;31mKeyboardInterrupt\u001b[0m                         Traceback (most recent call last)",
      "\u001b[1;32m<ipython-input-10-f4364dceba81>\u001b[0m in \u001b[0;36m<module>\u001b[1;34m\u001b[0m\n\u001b[0;32m      5\u001b[0m \u001b[1;31m# TODO Implement missing pieces in Trainer.fit function\u001b[0m\u001b[1;33m\u001b[0m\u001b[1;33m\u001b[0m\u001b[1;33m\u001b[0m\u001b[0m\n\u001b[0;32m      6\u001b[0m \u001b[1;31m# You should expect loss to go down every epoch, even if it's slow\u001b[0m\u001b[1;33m\u001b[0m\u001b[1;33m\u001b[0m\u001b[1;33m\u001b[0m\u001b[0m\n\u001b[1;32m----> 7\u001b[1;33m \u001b[0mloss_history\u001b[0m\u001b[1;33m,\u001b[0m \u001b[0mtrain_history\u001b[0m\u001b[1;33m,\u001b[0m \u001b[0mval_history\u001b[0m \u001b[1;33m=\u001b[0m \u001b[0mtrainer\u001b[0m\u001b[1;33m.\u001b[0m\u001b[0mfit\u001b[0m\u001b[1;33m(\u001b[0m\u001b[1;33m)\u001b[0m\u001b[1;33m\u001b[0m\u001b[1;33m\u001b[0m\u001b[0m\n\u001b[0m",
      "\u001b[1;32mc:\\Users\\241954\\Desktop\\NN\\nn-limbo\\Task2\\Lexanus686\\trainer.py\u001b[0m in \u001b[0;36mfit\u001b[1;34m(self)\u001b[0m\n\u001b[0;32m    106\u001b[0m                 \u001b[0mbatch_X\u001b[0m \u001b[1;33m=\u001b[0m \u001b[0mself\u001b[0m\u001b[1;33m.\u001b[0m\u001b[0mdataset\u001b[0m\u001b[1;33m.\u001b[0m\u001b[0mtrain_X\u001b[0m\u001b[1;33m[\u001b[0m\u001b[0mbatch_indices\u001b[0m\u001b[1;33m]\u001b[0m\u001b[1;33m\u001b[0m\u001b[1;33m\u001b[0m\u001b[0m\n\u001b[0;32m    107\u001b[0m                 \u001b[0mbatch_y\u001b[0m \u001b[1;33m=\u001b[0m \u001b[0mself\u001b[0m\u001b[1;33m.\u001b[0m\u001b[0mdataset\u001b[0m\u001b[1;33m.\u001b[0m\u001b[0mtrain_y\u001b[0m\u001b[1;33m[\u001b[0m\u001b[0mbatch_indices\u001b[0m\u001b[1;33m]\u001b[0m\u001b[1;33m\u001b[0m\u001b[1;33m\u001b[0m\u001b[0m\n\u001b[1;32m--> 108\u001b[1;33m                 \u001b[0mloss\u001b[0m \u001b[1;33m=\u001b[0m \u001b[0mself\u001b[0m\u001b[1;33m.\u001b[0m\u001b[0mmodel\u001b[0m\u001b[1;33m.\u001b[0m\u001b[0mcompute_loss_and_gradients\u001b[0m\u001b[1;33m(\u001b[0m\u001b[0mbatch_X\u001b[0m\u001b[1;33m,\u001b[0m \u001b[0mbatch_y\u001b[0m\u001b[1;33m)\u001b[0m\u001b[1;33m\u001b[0m\u001b[1;33m\u001b[0m\u001b[0m\n\u001b[0m\u001b[0;32m    109\u001b[0m \u001b[1;33m\u001b[0m\u001b[0m\n\u001b[0;32m    110\u001b[0m                 \u001b[1;32mfor\u001b[0m \u001b[0mparam_name\u001b[0m\u001b[1;33m,\u001b[0m \u001b[0mparam\u001b[0m \u001b[1;32min\u001b[0m \u001b[0mself\u001b[0m\u001b[1;33m.\u001b[0m\u001b[0mmodel\u001b[0m\u001b[1;33m.\u001b[0m\u001b[0mparams\u001b[0m\u001b[1;33m(\u001b[0m\u001b[1;33m)\u001b[0m\u001b[1;33m.\u001b[0m\u001b[0mitems\u001b[0m\u001b[1;33m(\u001b[0m\u001b[1;33m)\u001b[0m\u001b[1;33m:\u001b[0m\u001b[1;33m\u001b[0m\u001b[1;33m\u001b[0m\u001b[0m\n",
      "\u001b[1;32mc:\\Users\\241954\\Desktop\\NN\\nn-limbo\\Task2\\Lexanus686\\model.py\u001b[0m in \u001b[0;36mcompute_loss_and_gradients\u001b[1;34m(self, X, y)\u001b[0m\n\u001b[0;32m     59\u001b[0m           \u001b[1;31m# print(params)\u001b[0m\u001b[1;33m\u001b[0m\u001b[1;33m\u001b[0m\u001b[1;33m\u001b[0m\u001b[0m\n\u001b[0;32m     60\u001b[0m           \u001b[1;31m# print(self.params()[params].value)\u001b[0m\u001b[1;33m\u001b[0m\u001b[1;33m\u001b[0m\u001b[1;33m\u001b[0m\u001b[0m\n\u001b[1;32m---> 61\u001b[1;33m           \u001b[0mloc_loss\u001b[0m\u001b[1;33m,\u001b[0m \u001b[0mloc_grad\u001b[0m \u001b[1;33m=\u001b[0m \u001b[0ml2_regularization\u001b[0m\u001b[1;33m(\u001b[0m\u001b[0mself\u001b[0m\u001b[1;33m.\u001b[0m\u001b[0mparams\u001b[0m\u001b[1;33m(\u001b[0m\u001b[1;33m)\u001b[0m\u001b[1;33m[\u001b[0m\u001b[0mparams\u001b[0m\u001b[1;33m]\u001b[0m\u001b[1;33m.\u001b[0m\u001b[0mvalue\u001b[0m\u001b[1;33m,\u001b[0m \u001b[0mself\u001b[0m\u001b[1;33m.\u001b[0m\u001b[0mreg\u001b[0m\u001b[1;33m)\u001b[0m\u001b[1;33m\u001b[0m\u001b[1;33m\u001b[0m\u001b[0m\n\u001b[0m\u001b[0;32m     62\u001b[0m           \u001b[0mloss\u001b[0m \u001b[1;33m+=\u001b[0m \u001b[0mloc_loss\u001b[0m\u001b[1;33m\u001b[0m\u001b[1;33m\u001b[0m\u001b[0m\n\u001b[0;32m     63\u001b[0m           \u001b[0mself\u001b[0m\u001b[1;33m.\u001b[0m\u001b[0mparams\u001b[0m\u001b[1;33m(\u001b[0m\u001b[1;33m)\u001b[0m\u001b[1;33m[\u001b[0m\u001b[0mparams\u001b[0m\u001b[1;33m]\u001b[0m\u001b[1;33m.\u001b[0m\u001b[0mgrad\u001b[0m \u001b[1;33m+=\u001b[0m \u001b[0mloc_grad\u001b[0m\u001b[1;33m\u001b[0m\u001b[1;33m\u001b[0m\u001b[0m\n",
      "\u001b[1;32mc:\\Users\\241954\\Desktop\\NN\\nn-limbo\\Task2\\Lexanus686\\layers.py\u001b[0m in \u001b[0;36ml2_regularization\u001b[1;34m(W, reg_strength)\u001b[0m\n\u001b[0;32m     60\u001b[0m \u001b[1;33m\u001b[0m\u001b[0m\n\u001b[0;32m     61\u001b[0m     \u001b[0mloss\u001b[0m \u001b[1;33m=\u001b[0m \u001b[0mnp\u001b[0m\u001b[1;33m.\u001b[0m\u001b[0msum\u001b[0m\u001b[1;33m(\u001b[0m\u001b[0mnp\u001b[0m\u001b[1;33m.\u001b[0m\u001b[0msquare\u001b[0m\u001b[1;33m(\u001b[0m\u001b[0mW\u001b[0m\u001b[1;33m)\u001b[0m\u001b[1;33m*\u001b[0m\u001b[0mreg_strength\u001b[0m\u001b[1;33m)\u001b[0m\u001b[1;33m\u001b[0m\u001b[1;33m\u001b[0m\u001b[0m\n\u001b[1;32m---> 62\u001b[1;33m     \u001b[0mgrad\u001b[0m \u001b[1;33m=\u001b[0m \u001b[0mreg_strength\u001b[0m\u001b[1;33m*\u001b[0m\u001b[1;36m2\u001b[0m\u001b[1;33m*\u001b[0m\u001b[0mW\u001b[0m\u001b[1;33m\u001b[0m\u001b[1;33m\u001b[0m\u001b[0m\n\u001b[0m\u001b[0;32m     63\u001b[0m     \u001b[1;32mreturn\u001b[0m \u001b[0mloss\u001b[0m\u001b[1;33m,\u001b[0m \u001b[0mgrad\u001b[0m\u001b[1;33m\u001b[0m\u001b[1;33m\u001b[0m\u001b[0m\n\u001b[0;32m     64\u001b[0m \u001b[1;33m\u001b[0m\u001b[0m\n",
      "\u001b[1;31mKeyboardInterrupt\u001b[0m: "
     ]
    }
   ],
   "source": [
    "model = TwoLayerNet(n_input = train_X.shape[1], n_output = 10, hidden_layer_size = 100, reg = 1e1)\n",
    "dataset = Dataset(train_X, train_y, val_X, val_y)\n",
    "trainer = Trainer(model, dataset, SGD(), learning_rate = 1e-2)\n",
    "\n",
    "# TODO Implement missing pieces in Trainer.fit function\n",
    "# You should expect loss to go down every epoch, even if it's slow\n",
    "loss_history, train_history, val_history = trainer.fit()"
   ]
  },
  {
   "cell_type": "code",
   "execution_count": null,
   "metadata": {},
   "outputs": [],
   "source": [
    "plt.plot(train_history)\n",
    "plt.plot(val_history)"
   ]
  },
  {
   "cell_type": "markdown",
   "metadata": {},
   "source": [
    "# Улучшаем процесс тренировки\n",
    "\n",
    "Мы реализуем несколько ключевых оптимизаций, необходимых для тренировки современных нейросетей."
   ]
  },
  {
   "cell_type": "markdown",
   "metadata": {},
   "source": [
    "## Уменьшение скорости обучения (learning rate decay)\n",
    "\n",
    "Одна из необходимых оптимизаций во время тренировки нейронных сетей - постепенное уменьшение скорости обучения по мере тренировки.\n",
    "\n",
    "Один из стандартных методов - уменьшение скорости обучения (learning rate) каждые N эпох на коэффициент d (часто называемый decay). Значения N и d, как всегда, являются гиперпараметрами и должны подбираться на основе эффективности на проверочных данных (validation data). \n",
    "\n",
    "В нашем случае N будет равным 1."
   ]
  },
  {
   "cell_type": "code",
   "execution_count": 5,
   "metadata": {},
   "outputs": [
    {
     "name": "stdout",
     "output_type": "stream",
     "text": "Loss: 34.014590, Train accuracy: 0.315333, val accuracy: 0.330000\nLoss: 34.068934, Train accuracy: 0.499222, val accuracy: 0.509000\nLoss: 43.250028, Train accuracy: 0.540556, val accuracy: 0.540000\nLoss: 39.780296, Train accuracy: 0.539222, val accuracy: 0.543000\nLoss: 34.196302, Train accuracy: 0.558333, val accuracy: 0.539000\nLoss: 44.815580, Train accuracy: 0.557556, val accuracy: 0.532000\nLoss: 28.992862, Train accuracy: 0.579778, val accuracy: 0.572000\nLoss: 42.626711, Train accuracy: 0.529333, val accuracy: 0.510000\nLoss: 30.650427, Train accuracy: 0.601889, val accuracy: 0.571000\nLoss: 35.225326, Train accuracy: 0.571222, val accuracy: 0.553000\nLoss: 33.434525, Train accuracy: 0.620333, val accuracy: 0.599000\nLoss: 48.175689, Train accuracy: 0.318667, val accuracy: 0.316000\nLoss: 31.484883, Train accuracy: 0.586889, val accuracy: 0.591000\nLoss: 33.738924, Train accuracy: 0.563000, val accuracy: 0.558000\nLoss: 36.606039, Train accuracy: 0.596000, val accuracy: 0.595000\nLoss: 34.283858, Train accuracy: 0.630778, val accuracy: 0.606000\nLoss: 25.662467, Train accuracy: 0.631000, val accuracy: 0.619000\nLoss: 38.343215, Train accuracy: 0.582556, val accuracy: 0.595000\nLoss: 30.163022, Train accuracy: 0.575778, val accuracy: 0.570000\nLoss: 35.633021, Train accuracy: 0.637444, val accuracy: 0.605000\n"
    }
   ],
   "source": [
    "# TODO Implement learning rate decay inside Trainer.fit method\n",
    "# Decay should happen once per epoch\n",
    "\n",
    "model = TwoLayerNet(n_input = train_X.shape[1], n_output = 10, hidden_layer_size = 100, reg = 1e-1)\n",
    "dataset = Dataset(train_X, train_y, val_X, val_y)\n",
    "trainer = Trainer(model, dataset, SGD(), learning_rate_decay=0.99)\n",
    "\n",
    "initial_learning_rate = trainer.learning_rate\n",
    "loss_history, train_history, val_history = trainer.fit()\n",
    "\n",
    "assert trainer.learning_rate < initial_learning_rate, \"Learning rate should've been reduced\"\n",
    "assert trainer.learning_rate > 0.5*initial_learning_rate, \"Learning rate shouldn'tve been reduced that much!\""
   ]
  },
  {
   "cell_type": "markdown",
   "metadata": {},
   "source": [
    "# Накопление импульса (Momentum SGD)\n",
    "\n",
    "Другой большой класс оптимизаций - использование более эффективных методов градиентного спуска. Мы реализуем один из них - накопление импульса (Momentum SGD).\n",
    "\n",
    "Этот метод хранит скорость движения, использует градиент для ее изменения на каждом шаге, и изменяет веса пропорционально значению скорости.\n",
    "(Физическая аналогия: Вместо скорости градиенты теперь будут задавать ускорение, но будет присутствовать сила трения.)\n",
    "\n",
    "```\n",
    "velocity = momentum * velocity - learning_rate * gradient \n",
    "w = w + velocity\n",
    "```\n",
    "\n",
    "`momentum` здесь коэффициент затухания, который тоже является гиперпараметром (к счастью, для него часто есть хорошее значение по умолчанию, типичный диапазон -- 0.8-0.99).\n",
    "\n",
    "Несколько полезных ссылок, где метод разбирается более подробно:  \n",
    "http://cs231n.github.io/neural-networks-3/#sgd  \n",
    "https://distill.pub/2017/momentum/"
   ]
  },
  {
   "cell_type": "code",
   "execution_count": 16,
   "metadata": {},
   "outputs": [
    {
     "name": "stdout",
     "output_type": "stream",
     "text": "Loss: 45.902117, Train accuracy: 0.196667, val accuracy: 0.206000\nLoss: 43.467093, Train accuracy: 0.196667, val accuracy: 0.206000\nLoss: 45.381099, Train accuracy: 0.196667, val accuracy: 0.206000\nLoss: 46.313510, Train accuracy: 0.196667, val accuracy: 0.206000\nLoss: 43.046461, Train accuracy: 0.210778, val accuracy: 0.217000\nLoss: 44.444118, Train accuracy: 0.241222, val accuracy: 0.243000\nLoss: 40.359347, Train accuracy: 0.267667, val accuracy: 0.271000\nLoss: 37.208302, Train accuracy: 0.283778, val accuracy: 0.294000\nLoss: 38.764964, Train accuracy: 0.340111, val accuracy: 0.350000\nLoss: 35.965990, Train accuracy: 0.391000, val accuracy: 0.383000\nLoss: 35.029268, Train accuracy: 0.420778, val accuracy: 0.406000\nLoss: 42.050432, Train accuracy: 0.450000, val accuracy: 0.429000\nLoss: 32.215023, Train accuracy: 0.480444, val accuracy: 0.462000\nLoss: 29.225165, Train accuracy: 0.509000, val accuracy: 0.495000\nLoss: 38.144790, Train accuracy: 0.530667, val accuracy: 0.526000\nLoss: 33.447492, Train accuracy: 0.548333, val accuracy: 0.550000\nLoss: 37.414477, Train accuracy: 0.584333, val accuracy: 0.566000\nLoss: 27.957156, Train accuracy: 0.596889, val accuracy: 0.586000\nLoss: 27.730395, Train accuracy: 0.607889, val accuracy: 0.585000\nLoss: 31.312467, Train accuracy: 0.620222, val accuracy: 0.606000\n"
    }
   ],
   "source": [
    "# TODO: Implement MomentumSGD.update function in optim.py\n",
    "\n",
    "model = TwoLayerNet(n_input = train_X.shape[1], n_output = 10, hidden_layer_size = 100, reg = 1e-1)\n",
    "dataset = Dataset(train_X, train_y, val_X, val_y)\n",
    "trainer = Trainer(model, dataset, MomentumSGD(), learning_rate=1e-4, learning_rate_decay=0.99)\n",
    "\n",
    "# You should see even better results than before!\n",
    "loss_history, train_history, val_history = trainer.fit()"
   ]
  },
  {
   "cell_type": "markdown",
   "metadata": {},
   "source": [
    "# Ну что, давайте уже тренировать сеть!"
   ]
  },
  {
   "cell_type": "markdown",
   "metadata": {},
   "source": [
    "## Последний тест - переобучимся (overfit) на маленьком наборе данных\n",
    "\n",
    "Хороший способ проверить, все ли реализовано корректно - переобучить сеть на маленьком наборе данных.  \n",
    "Наша модель обладает достаточной мощностью, чтобы приблизить маленький набор данных идеально, поэтому мы ожидаем, что на нем мы быстро дойдем до 100% точности на тренировочном наборе. \n",
    "\n",
    "Если этого не происходит, то где-то была допущена ошибка!"
   ]
  },
  {
   "cell_type": "code",
   "execution_count": 17,
   "metadata": {},
   "outputs": [
    {
     "name": "stdout",
     "output_type": "stream",
     "text": "Loss: inf, Train accuracy: 0.147333, val accuracy: 0.147000\nLoss: inf, Train accuracy: 0.098000, val accuracy: 0.094000\nLoss: inf, Train accuracy: 0.088667, val accuracy: 0.109000\nLoss: inf, Train accuracy: 0.102667, val accuracy: 0.144000\nLoss: inf, Train accuracy: 0.125333, val accuracy: 0.112000\nLoss: inf, Train accuracy: 0.120667, val accuracy: 0.103000\nLoss: nan, Train accuracy: 0.068000, val accuracy: 0.049000\nLoss: nan, Train accuracy: 0.068000, val accuracy: 0.049000\nLoss: nan, Train accuracy: 0.068000, val accuracy: 0.049000\nLoss: nan, Train accuracy: 0.068000, val accuracy: 0.049000\nLoss: nan, Train accuracy: 0.068000, val accuracy: 0.049000\nLoss: nan, Train accuracy: 0.068000, val accuracy: 0.049000\nLoss: nan, Train accuracy: 0.068000, val accuracy: 0.049000\nLoss: nan, Train accuracy: 0.068000, val accuracy: 0.049000\nLoss: nan, Train accuracy: 0.068000, val accuracy: 0.049000\nLoss: nan, Train accuracy: 0.068000, val accuracy: 0.049000\nLoss: nan, Train accuracy: 0.068000, val accuracy: 0.049000\nLoss: nan, Train accuracy: 0.068000, val accuracy: 0.049000\nLoss: nan, Train accuracy: 0.068000, val accuracy: 0.049000\nLoss: nan, Train accuracy: 0.068000, val accuracy: 0.049000\nLoss: nan, Train accuracy: 0.068000, val accuracy: 0.049000\nLoss: nan, Train accuracy: 0.068000, val accuracy: 0.049000\nLoss: nan, Train accuracy: 0.068000, val accuracy: 0.049000\nLoss: nan, Train accuracy: 0.068000, val accuracy: 0.049000\nLoss: nan, Train accuracy: 0.068000, val accuracy: 0.049000\nLoss: nan, Train accuracy: 0.068000, val accuracy: 0.049000\nLoss: nan, Train accuracy: 0.068000, val accuracy: 0.049000\nLoss: nan, Train accuracy: 0.068000, val accuracy: 0.049000\nLoss: nan, Train accuracy: 0.068000, val accuracy: 0.049000\nLoss: nan, Train accuracy: 0.068000, val accuracy: 0.049000\nLoss: nan, Train accuracy: 0.068000, val accuracy: 0.049000\nLoss: nan, Train accuracy: 0.068000, val accuracy: 0.049000\nLoss: nan, Train accuracy: 0.068000, val accuracy: 0.049000\nLoss: nan, Train accuracy: 0.068000, val accuracy: 0.049000\nLoss: nan, Train accuracy: 0.068000, val accuracy: 0.049000\nLoss: nan, Train accuracy: 0.068000, val accuracy: 0.049000\nLoss: nan, Train accuracy: 0.068000, val accuracy: 0.049000\nLoss: nan, Train accuracy: 0.068000, val accuracy: 0.049000\nLoss: nan, Train accuracy: 0.068000, val accuracy: 0.049000\nLoss: nan, Train accuracy: 0.068000, val accuracy: 0.049000\nLoss: nan, Train accuracy: 0.068000, val accuracy: 0.049000\nLoss: nan, Train accuracy: 0.068000, val accuracy: 0.049000\nLoss: nan, Train accuracy: 0.068000, val accuracy: 0.049000\nLoss: nan, Train accuracy: 0.068000, val accuracy: 0.049000\nLoss: nan, Train accuracy: 0.068000, val accuracy: 0.049000\nLoss: nan, Train accuracy: 0.068000, val accuracy: 0.049000\nLoss: nan, Train accuracy: 0.068000, val accuracy: 0.049000\nLoss: nan, Train accuracy: 0.068000, val accuracy: 0.049000\nLoss: nan, Train accuracy: 0.068000, val accuracy: 0.049000\nLoss: nan, Train accuracy: 0.068000, val accuracy: 0.049000\nLoss: nan, Train accuracy: 0.068000, val accuracy: 0.049000\nLoss: nan, Train accuracy: 0.068000, val accuracy: 0.049000\nLoss: nan, Train accuracy: 0.068000, val accuracy: 0.049000\nLoss: nan, Train accuracy: 0.068000, val accuracy: 0.049000\nLoss: nan, Train accuracy: 0.068000, val accuracy: 0.049000\nLoss: nan, Train accuracy: 0.068000, val accuracy: 0.049000\nLoss: nan, Train accuracy: 0.068000, val accuracy: 0.049000\nLoss: nan, Train accuracy: 0.068000, val accuracy: 0.049000\nLoss: nan, Train accuracy: 0.068000, val accuracy: 0.049000\nLoss: nan, Train accuracy: 0.068000, val accuracy: 0.049000\nLoss: nan, Train accuracy: 0.068000, val accuracy: 0.049000\nLoss: nan, Train accuracy: 0.068000, val accuracy: 0.049000\nLoss: nan, Train accuracy: 0.068000, val accuracy: 0.049000\nLoss: nan, Train accuracy: 0.068000, val accuracy: 0.049000\nLoss: nan, Train accuracy: 0.068000, val accuracy: 0.049000\nLoss: nan, Train accuracy: 0.068000, val accuracy: 0.049000\nLoss: nan, Train accuracy: 0.068000, val accuracy: 0.049000\nLoss: nan, Train accuracy: 0.068000, val accuracy: 0.049000\nLoss: nan, Train accuracy: 0.068000, val accuracy: 0.049000\nLoss: nan, Train accuracy: 0.068000, val accuracy: 0.049000\nLoss: nan, Train accuracy: 0.068000, val accuracy: 0.049000\nLoss: nan, Train accuracy: 0.068000, val accuracy: 0.049000\nLoss: nan, Train accuracy: 0.068000, val accuracy: 0.049000\nLoss: nan, Train accuracy: 0.068000, val accuracy: 0.049000\nLoss: nan, Train accuracy: 0.068000, val accuracy: 0.049000\nLoss: nan, Train accuracy: 0.068000, val accuracy: 0.049000\nLoss: nan, Train accuracy: 0.068000, val accuracy: 0.049000\nLoss: nan, Train accuracy: 0.068000, val accuracy: 0.049000\nLoss: nan, Train accuracy: 0.068000, val accuracy: 0.049000\nLoss: nan, Train accuracy: 0.068000, val accuracy: 0.049000\nLoss: nan, Train accuracy: 0.068000, val accuracy: 0.049000\nLoss: nan, Train accuracy: 0.068000, val accuracy: 0.049000\nLoss: nan, Train accuracy: 0.068000, val accuracy: 0.049000\nLoss: nan, Train accuracy: 0.068000, val accuracy: 0.049000\nLoss: nan, Train accuracy: 0.068000, val accuracy: 0.049000\nLoss: nan, Train accuracy: 0.068000, val accuracy: 0.049000\nLoss: nan, Train accuracy: 0.068000, val accuracy: 0.049000\nLoss: nan, Train accuracy: 0.068000, val accuracy: 0.049000\nLoss: nan, Train accuracy: 0.068000, val accuracy: 0.049000\nLoss: nan, Train accuracy: 0.068000, val accuracy: 0.049000\nLoss: nan, Train accuracy: 0.068000, val accuracy: 0.049000\nLoss: nan, Train accuracy: 0.068000, val accuracy: 0.049000\nLoss: nan, Train accuracy: 0.068000, val accuracy: 0.049000\nLoss: nan, Train accuracy: 0.068000, val accuracy: 0.049000\nLoss: nan, Train accuracy: 0.068000, val accuracy: 0.049000\nLoss: nan, Train accuracy: 0.068000, val accuracy: 0.049000\nLoss: nan, Train accuracy: 0.068000, val accuracy: 0.049000\nLoss: nan, Train accuracy: 0.068000, val accuracy: 0.049000\nLoss: nan, Train accuracy: 0.068000, val accuracy: 0.049000\nLoss: nan, Train accuracy: 0.068000, val accuracy: 0.049000\nLoss: nan, Train accuracy: 0.068000, val accuracy: 0.049000\nLoss: nan, Train accuracy: 0.068000, val accuracy: 0.049000\nLoss: nan, Train accuracy: 0.068000, val accuracy: 0.049000\nLoss: nan, Train accuracy: 0.068000, val accuracy: 0.049000\nLoss: nan, Train accuracy: 0.068000, val accuracy: 0.049000\nLoss: nan, Train accuracy: 0.068000, val accuracy: 0.049000\nLoss: nan, Train accuracy: 0.068000, val accuracy: 0.049000\nLoss: nan, Train accuracy: 0.068000, val accuracy: 0.049000\nLoss: nan, Train accuracy: 0.068000, val accuracy: 0.049000\nLoss: nan, Train accuracy: 0.068000, val accuracy: 0.049000\nLoss: nan, Train accuracy: 0.068000, val accuracy: 0.049000\nLoss: nan, Train accuracy: 0.068000, val accuracy: 0.049000\nLoss: nan, Train accuracy: 0.068000, val accuracy: 0.049000\nLoss: nan, Train accuracy: 0.068000, val accuracy: 0.049000\nLoss: nan, Train accuracy: 0.068000, val accuracy: 0.049000\nLoss: nan, Train accuracy: 0.068000, val accuracy: 0.049000\nLoss: nan, Train accuracy: 0.068000, val accuracy: 0.049000\nLoss: nan, Train accuracy: 0.068000, val accuracy: 0.049000\nLoss: nan, Train accuracy: 0.068000, val accuracy: 0.049000\nLoss: nan, Train accuracy: 0.068000, val accuracy: 0.049000\nLoss: nan, Train accuracy: 0.068000, val accuracy: 0.049000\nLoss: nan, Train accuracy: 0.068000, val accuracy: 0.049000\nLoss: nan, Train accuracy: 0.068000, val accuracy: 0.049000\nLoss: nan, Train accuracy: 0.068000, val accuracy: 0.049000\nLoss: nan, Train accuracy: 0.068000, val accuracy: 0.049000\nLoss: nan, Train accuracy: 0.068000, val accuracy: 0.049000\nLoss: nan, Train accuracy: 0.068000, val accuracy: 0.049000\nLoss: nan, Train accuracy: 0.068000, val accuracy: 0.049000\nLoss: nan, Train accuracy: 0.068000, val accuracy: 0.049000\nLoss: nan, Train accuracy: 0.068000, val accuracy: 0.049000\nLoss: nan, Train accuracy: 0.068000, val accuracy: 0.049000\nLoss: nan, Train accuracy: 0.068000, val accuracy: 0.049000\nLoss: nan, Train accuracy: 0.068000, val accuracy: 0.049000\nLoss: nan, Train accuracy: 0.068000, val accuracy: 0.049000\nLoss: nan, Train accuracy: 0.068000, val accuracy: 0.049000\nLoss: nan, Train accuracy: 0.068000, val accuracy: 0.049000\nLoss: nan, Train accuracy: 0.068000, val accuracy: 0.049000\nLoss: nan, Train accuracy: 0.068000, val accuracy: 0.049000\nLoss: nan, Train accuracy: 0.068000, val accuracy: 0.049000\nLoss: nan, Train accuracy: 0.068000, val accuracy: 0.049000\nLoss: nan, Train accuracy: 0.068000, val accuracy: 0.049000\nLoss: nan, Train accuracy: 0.068000, val accuracy: 0.049000\nLoss: nan, Train accuracy: 0.068000, val accuracy: 0.049000\nLoss: nan, Train accuracy: 0.068000, val accuracy: 0.049000\nLoss: nan, Train accuracy: 0.068000, val accuracy: 0.049000\nLoss: nan, Train accuracy: 0.068000, val accuracy: 0.049000\nLoss: nan, Train accuracy: 0.068000, val accuracy: 0.049000\nLoss: nan, Train accuracy: 0.068000, val accuracy: 0.049000\n"
    }
   ],
   "source": [
    "data_size = 1500\n",
    "model = TwoLayerNet(n_input = train_X.shape[1], n_output = 10, hidden_layer_size = 100, reg = 1e-1)\n",
    "dataset = Dataset(train_X[:data_size], train_y[:data_size], val_X[:data_size], val_y[:data_size])\n",
    "trainer = Trainer(model, dataset, SGD(), learning_rate=1e-1, num_epochs=150, batch_size=5)\n",
    "\n",
    "# You should expect this to reach 1.0 training accuracy \n",
    "loss_history, train_history, val_history = trainer.fit()"
   ]
  },
  {
   "cell_type": "markdown",
   "metadata": {},
   "source": [
    "Теперь найдем гипепараметры, для которых этот процесс сходится быстрее.\n",
    "Если все реализовано корректно, то существуют параметры, при которых процесс сходится в **20** эпох или еще быстрее.\n",
    "Найдите их!"
   ]
  },
  {
   "cell_type": "code",
   "execution_count": null,
   "metadata": {},
   "outputs": [],
   "source": [
    "# Now, tweak some hyper parameters and make it train to 1.0 accuracy in 20 epochs or less\n",
    "\n",
    "model = TwoLayerNet(n_input = train_X.shape[1], n_output = 10, hidden_layer_size = 100, reg = 1e-1)\n",
    "dataset = Dataset(train_X[:data_size], train_y[:data_size], val_X[:data_size], val_y[:data_size])\n",
    "# TODO: Change any hyperparamers or optimizators to reach training accuracy in 20 epochs\n",
    "trainer = Trainer(model, dataset, SGD(), learning_rate=1e-1, num_epochs=20, batch_size=5)\n",
    "\n",
    "loss_history, train_history, val_history = trainer.fit()"
   ]
  },
  {
   "cell_type": "markdown",
   "metadata": {},
   "source": [
    "# Итак, основное мероприятие!\n",
    "\n",
    "Натренируйте лучшую нейросеть! Можно добавлять и изменять параметры, менять количество нейронов в слоях сети и как угодно экспериментировать. \n",
    "\n",
    "Добейтесь точности лучше **60%** на validation set."
   ]
  },
  {
   "cell_type": "code",
   "execution_count": null,
   "metadata": {},
   "outputs": [],
   "source": [
    "# Let's train the best one-hidden-layer network we can\n",
    "\n",
    "learning_rates = 1e-4\n",
    "reg_strength = 1e-3\n",
    "learning_rate_decay = 0.999\n",
    "hidden_layer_size = 128\n",
    "num_epochs = 200\n",
    "batch_size = 64\n",
    "\n",
    "best_classifier = None\n",
    "best_val_accuracy = 0\n",
    "\n",
    "loss_history = []\n",
    "train_history = []\n",
    "val_history = []\n",
    "\n",
    "# TODO find the best hyperparameters to train the network\n",
    "# Don't hesitate to add new values to the arrays above, perform experiments, use any tricks you want\n",
    "# You should expect to get to at least 40% of valudation accuracy\n",
    "# Save loss/train/history of the best classifier to the variables above\n",
    "data_size = 15\n",
    "model = TwoLayerNet(n_input = train_X.shape[1], n_output = 10, hidden_layer_size = 100, reg = 1e-1)\n",
    "dataset = Dataset(train_X[:data_size], train_y[:data_size], val_X[:data_size], val_y[:data_size])\n",
    "trainer = Trainer(model, dataset, SGD(), learning_rate=1e-2, num_epochs=20, batch_size=5)\n",
    "\n",
    "loss_history, train_history, val_history = trainer.fit()\n",
    "\n",
    "print('best validation accuracy achieved: %f' % best_val_accuracy)"
   ]
  },
  {
   "cell_type": "code",
   "execution_count": null,
   "metadata": {},
   "outputs": [],
   "source": [
    "plt.figure(figsize=(15, 7))\n",
    "plt.subplot(211)\n",
    "plt.title(\"Loss\")\n",
    "plt.plot(loss_history)\n",
    "plt.subplot(212)\n",
    "plt.title(\"Train/validation accuracy\")\n",
    "plt.plot(train_history)\n",
    "plt.plot(val_history)"
   ]
  },
  {
   "cell_type": "markdown",
   "metadata": {},
   "source": [
    "# Как обычно, посмотрим, как наша лучшая модель работает на тестовых данных"
   ]
  },
  {
   "cell_type": "code",
   "execution_count": null,
   "metadata": {},
   "outputs": [],
   "source": [
    "test_pred = best_classifier.predict(test_X)\n",
    "test_accuracy = multiclass_accuracy(test_pred, test_y)\n",
    "print('Neural net test set accuracy: %f' % (test_accuracy, ))"
   ]
  }
 ],
 "metadata": {
  "kernelspec": {
   "display_name": "Python 3",
   "language": "python",
   "name": "python3"
  },
  "language_info": {
   "codemirror_mode": {
    "name": "ipython",
    "version": 3
   },
   "file_extension": ".py",
   "mimetype": "text/x-python",
   "name": "python",
   "nbconvert_exporter": "python",
   "pygments_lexer": "ipython3",
   "version": "3.7.4-final"
  }
 },
 "nbformat": 4,
 "nbformat_minor": 2
}