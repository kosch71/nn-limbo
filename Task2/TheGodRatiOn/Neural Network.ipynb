{
 "cells": [
  {
   "cell_type": "markdown",
   "metadata": {},
   "source": [
    "# Задание 2.1 - Нейронные сети\n",
    "\n",
    "В этом задании вы реализуете и натренируете настоящую нейроную сеть своими руками!\n",
    "\n",
    "В некотором смысле это будет расширением прошлого задания - нам нужно просто составить несколько линейных классификаторов вместе!\n",
    "\n",
    "<img src=\"https://i.redd.it/n9fgba8b0qr01.png\" alt=\"Stack_more_layers\" width=\"400px\"/>"
   ]
  },
  {
   "cell_type": "code",
   "execution_count": 1,
   "metadata": {},
   "outputs": [],
   "source": [
    "import numpy as np\n",
    "import matplotlib.pyplot as plt\n",
    "\n",
    "%matplotlib inline\n",
    "\n",
    "%load_ext autoreload\n",
    "%autoreload 2"
   ]
  },
  {
   "cell_type": "code",
   "execution_count": 2,
   "metadata": {},
   "outputs": [],
   "source": [
    "from dataset import load_svhn, random_split_train_val\n",
    "from gradient_check import check_layer_gradient, check_layer_param_gradient, check_model_gradient\n",
    "from layers import FullyConnectedLayer, ReLULayer\n",
    "from model import TwoLayerNet\n",
    "from trainer import Trainer, Dataset\n",
    "from optim import SGD, MomentumSGD\n",
    "from metrics import multiclass_accuracy"
   ]
  },
  {
   "cell_type": "markdown",
   "metadata": {},
   "source": [
    "# Загружаем данные\n",
    "\n",
    "И разделяем их на training и validation."
   ]
  },
  {
   "cell_type": "code",
   "execution_count": 4,
   "metadata": {},
   "outputs": [],
   "source": [
    "def prepare_for_neural_network(train_X, test_X):\n",
    "    train_flat = train_X.reshape(train_X.shape[0], -1).astype(np.float) / 255.0\n",
    "    test_flat = test_X.reshape(test_X.shape[0], -1).astype(np.float) / 255.0\n",
    "    \n",
    "    # Subtract mean\n",
    "    mean_image = np.mean(train_flat, axis = 0)\n",
    "    train_flat -= mean_image\n",
    "    test_flat -= mean_image\n",
    "    \n",
    "    return train_flat, test_flat\n",
    "    \n",
    "train_X, train_y, test_X, test_y = load_svhn(\"data\", max_train=10000, max_test=1000)    \n",
    "train_X, test_X = prepare_for_neural_network(train_X, test_X)\n",
    "# Split train into train and val\n",
    "train_X, train_y, val_X, val_y = random_split_train_val(train_X, train_y, num_val = 1000)"
   ]
  },
  {
   "cell_type": "markdown",
   "metadata": {},
   "source": [
    "# Как всегда, начинаем с кирпичиков\n",
    "\n",
    "Мы будем реализовывать необходимые нам слои по очереди. Каждый слой должен реализовать:\n",
    "- прямой проход (forward pass), который генерирует выход слоя по входу и запоминает необходимые данные\n",
    "- обратный проход (backward pass), который получает градиент по выходу слоя и вычисляет градиент по входу и по параметрам\n",
    "\n",
    "xНачнем с ReLU, у которого параметров нет."
   ]
  },
  {
   "cell_type": "code",
   "execution_count": 5,
   "metadata": {
    "scrolled": false
   },
   "outputs": [
    {
     "name": "stdout",
     "output_type": "stream",
     "text": [
      "Gradient check passed!\n"
     ]
    }
   ],
   "source": [
    "# TODO: Implement ReLULayer layer in layers.py\n",
    "# Note: you'll need to copy implementation of the gradient_check function from the previous assignment\n",
    "\n",
    "X = np.array([[1,-2,3],\n",
    "              [-1, 2, 0.1]\n",
    "              ])\n",
    "\n",
    "assert check_layer_gradient(ReLULayer(), X)"
   ]
  },
  {
   "cell_type": "markdown",
   "metadata": {},
   "source": [
    "А теперь реализуем полносвязный слой (fully connected layer), у которого будет два массива параметров: W (weights) и B (bias).\n",
    "\n",
    "Все параметры наши слои будут использовать для параметров специальный класс `Param`, в котором будут храниться значения параметров и градиенты этих параметров, вычисляемые во время обратного прохода.\n",
    "\n",
    "Это даст возможность аккумулировать (суммировать) градиенты из разных частей функции потерь, например, из cross-entropy loss и regularization loss."
   ]
  },
  {
   "cell_type": "code",
   "execution_count": 6,
   "metadata": {},
   "outputs": [
    {
     "name": "stdout",
     "output_type": "stream",
     "text": [
      "Gradient check passed!\n",
      "Gradient check passed!\n",
      "Gradient check passed!\n"
     ]
    }
   ],
   "source": [
    "# TODO: Implement FullyConnected layer forward and backward methods\n",
    "assert check_layer_gradient(FullyConnectedLayer(3, 4), X)\n",
    "# TODO: Implement storing gradients for W and B\n",
    "assert check_layer_param_gradient(FullyConnectedLayer(3, 4), X, 'W')\n",
    "assert check_layer_param_gradient(FullyConnectedLayer(3, 4), X, 'B')"
   ]
  },
  {
   "cell_type": "markdown",
   "metadata": {},
   "source": [
    "## Создаем нейронную сеть\n",
    "\n",
    "Теперь мы реализуем простейшую нейронную сеть с двумя полносвязным слоями и нелинейностью ReLU. Реализуйте функцию `compute_loss_and_gradients`, она должна запустить прямой и обратный проход через оба слоя для вычисления градиентов.\n",
    "\n",
    "Не забудьте реализовать очистку градиентов в начале функции."
   ]
  },
  {
   "cell_type": "code",
   "execution_count": 7,
   "metadata": {
    "scrolled": true
   },
   "outputs": [
    {
     "name": "stdout",
     "output_type": "stream",
     "text": [
      "Checking gradient for 0_W\n",
      "Gradient check passed!\n",
      "Checking gradient for 0_B\n",
      "Gradient check passed!\n",
      "Checking gradient for 2_W\n",
      "Gradient check passed!\n",
      "Checking gradient for 2_B\n",
      "Gradient check passed!\n"
     ]
    },
    {
     "data": {
      "text/plain": [
       "True"
      ]
     },
     "execution_count": 7,
     "metadata": {},
     "output_type": "execute_result"
    }
   ],
   "source": [
    "# TODO: In model.py, implement compute_loss_and_gradients function\n",
    "model = TwoLayerNet(n_input = train_X.shape[1], n_output = 10, hidden_layer_size = 3, reg = 0)\n",
    "loss = model.compute_loss_and_gradients(train_X[:2], train_y[:2])\n",
    "\n",
    "# TODO Now implement backward pass and aggregate all of the params\n",
    "check_model_gradient(model, train_X[:2], train_y[:2])"
   ]
  },
  {
   "cell_type": "markdown",
   "metadata": {},
   "source": [
    "Теперь добавьте к модели регуляризацию - она должна прибавляться к loss и делать свой вклад в градиенты."
   ]
  },
  {
   "cell_type": "code",
   "execution_count": 8,
   "metadata": {},
   "outputs": [
    {
     "name": "stdout",
     "output_type": "stream",
     "text": [
      "Checking gradient for 0_W\n",
      "Gradient check passed!\n",
      "Checking gradient for 0_B\n",
      "Gradient check passed!\n",
      "Checking gradient for 2_W\n",
      "Gradient check passed!\n",
      "Checking gradient for 2_B\n",
      "Gradient check passed!\n"
     ]
    },
    {
     "data": {
      "text/plain": [
       "True"
      ]
     },
     "execution_count": 8,
     "metadata": {},
     "output_type": "execute_result"
    }
   ],
   "source": [
    "# TODO Now implement l2 regularization in the forward and backward pass\n",
    "model_with_reg = TwoLayerNet(n_input = train_X.shape[1], n_output = 10, hidden_layer_size = 3, reg = 1e1)\n",
    "loss_with_reg = model_with_reg.compute_loss_and_gradients(train_X[:2], train_y[:2])\n",
    "assert loss_with_reg > loss and not np.isclose(loss_with_reg, loss), \\\n",
    "    \"Loss with regularization (%2.4f) should be higher than without it (%2.4f)!\" % (loss, loss_with_reg)\n",
    "\n",
    "check_model_gradient(model_with_reg, train_X[:2], train_y[:2])"
   ]
  },
  {
   "cell_type": "markdown",
   "metadata": {},
   "source": [
    "Также реализуем функцию предсказания (вычисления значения) модели на новых данных.\n",
    "\n",
    "Какое значение точности мы ожидаем увидеть до начала тренировки?"
   ]
  },
  {
   "cell_type": "code",
   "execution_count": 9,
   "metadata": {},
   "outputs": [
    {
     "data": {
      "text/plain": [
       "0.1"
      ]
     },
     "execution_count": 9,
     "metadata": {},
     "output_type": "execute_result"
    }
   ],
   "source": [
    "# Finally, implement predict function!\n",
    "\n",
    "# TODO: Implement predict function\n",
    "# What would be the value we expect?\n",
    "multiclass_accuracy(model_with_reg.predict(train_X[:30]), train_y[:30]) "
   ]
  },
  {
   "cell_type": "markdown",
   "metadata": {},
   "source": [
    "# Допишем код для процесса тренировки"
   ]
  },
  {
   "cell_type": "code",
   "execution_count": 10,
   "metadata": {},
   "outputs": [
    {
     "name": "stdout",
     "output_type": "stream",
     "text": [
      "Loss: 1.981464, Train accuracy: 0.228111, val accuracy: 0.251000\n",
      "Loss: 1.801773, Train accuracy: 0.410222, val accuracy: 0.423000\n",
      "Loss: 1.284125, Train accuracy: 0.515333, val accuracy: 0.524000\n",
      "Loss: 1.342681, Train accuracy: 0.601000, val accuracy: 0.577000\n",
      "Loss: 1.260655, Train accuracy: 0.664222, val accuracy: 0.636000\n",
      "Loss: 0.770074, Train accuracy: 0.706000, val accuracy: 0.671000\n",
      "Loss: 0.956878, Train accuracy: 0.693000, val accuracy: 0.673000\n",
      "Loss: 0.839628, Train accuracy: 0.717667, val accuracy: 0.675000\n",
      "Loss: 1.291718, Train accuracy: 0.719111, val accuracy: 0.682000\n",
      "Loss: 0.939299, Train accuracy: 0.713889, val accuracy: 0.679000\n",
      "Loss: 1.446909, Train accuracy: 0.757222, val accuracy: 0.709000\n",
      "Loss: 1.124043, Train accuracy: 0.754333, val accuracy: 0.721000\n",
      "Loss: 1.035467, Train accuracy: 0.766333, val accuracy: 0.709000\n",
      "Loss: 1.180259, Train accuracy: 0.762000, val accuracy: 0.705000\n",
      "Loss: 1.181304, Train accuracy: 0.751889, val accuracy: 0.717000\n",
      "Loss: 1.155669, Train accuracy: 0.742889, val accuracy: 0.695000\n",
      "Loss: 1.316504, Train accuracy: 0.796556, val accuracy: 0.720000\n",
      "Loss: 1.477486, Train accuracy: 0.717444, val accuracy: 0.668000\n",
      "Loss: 1.125010, Train accuracy: 0.796444, val accuracy: 0.723000\n",
      "Loss: 1.696877, Train accuracy: 0.808778, val accuracy: 0.719000\n"
     ]
    }
   ],
   "source": [
    "model = TwoLayerNet(n_input = train_X.shape[1], n_output = 10, hidden_layer_size = 100, reg = 0.001)\n",
    "dataset = Dataset(train_X, train_y, val_X, val_y)\n",
    "trainer = Trainer(model, dataset, SGD(), learning_rate=1e-1)\n",
    "\n",
    "# TODO Implement missing pieces in Trainer.fit function\n",
    "# You should expect loss to go down and train and val accuracy go up for every epoch\n",
    "loss_history, train_history, val_history = trainer.fit()"
   ]
  },
  {
   "cell_type": "code",
   "execution_count": 11,
   "metadata": {
    "scrolled": true
   },
   "outputs": [
    {
     "data": {
      "text/plain": [
       "[<matplotlib.lines.Line2D at 0x203576ed788>]"
      ]
     },
     "execution_count": 11,
     "metadata": {},
     "output_type": "execute_result"
    },
    {
     "data": {
      "image/png": "[encoded data removed]",
      "text/plain": [
       "<Figure size 432x288 with 1 Axes>"
      ]
     },
     "metadata": {
      "needs_background": "light"
     },
     "output_type": "display_data"
    }
   ],
   "source": [
    "plt.plot(train_history)\n",
    "plt.plot(val_history)"
   ]
  },
  {
   "cell_type": "markdown",
   "metadata": {},
   "source": [
    "# Улучшаем процесс тренировки\n",
    "\n",
    "Мы реализуем несколько ключевых оптимизаций, необходимых для тренировки современных нейросетей."
   ]
  },
  {
   "cell_type": "markdown",
   "metadata": {},
   "source": [
    "## Уменьшение скорости обучения (learning rate decay)\n",
    "\n",
    "Одна из необходимых оптимизаций во время тренировки нейронных сетей - постепенное уменьшение скорости обучения по мере тренировки.\n",
    "\n",
    "Один из стандартных методов - уменьшение скорости обучения (learning rate) каждые N эпох на коэффициент d (часто называемый decay). Значения N и d, как всегда, являются гиперпараметрами и должны подбираться на основе эффективности на проверочных данных (validation data). \n",
    "\n",
    "В нашем случае N будет равным 1."
   ]
  },
  {
   "cell_type": "code",
   "execution_count": 12,
   "metadata": {},
   "outputs": [
    {
     "name": "stdout",
     "output_type": "stream",
     "text": [
      "Loss: 2.156528, Train accuracy: 0.236111, val accuracy: 0.250000\n",
      "Loss: 2.063751, Train accuracy: 0.425444, val accuracy: 0.418000\n",
      "Loss: 1.738799, Train accuracy: 0.529667, val accuracy: 0.531000\n",
      "Loss: 1.029850, Train accuracy: 0.625556, val accuracy: 0.600000\n",
      "Loss: 1.357826, Train accuracy: 0.666000, val accuracy: 0.649000\n",
      "Loss: 1.839792, Train accuracy: 0.692444, val accuracy: 0.682000\n",
      "Loss: 1.048979, Train accuracy: 0.712000, val accuracy: 0.710000\n",
      "Loss: 1.301110, Train accuracy: 0.712222, val accuracy: 0.675000\n",
      "Loss: 1.784056, Train accuracy: 0.741000, val accuracy: 0.694000\n",
      "Loss: 1.031143, Train accuracy: 0.748667, val accuracy: 0.705000\n",
      "Loss: 0.885317, Train accuracy: 0.741444, val accuracy: 0.707000\n",
      "Loss: 0.692935, Train accuracy: 0.764667, val accuracy: 0.703000\n",
      "Loss: 1.542134, Train accuracy: 0.755889, val accuracy: 0.700000\n",
      "Loss: 0.806335, Train accuracy: 0.774889, val accuracy: 0.707000\n",
      "Loss: 1.205458, Train accuracy: 0.778222, val accuracy: 0.704000\n",
      "Loss: 1.283796, Train accuracy: 0.762889, val accuracy: 0.697000\n",
      "Loss: 0.999899, Train accuracy: 0.776556, val accuracy: 0.712000\n",
      "Loss: 0.801907, Train accuracy: 0.823667, val accuracy: 0.738000\n",
      "Loss: 1.010402, Train accuracy: 0.794889, val accuracy: 0.715000\n",
      "Loss: 0.833162, Train accuracy: 0.819889, val accuracy: 0.717000\n"
     ]
    }
   ],
   "source": [
    "# TODO Implement learning rate decay inside Trainer.fit method\n",
    "# Decay should happen once per epoch\n",
    "\n",
    "model = TwoLayerNet(n_input = train_X.shape[1], n_output = 10, hidden_layer_size = 100, reg = 0.001)\n",
    "dataset = Dataset(train_X, train_y, val_X, val_y)\n",
    "trainer = Trainer(model, dataset, SGD(), learning_rate=1e-1, learning_rate_decay=1.01)\n",
    "\n",
    "initial_learning_rate = trainer.learning_rate\n",
    "loss_history, train_history, val_history = trainer.fit()\n",
    "\n",
    "assert trainer.learning_rate < initial_learning_rate, \"Learning rate should've been reduced\"\n",
    "assert trainer.learning_rate > 0.5*initial_learning_rate, \"Learning rate shouldn'tve been reduced that much!\""
   ]
  },
  {
   "cell_type": "markdown",
   "metadata": {},
   "source": [
    "# Накопление импульса (Momentum SGD)\n",
    "\n",
    "Другой большой класс оптимизаций - использование более эффективных методов градиентного спуска. Мы реализуем один из них - накопление импульса (Momentum SGD).\n",
    "\n",
    "Этот метод хранит скорость движения, использует градиент для ее изменения на каждом шаге, и изменяет веса пропорционально значению скорости.\n",
    "(Физическая аналогия: Вместо скорости градиенты теперь будут задавать ускорение, но будет присутствовать сила трения.)\n",
    "\n",
    "```\n",
    "velocity = momentum * velocity - learning_rate * gradient \n",
    "w = w + velocity\n",
    "```\n",
    "\n",
    "`momentum` здесь коэффициент затухания, который тоже является гиперпараметром (к счастью, для него часто есть хорошее значение по умолчанию, типичный диапазон -- 0.8-0.99).\n",
    "\n",
    "Несколько полезных ссылок, где метод разбирается более подробно:  \n",
    "http://cs231n.github.io/neural-networks-3/#sgd  \n",
    "https://distill.pub/2017/momentum/"
   ]
  },
  {
   "cell_type": "code",
   "execution_count": 13,
   "metadata": {},
   "outputs": [
    {
     "name": "stdout",
     "output_type": "stream",
     "text": [
      "Loss: 2.252894, Train accuracy: 0.196667, val accuracy: 0.206000\n",
      "Loss: 2.197961, Train accuracy: 0.196667, val accuracy: 0.206000\n",
      "Loss: 2.315297, Train accuracy: 0.196667, val accuracy: 0.206000\n",
      "Loss: 2.004465, Train accuracy: 0.196667, val accuracy: 0.206000\n",
      "Loss: 2.090912, Train accuracy: 0.196667, val accuracy: 0.206000\n",
      "Loss: 2.321703, Train accuracy: 0.196667, val accuracy: 0.206000\n",
      "Loss: 2.095986, Train accuracy: 0.196667, val accuracy: 0.206000\n",
      "Loss: 2.174701, Train accuracy: 0.196667, val accuracy: 0.206000\n",
      "Loss: 2.104525, Train accuracy: 0.198333, val accuracy: 0.209000\n",
      "Loss: 2.124267, Train accuracy: 0.223111, val accuracy: 0.226000\n",
      "Loss: 2.044808, Train accuracy: 0.251667, val accuracy: 0.256000\n",
      "Loss: 2.103631, Train accuracy: 0.261778, val accuracy: 0.260000\n",
      "Loss: 1.812827, Train accuracy: 0.273667, val accuracy: 0.270000\n",
      "Loss: 2.039395, Train accuracy: 0.288444, val accuracy: 0.292000\n",
      "Loss: 1.934147, Train accuracy: 0.316333, val accuracy: 0.325000\n",
      "Loss: 1.858645, Train accuracy: 0.343111, val accuracy: 0.339000\n",
      "Loss: 1.888599, Train accuracy: 0.370889, val accuracy: 0.364000\n",
      "Loss: 1.611577, Train accuracy: 0.390778, val accuracy: 0.388000\n",
      "Loss: 1.726395, Train accuracy: 0.412000, val accuracy: 0.407000\n",
      "Loss: 1.814241, Train accuracy: 0.436778, val accuracy: 0.423000\n"
     ]
    }
   ],
   "source": [
    "# TODO: Implement MomentumSGD.update function in optim.py\n",
    "\n",
    "model = TwoLayerNet(n_input = train_X.shape[1], n_output = 10, hidden_layer_size = 100, reg = 0.001)\n",
    "dataset = Dataset(train_X, train_y, val_X, val_y)\n",
    "trainer = Trainer(model, dataset, MomentumSGD(), learning_rate=1e-3, learning_rate_decay=1.01)\n",
    "\n",
    "# You should see even better results than before!\n",
    "loss_history, train_history, val_history = trainer.fit()"
   ]
  },
  {
   "cell_type": "code",
   "execution_count": 14,
   "metadata": {},
   "outputs": [
    {
     "data": {
      "text/plain": [
       "[<matplotlib.lines.Line2D at 0x2035779e888>]"
      ]
     },
     "execution_count": 14,
     "metadata": {},
     "output_type": "execute_result"
    },
    {
     "data": {
      "image/png": "[encoded data removed]",
      "text/plain": [
       "<Figure size 432x288 with 1 Axes>"
      ]
     },
     "metadata": {
      "needs_background": "light"
     },
     "output_type": "display_data"
    }
   ],
   "source": [
    "plt.plot(train_history)\n",
    "plt.plot(val_history)"
   ]
  },
  {
   "cell_type": "markdown",
   "metadata": {},
   "source": [
    "# Ну что, давайте уже тренировать сеть!"
   ]
  },
  {
   "cell_type": "markdown",
   "metadata": {},
   "source": [
    "## Последний тест - переобучимся (overfit) на маленьком наборе данных\n",
    "\n",
    "Хороший способ проверить, все ли реализовано корректно - переобучить сеть на маленьком наборе данных.  \n",
    "Наша модель обладает достаточной мощностью, чтобы приблизить маленький набор данных идеально, поэтому мы ожидаем, что на нем мы быстро дойдем до 100% точности на тренировочном наборе. \n",
    "\n",
    "Если этого не происходит, то где-то была допущена ошибка!"
   ]
  },
  {
   "cell_type": "code",
   "execution_count": 15,
   "metadata": {},
   "outputs": [
    {
     "name": "stdout",
     "output_type": "stream",
     "text": [
      "Loss: 2.326207, Train accuracy: 0.333333, val accuracy: 0.000000\n",
      "Loss: 2.296311, Train accuracy: 0.200000, val accuracy: 0.133333\n",
      "Loss: 2.272028, Train accuracy: 0.200000, val accuracy: 0.133333\n",
      "Loss: 2.324880, Train accuracy: 0.200000, val accuracy: 0.133333\n",
      "Loss: 2.286537, Train accuracy: 0.200000, val accuracy: 0.066667\n",
      "Loss: 2.303686, Train accuracy: 0.200000, val accuracy: 0.066667\n",
      "Loss: 2.210565, Train accuracy: 0.266667, val accuracy: 0.066667\n",
      "Loss: 2.117507, Train accuracy: 0.400000, val accuracy: 0.000000\n",
      "Loss: 1.999537, Train accuracy: 0.400000, val accuracy: 0.000000\n",
      "Loss: 1.778503, Train accuracy: 0.400000, val accuracy: 0.000000\n",
      "Loss: 1.660830, Train accuracy: 0.400000, val accuracy: 0.000000\n",
      "Loss: 2.023748, Train accuracy: 0.400000, val accuracy: 0.000000\n",
      "Loss: 1.462641, Train accuracy: 0.400000, val accuracy: 0.000000\n",
      "Loss: 2.065328, Train accuracy: 0.400000, val accuracy: 0.000000\n",
      "Loss: 1.741440, Train accuracy: 0.400000, val accuracy: 0.000000\n",
      "Loss: 1.421521, Train accuracy: 0.400000, val accuracy: 0.000000\n",
      "Loss: 1.795828, Train accuracy: 0.466667, val accuracy: 0.000000\n",
      "Loss: 1.135481, Train accuracy: 0.400000, val accuracy: 0.000000\n",
      "Loss: 1.266657, Train accuracy: 0.466667, val accuracy: 0.066667\n",
      "Loss: 1.483121, Train accuracy: 0.466667, val accuracy: 0.000000\n",
      "Loss: 1.687251, Train accuracy: 0.466667, val accuracy: 0.000000\n",
      "Loss: 1.218039, Train accuracy: 0.466667, val accuracy: 0.066667\n",
      "Loss: 1.646013, Train accuracy: 0.466667, val accuracy: 0.066667\n",
      "Loss: 1.446657, Train accuracy: 0.533333, val accuracy: 0.066667\n",
      "Loss: 0.871126, Train accuracy: 0.600000, val accuracy: 0.066667\n",
      "Loss: 1.594682, Train accuracy: 0.600000, val accuracy: 0.066667\n",
      "Loss: 1.049181, Train accuracy: 0.666667, val accuracy: 0.066667\n",
      "Loss: 1.590769, Train accuracy: 0.666667, val accuracy: 0.066667\n",
      "Loss: 1.553498, Train accuracy: 0.666667, val accuracy: 0.000000\n",
      "Loss: 0.776334, Train accuracy: 0.666667, val accuracy: 0.066667\n",
      "Loss: 0.995494, Train accuracy: 0.733333, val accuracy: 0.066667\n",
      "Loss: 0.989295, Train accuracy: 0.733333, val accuracy: 0.066667\n",
      "Loss: 0.937670, Train accuracy: 0.733333, val accuracy: 0.066667\n",
      "Loss: 1.111374, Train accuracy: 0.800000, val accuracy: 0.133333\n",
      "Loss: 0.884826, Train accuracy: 0.733333, val accuracy: 0.066667\n",
      "Loss: 1.086325, Train accuracy: 0.800000, val accuracy: 0.066667\n",
      "Loss: 0.379989, Train accuracy: 0.800000, val accuracy: 0.066667\n",
      "Loss: 0.662979, Train accuracy: 0.800000, val accuracy: 0.133333\n",
      "Loss: 0.993126, Train accuracy: 0.800000, val accuracy: 0.066667\n",
      "Loss: 1.236950, Train accuracy: 0.800000, val accuracy: 0.066667\n",
      "Loss: 1.081430, Train accuracy: 0.800000, val accuracy: 0.066667\n",
      "Loss: 0.466632, Train accuracy: 0.800000, val accuracy: 0.066667\n",
      "Loss: 0.888897, Train accuracy: 0.800000, val accuracy: 0.066667\n",
      "Loss: 0.531452, Train accuracy: 0.800000, val accuracy: 0.066667\n",
      "Loss: 0.571170, Train accuracy: 0.866667, val accuracy: 0.066667\n",
      "Loss: 0.493622, Train accuracy: 0.866667, val accuracy: 0.066667\n",
      "Loss: 0.510680, Train accuracy: 0.866667, val accuracy: 0.066667\n",
      "Loss: 0.460316, Train accuracy: 0.933333, val accuracy: 0.066667\n",
      "Loss: 0.805088, Train accuracy: 0.933333, val accuracy: 0.066667\n",
      "Loss: 0.411052, Train accuracy: 1.000000, val accuracy: 0.066667\n",
      "Loss: 0.607411, Train accuracy: 1.000000, val accuracy: 0.066667\n",
      "Loss: 0.613444, Train accuracy: 1.000000, val accuracy: 0.066667\n",
      "Loss: 0.675325, Train accuracy: 1.000000, val accuracy: 0.066667\n",
      "Loss: 0.691209, Train accuracy: 1.000000, val accuracy: 0.066667\n",
      "Loss: 0.491914, Train accuracy: 1.000000, val accuracy: 0.066667\n",
      "Loss: 0.612161, Train accuracy: 1.000000, val accuracy: 0.066667\n",
      "Loss: 0.227708, Train accuracy: 1.000000, val accuracy: 0.066667\n",
      "Loss: 0.202533, Train accuracy: 1.000000, val accuracy: 0.066667\n",
      "Loss: 0.415272, Train accuracy: 1.000000, val accuracy: 0.066667\n",
      "Loss: 0.223431, Train accuracy: 1.000000, val accuracy: 0.066667\n",
      "Loss: 0.511303, Train accuracy: 1.000000, val accuracy: 0.000000\n",
      "Loss: 0.344278, Train accuracy: 1.000000, val accuracy: 0.000000\n",
      "Loss: 0.265555, Train accuracy: 1.000000, val accuracy: 0.000000\n",
      "Loss: 0.285537, Train accuracy: 1.000000, val accuracy: 0.000000\n",
      "Loss: 0.344759, Train accuracy: 1.000000, val accuracy: 0.000000\n",
      "Loss: 0.255700, Train accuracy: 1.000000, val accuracy: 0.000000\n",
      "Loss: 0.247358, Train accuracy: 1.000000, val accuracy: 0.000000\n",
      "Loss: 0.210510, Train accuracy: 1.000000, val accuracy: 0.000000\n",
      "Loss: 0.240953, Train accuracy: 1.000000, val accuracy: 0.000000\n",
      "Loss: 0.302534, Train accuracy: 1.000000, val accuracy: 0.000000\n",
      "Loss: 0.267839, Train accuracy: 1.000000, val accuracy: 0.000000\n",
      "Loss: 0.253749, Train accuracy: 1.000000, val accuracy: 0.000000\n",
      "Loss: 0.252870, Train accuracy: 1.000000, val accuracy: 0.000000\n",
      "Loss: 0.256068, Train accuracy: 1.000000, val accuracy: 0.000000\n",
      "Loss: 0.241270, Train accuracy: 1.000000, val accuracy: 0.000000\n",
      "Loss: 0.270167, Train accuracy: 1.000000, val accuracy: 0.000000\n",
      "Loss: 0.273329, Train accuracy: 1.000000, val accuracy: 0.000000\n",
      "Loss: 0.251816, Train accuracy: 1.000000, val accuracy: 0.000000\n",
      "Loss: 0.217764, Train accuracy: 1.000000, val accuracy: 0.000000\n",
      "Loss: 0.270764, Train accuracy: 1.000000, val accuracy: 0.000000\n",
      "Loss: 0.256492, Train accuracy: 1.000000, val accuracy: 0.000000\n",
      "Loss: 0.227012, Train accuracy: 1.000000, val accuracy: 0.000000\n",
      "Loss: 0.234514, Train accuracy: 1.000000, val accuracy: 0.000000\n",
      "Loss: 0.239808, Train accuracy: 1.000000, val accuracy: 0.000000\n",
      "Loss: 0.212345, Train accuracy: 1.000000, val accuracy: 0.000000\n",
      "Loss: 0.229274, Train accuracy: 1.000000, val accuracy: 0.000000\n",
      "Loss: 0.216997, Train accuracy: 1.000000, val accuracy: 0.000000\n",
      "Loss: 0.216299, Train accuracy: 1.000000, val accuracy: 0.000000\n",
      "Loss: 0.229405, Train accuracy: 1.000000, val accuracy: 0.000000\n",
      "Loss: 0.254015, Train accuracy: 1.000000, val accuracy: 0.000000\n",
      "Loss: 0.229295, Train accuracy: 1.000000, val accuracy: 0.000000\n",
      "Loss: 0.240228, Train accuracy: 1.000000, val accuracy: 0.000000\n",
      "Loss: 0.233932, Train accuracy: 1.000000, val accuracy: 0.000000\n",
      "Loss: 0.225943, Train accuracy: 1.000000, val accuracy: 0.000000\n",
      "Loss: 0.237487, Train accuracy: 1.000000, val accuracy: 0.000000\n",
      "Loss: 0.232131, Train accuracy: 1.000000, val accuracy: 0.000000\n",
      "Loss: 0.218136, Train accuracy: 1.000000, val accuracy: 0.000000\n",
      "Loss: 0.251556, Train accuracy: 1.000000, val accuracy: 0.000000\n",
      "Loss: 0.229992, Train accuracy: 1.000000, val accuracy: 0.000000\n",
      "Loss: 0.227545, Train accuracy: 1.000000, val accuracy: 0.000000\n",
      "Loss: 0.240376, Train accuracy: 1.000000, val accuracy: 0.000000\n",
      "Loss: 0.218919, Train accuracy: 1.000000, val accuracy: 0.000000\n",
      "Loss: 0.250211, Train accuracy: 1.000000, val accuracy: 0.000000\n",
      "Loss: 0.214618, Train accuracy: 1.000000, val accuracy: 0.000000\n",
      "Loss: 0.230431, Train accuracy: 1.000000, val accuracy: 0.000000\n",
      "Loss: 0.228407, Train accuracy: 1.000000, val accuracy: 0.000000\n",
      "Loss: 0.226586, Train accuracy: 1.000000, val accuracy: 0.000000\n",
      "Loss: 0.246258, Train accuracy: 1.000000, val accuracy: 0.000000\n",
      "Loss: 0.221824, Train accuracy: 1.000000, val accuracy: 0.000000\n",
      "Loss: 0.218248, Train accuracy: 1.000000, val accuracy: 0.000000\n",
      "Loss: 0.238154, Train accuracy: 1.000000, val accuracy: 0.000000\n",
      "Loss: 0.219567, Train accuracy: 1.000000, val accuracy: 0.000000\n",
      "Loss: 0.208986, Train accuracy: 1.000000, val accuracy: 0.000000\n",
      "Loss: 0.224732, Train accuracy: 1.000000, val accuracy: 0.000000\n",
      "Loss: 0.229074, Train accuracy: 1.000000, val accuracy: 0.000000\n",
      "Loss: 0.224411, Train accuracy: 1.000000, val accuracy: 0.000000\n",
      "Loss: 0.233796, Train accuracy: 1.000000, val accuracy: 0.000000\n",
      "Loss: 0.227916, Train accuracy: 1.000000, val accuracy: 0.000000\n",
      "Loss: 0.239222, Train accuracy: 1.000000, val accuracy: 0.000000\n",
      "Loss: 0.239453, Train accuracy: 1.000000, val accuracy: 0.000000\n",
      "Loss: 0.218205, Train accuracy: 1.000000, val accuracy: 0.000000\n",
      "Loss: 0.240646, Train accuracy: 1.000000, val accuracy: 0.000000\n",
      "Loss: 0.209062, Train accuracy: 1.000000, val accuracy: 0.000000\n",
      "Loss: 0.236368, Train accuracy: 1.000000, val accuracy: 0.000000\n",
      "Loss: 0.219181, Train accuracy: 1.000000, val accuracy: 0.000000\n",
      "Loss: 0.212003, Train accuracy: 1.000000, val accuracy: 0.000000\n",
      "Loss: 0.213833, Train accuracy: 1.000000, val accuracy: 0.000000\n",
      "Loss: 0.205900, Train accuracy: 1.000000, val accuracy: 0.000000\n",
      "Loss: 0.202361, Train accuracy: 1.000000, val accuracy: 0.000000\n",
      "Loss: 0.241657, Train accuracy: 1.000000, val accuracy: 0.000000\n",
      "Loss: 0.237362, Train accuracy: 1.000000, val accuracy: 0.000000\n"
     ]
    },
    {
     "name": "stdout",
     "output_type": "stream",
     "text": [
      "Loss: 0.228999, Train accuracy: 1.000000, val accuracy: 0.000000\n",
      "Loss: 0.210501, Train accuracy: 1.000000, val accuracy: 0.000000\n",
      "Loss: 0.210876, Train accuracy: 1.000000, val accuracy: 0.000000\n",
      "Loss: 0.213152, Train accuracy: 1.000000, val accuracy: 0.000000\n",
      "Loss: 0.220267, Train accuracy: 1.000000, val accuracy: 0.000000\n",
      "Loss: 0.213064, Train accuracy: 1.000000, val accuracy: 0.000000\n",
      "Loss: 0.225453, Train accuracy: 1.000000, val accuracy: 0.000000\n",
      "Loss: 0.221465, Train accuracy: 1.000000, val accuracy: 0.000000\n",
      "Loss: 0.205337, Train accuracy: 1.000000, val accuracy: 0.000000\n",
      "Loss: 0.227894, Train accuracy: 1.000000, val accuracy: 0.000000\n",
      "Loss: 0.220532, Train accuracy: 1.000000, val accuracy: 0.000000\n",
      "Loss: 0.215665, Train accuracy: 1.000000, val accuracy: 0.000000\n",
      "Loss: 0.228048, Train accuracy: 1.000000, val accuracy: 0.000000\n",
      "Loss: 0.217211, Train accuracy: 1.000000, val accuracy: 0.000000\n",
      "Loss: 0.228547, Train accuracy: 1.000000, val accuracy: 0.000000\n",
      "Loss: 0.221112, Train accuracy: 1.000000, val accuracy: 0.000000\n",
      "Loss: 0.222536, Train accuracy: 1.000000, val accuracy: 0.000000\n",
      "Loss: 0.227838, Train accuracy: 1.000000, val accuracy: 0.000000\n",
      "Loss: 0.225356, Train accuracy: 1.000000, val accuracy: 0.000000\n"
     ]
    }
   ],
   "source": [
    "data_size = 15\n",
    "model = TwoLayerNet(n_input = train_X.shape[1], n_output = 10, hidden_layer_size = 100, reg = 1e-2)\n",
    "dataset = Dataset(train_X[:data_size], train_y[:data_size], val_X[:data_size], val_y[:data_size])\n",
    "trainer = Trainer(model, dataset, SGD(), learning_rate=1e-1, num_epochs=150, batch_size=5)\n",
    "\n",
    "# You should expect this to reach 1.0 training accuracy \n",
    "loss_history, train_history, val_history = trainer.fit()"
   ]
  },
  {
   "cell_type": "markdown",
   "metadata": {},
   "source": [
    "Теперь найдем гипепараметры, для которых этот процесс сходится быстрее.\n",
    "Если все реализовано корректно, то существуют параметры, при которых процесс сходится в **20** эпох или еще быстрее.\n",
    "Найдите их!"
   ]
  },
  {
   "cell_type": "code",
   "execution_count": 48,
   "metadata": {},
   "outputs": [
    {
     "name": "stdout",
     "output_type": "stream",
     "text": [
      "Loss: 2.294469, Train accuracy: 0.200000, val accuracy: 0.066667\n",
      "Loss: 2.257295, Train accuracy: 0.266667, val accuracy: 0.066667\n",
      "Loss: 2.271006, Train accuracy: 0.400000, val accuracy: 0.066667\n",
      "Loss: 2.220039, Train accuracy: 0.400000, val accuracy: 0.000000\n",
      "Loss: 1.832819, Train accuracy: 0.200000, val accuracy: 0.000000\n",
      "Loss: 1.723938, Train accuracy: 0.400000, val accuracy: 0.000000\n",
      "Loss: 1.879884, Train accuracy: 0.466667, val accuracy: 0.066667\n",
      "Loss: 1.740961, Train accuracy: 0.466667, val accuracy: 0.133333\n",
      "Loss: 1.729843, Train accuracy: 0.400000, val accuracy: 0.000000\n",
      "Loss: 1.074631, Train accuracy: 0.333333, val accuracy: 0.066667\n",
      "Loss: 1.645414, Train accuracy: 0.533333, val accuracy: 0.066667\n",
      "Loss: 1.170553, Train accuracy: 0.533333, val accuracy: 0.066667\n",
      "Loss: 1.928692, Train accuracy: 0.533333, val accuracy: 0.000000\n",
      "Loss: 1.329491, Train accuracy: 0.733333, val accuracy: 0.000000\n",
      "Loss: 0.625407, Train accuracy: 0.800000, val accuracy: 0.000000\n",
      "Loss: 1.099170, Train accuracy: 0.800000, val accuracy: 0.000000\n",
      "Loss: 1.003536, Train accuracy: 0.866667, val accuracy: 0.000000\n",
      "Loss: 0.880346, Train accuracy: 1.000000, val accuracy: 0.066667\n"
     ]
    }
   ],
   "source": [
    "# Now, tweak some hyper parameters and make it train to 1.0 accuracy in 20 epochs or less\n",
    "\n",
    "model = TwoLayerNet(n_input = train_X.shape[1], n_output = 10, hidden_layer_size = 100, reg = 0.01)\n",
    "dataset = Dataset(train_X[:data_size], train_y[:data_size], val_X[:data_size], val_y[:data_size])\n",
    "# TODO: Change any hyperparamers or optimizators to reach training accuracy in 20 epochs\n",
    "trainer = Trainer(model, dataset, SGD(), learning_rate=0.3, learning_rate_decay=0.99, num_epochs=18, batch_size=5)\n",
    "\n",
    "#сошлось на 18-ти эпохах тренировки!\n",
    "\n",
    "loss_history, train_history, val_history = trainer.fit()"
   ]
  },
  {
   "cell_type": "markdown",
   "metadata": {},
   "source": [
    "# Итак, основное мероприятие!\n",
    "\n",
    "Натренируйте лучшую нейросеть! Можно добавлять и изменять параметры, менять количество нейронов в слоях сети и как угодно экспериментировать. \n",
    "\n",
    "Добейтесь точности лучше **60%** на validation set."
   ]
  },
  {
   "cell_type": "code",
   "execution_count": 93,
   "metadata": {
    "scrolled": true
   },
   "outputs": [
    {
     "name": "stdout",
     "output_type": "stream",
     "text": [
      "Loss: 2.182625, Train accuracy: 0.284556, val accuracy: 0.309000\n",
      "Loss: 1.811836, Train accuracy: 0.423444, val accuracy: 0.418000\n",
      "Loss: 1.629200, Train accuracy: 0.517556, val accuracy: 0.519000\n",
      "Loss: 1.616976, Train accuracy: 0.595556, val accuracy: 0.604000\n",
      "Loss: 1.377889, Train accuracy: 0.557333, val accuracy: 0.530000\n",
      "Loss: 1.266489, Train accuracy: 0.592889, val accuracy: 0.572000\n",
      "Loss: 1.757086, Train accuracy: 0.561667, val accuracy: 0.562000\n",
      "Loss: 1.613573, Train accuracy: 0.536556, val accuracy: 0.524000\n",
      "Loss: 1.884299, Train accuracy: 0.565111, val accuracy: 0.530000\n",
      "Loss: 1.801029, Train accuracy: 0.585222, val accuracy: 0.560000\n",
      "Loss: 1.407747, Train accuracy: 0.621111, val accuracy: 0.579000\n",
      "Loss: 1.384942, Train accuracy: 0.595778, val accuracy: 0.591000\n",
      "Loss: 1.945659, Train accuracy: 0.583778, val accuracy: 0.558000\n",
      "Loss: 1.796410, Train accuracy: 0.604000, val accuracy: 0.585000\n",
      "Loss: 1.910905, Train accuracy: 0.614556, val accuracy: 0.607000\n",
      "Loss: 1.451375, Train accuracy: 0.646556, val accuracy: 0.625000\n",
      "Loss: 1.602542, Train accuracy: 0.618556, val accuracy: 0.605000\n",
      "Loss: 1.598655, Train accuracy: 0.602000, val accuracy: 0.561000\n",
      "Loss: 1.645481, Train accuracy: 0.602667, val accuracy: 0.579000\n",
      "Loss: 1.681649, Train accuracy: 0.571000, val accuracy: 0.544000\n",
      "Loss: 1.723062, Train accuracy: 0.597778, val accuracy: 0.578000\n",
      "Loss: 1.845025, Train accuracy: 0.558000, val accuracy: 0.551000\n",
      "Loss: 2.091878, Train accuracy: 0.597111, val accuracy: 0.599000\n",
      "Loss: 1.587814, Train accuracy: 0.608667, val accuracy: 0.577000\n",
      "Loss: 1.652803, Train accuracy: 0.616000, val accuracy: 0.616000\n",
      "Loss: 1.791369, Train accuracy: 0.575333, val accuracy: 0.546000\n",
      "Loss: 2.316730, Train accuracy: 0.574111, val accuracy: 0.576000\n",
      "Loss: 1.131900, Train accuracy: 0.588000, val accuracy: 0.585000\n",
      "Loss: 1.416205, Train accuracy: 0.622556, val accuracy: 0.624000\n",
      "Loss: 1.497317, Train accuracy: 0.646778, val accuracy: 0.632000\n",
      "Loss: 1.305612, Train accuracy: 0.596667, val accuracy: 0.588000\n",
      "Loss: 1.505607, Train accuracy: 0.618444, val accuracy: 0.602000\n",
      "Loss: 1.681479, Train accuracy: 0.621556, val accuracy: 0.601000\n",
      "Loss: 1.466344, Train accuracy: 0.629444, val accuracy: 0.604000\n",
      "Loss: 2.046443, Train accuracy: 0.603111, val accuracy: 0.593000\n",
      "Loss: 1.542241, Train accuracy: 0.608667, val accuracy: 0.590000\n",
      "Loss: 1.374255, Train accuracy: 0.600000, val accuracy: 0.565000\n",
      "Loss: 1.808661, Train accuracy: 0.629667, val accuracy: 0.629000\n",
      "Loss: 1.333833, Train accuracy: 0.616667, val accuracy: 0.570000\n",
      "Loss: 1.482192, Train accuracy: 0.649667, val accuracy: 0.632000\n",
      "Loss: 1.515936, Train accuracy: 0.631778, val accuracy: 0.609000\n",
      "Loss: 1.488870, Train accuracy: 0.626667, val accuracy: 0.603000\n",
      "Loss: 1.591175, Train accuracy: 0.640667, val accuracy: 0.636000\n",
      "Loss: 1.645396, Train accuracy: 0.653778, val accuracy: 0.627000\n",
      "Loss: 1.998357, Train accuracy: 0.617222, val accuracy: 0.617000\n",
      "Loss: 1.584576, Train accuracy: 0.601778, val accuracy: 0.572000\n",
      "Loss: 1.409265, Train accuracy: 0.625111, val accuracy: 0.607000\n",
      "Loss: 1.452115, Train accuracy: 0.616556, val accuracy: 0.618000\n",
      "Loss: 1.540554, Train accuracy: 0.537889, val accuracy: 0.514000\n",
      "Loss: 1.407347, Train accuracy: 0.660444, val accuracy: 0.639000\n",
      "Loss: 1.781075, Train accuracy: 0.610556, val accuracy: 0.583000\n",
      "Loss: 1.858513, Train accuracy: 0.615667, val accuracy: 0.571000\n",
      "Loss: 2.509394, Train accuracy: 0.583667, val accuracy: 0.547000\n",
      "Loss: 1.272675, Train accuracy: 0.593444, val accuracy: 0.593000\n",
      "Loss: 1.775743, Train accuracy: 0.592000, val accuracy: 0.587000\n",
      "Loss: 1.384416, Train accuracy: 0.581111, val accuracy: 0.569000\n",
      "Loss: 1.396385, Train accuracy: 0.636444, val accuracy: 0.625000\n",
      "Loss: 1.879665, Train accuracy: 0.614444, val accuracy: 0.565000\n",
      "Loss: 1.448486, Train accuracy: 0.611000, val accuracy: 0.604000\n",
      "Loss: 1.349996, Train accuracy: 0.628444, val accuracy: 0.600000\n",
      "Loss: 1.317239, Train accuracy: 0.630444, val accuracy: 0.627000\n",
      "Loss: 1.549717, Train accuracy: 0.638111, val accuracy: 0.613000\n",
      "Loss: 1.615556, Train accuracy: 0.573333, val accuracy: 0.537000\n",
      "Loss: 1.522377, Train accuracy: 0.624778, val accuracy: 0.612000\n",
      "Loss: 1.495336, Train accuracy: 0.567556, val accuracy: 0.571000\n",
      "Loss: 1.915649, Train accuracy: 0.629667, val accuracy: 0.609000\n",
      "Loss: 1.817108, Train accuracy: 0.590667, val accuracy: 0.600000\n",
      "Loss: 1.628467, Train accuracy: 0.619000, val accuracy: 0.598000\n",
      "Loss: 1.426023, Train accuracy: 0.561222, val accuracy: 0.555000\n",
      "Loss: 1.299564, Train accuracy: 0.619889, val accuracy: 0.582000\n",
      "Loss: 1.603597, Train accuracy: 0.628333, val accuracy: 0.608000\n",
      "Loss: 1.520135, Train accuracy: 0.628556, val accuracy: 0.610000\n",
      "Loss: 1.269708, Train accuracy: 0.643667, val accuracy: 0.621000\n",
      "Loss: 1.645326, Train accuracy: 0.584778, val accuracy: 0.574000\n",
      "Loss: 1.693536, Train accuracy: 0.658778, val accuracy: 0.635000\n",
      "next\n",
      "best validation accuracy achieved: 0.635000\n"
     ]
    }
   ],
   "source": [
    "# Let's train the best one-hidden-layer network we can\n",
    "\n",
    "# learning_rates = 1e-4\n",
    "# reg_strength = 1e-3\n",
    "# learning_rate_decay = 0.999\n",
    "# hidden_layer_size = 128\n",
    "# num_epochs = 200\n",
    "# batch_size = 64\n",
    "\n",
    "learning_rates = [1.1e-1]\n",
    "reg_strengths = [1e-3]\n",
    "learning_rate_decay = [1.008]\n",
    "hidden_layer_sizes = [22]\n",
    "num_epochs = [75]\n",
    "batch_sizes = [64]\n",
    "best_classifier = None\n",
    "best_val_accuracy = None\n",
    "\n",
    "loss_history = []\n",
    "train_history = []\n",
    "val_history = []\n",
    "\n",
    "# TODO find the best hyperparameters to train the network\n",
    "# Don't hesitate to add new values to the arrays above, perform experiments, use any tricks you want\n",
    "# You should expect to get to at least 40% of valudation accuracy\n",
    "# Save loss/train/history of the best classifier to the variables above\n",
    "\n",
    "for learning_rate in learning_rates:\n",
    "    for reg_strength in reg_strengths:\n",
    "        for hidden_layer_size in hidden_layer_sizes:\n",
    "            for num_epoch in num_epochs:\n",
    "                for batch_size in batch_sizes:\n",
    "                    \n",
    "                    model = TwoLayerNet(n_input = train_X.shape[1], \n",
    "                                    n_output = 10, \n",
    "                                    hidden_layer_size = hidden_layer_size, \n",
    "                                    reg = reg_strength)\n",
    "                    dataset = Dataset(train_X, train_y, val_X, val_y)\n",
    "                    trainer = Trainer(model, dataset, MomentumSGD(), \n",
    "                                      learning_rate=learning_rate, \n",
    "                                      num_epochs=num_epoch, batch_size=batch_size)\n",
    "                    loss_history, train_history, val_history = trainer.fit()\n",
    "                    if best_classifier == None:\n",
    "                        best_classifier = model\n",
    "                        best_val_accuracy = val_history[-1]\n",
    "\n",
    "                    if best_val_accuracy<best_val_accuracy:\n",
    "                        best_classifier = model\n",
    "                        best_val_accuracy = val_history[-1]\n",
    "                        best_learning_rate = learning_rate\n",
    "                        best_reg_strength = reg_strength\n",
    "                        best_hidden_layer_size = hidden_layer_size\n",
    "                        best_num_epoch = num_epoch\n",
    "                    print('next')\n",
    "\n",
    "\n",
    "print('best validation accuracy achieved: %f' % best_val_accuracy)"
   ]
  },
  {
   "cell_type": "code",
   "execution_count": 94,
   "metadata": {},
   "outputs": [
    {
     "data": {
      "text/plain": [
       "[<matplotlib.lines.Line2D at 0x2035798aa48>]"
      ]
     },
     "execution_count": 94,
     "metadata": {},
     "output_type": "execute_result"
    },
    {
     "data": {
      "image/png": "[encoded data removed]",
      "text/plain": [
       "<Figure size 1080x504 with 2 Axes>"
      ]
     },
     "metadata": {
      "needs_background": "light"
     },
     "output_type": "display_data"
    }
   ],
   "source": [
    "plt.figure(figsize=(15, 7))\n",
    "plt.subplot(211)\n",
    "plt.title(\"Loss\")\n",
    "plt.plot(loss_history)\n",
    "plt.subplot(212)\n",
    "plt.title(\"Train/validation accuracy\")\n",
    "plt.plot(train_history)\n",
    "plt.plot(val_history)"
   ]
  },
  {
   "cell_type": "markdown",
   "metadata": {},
   "source": [
    "# Как обычно, посмотрим, как наша лучшая модель работает на тестовых данных"
   ]
  },
  {
   "cell_type": "code",
   "execution_count": 96,
   "metadata": {
    "scrolled": true
   },
   "outputs": [
    {
     "name": "stdout",
     "output_type": "stream",
     "text": [
      "Neural net test set accuracy: 0.571000\n"
     ]
    }
   ],
   "source": [
    "test_pred = best_classifier.predict(test_X)\n",
    "test_accuracy = multiclass_accuracy(test_pred, test_y)\n",
    "print('Neural net test set accuracy: %f' % (test_accuracy, ))"
   ]
  },
  {
   "cell_type": "code",
   "execution_count": null,
   "metadata": {},
   "outputs": [],
   "source": []
  }
 ],
 "metadata": {
  "kernelspec": {
   "display_name": "Python 3",
   "language": "python",
   "name": "python3"
  },
  "language_info": {
   "codemirror_mode": {
    "name": "ipython",
    "version": 3
   },
   "file_extension": ".py",
   "mimetype": "text/x-python",
   "name": "python",
   "nbconvert_exporter": "python",
   "pygments_lexer": "ipython3",
   "version": "3.7.4"
  }
 },
 "nbformat": 4,
 "nbformat_minor": 2
}
