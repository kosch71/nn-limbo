{
 "cells": [
  {
   "cell_type": "markdown",
   "metadata": {},
   "source": [
    "# Задание 2.1 - Нейронные сети\n",
    "\n",
    "В этом задании вы реализуете и натренируете настоящую нейроную сеть своими руками!\n",
    "\n",
    "В некотором смысле это будет расширением прошлого задания - нам нужно просто составить несколько линейных классификаторов вместе!\n",
    "\n",
    "<img src=\"https://i.redd.it/n9fgba8b0qr01.png\" alt=\"Stack_more_layers\" width=\"400px\"/>"
   ]
  },
  {
   "cell_type": "code",
   "execution_count": 1,
   "metadata": {
    "pycharm": {
     "is_executing": false
    }
   },
   "outputs": [],
   "source": [
    "import numpy as np\n",
    "import matplotlib.pyplot as plt\n",
    "\n",
    "%matplotlib inline\n",
    "\n",
    "%load_ext autoreload\n",
    "%autoreload 2"
   ]
  },
  {
   "cell_type": "code",
   "execution_count": 2,
   "metadata": {
    "pycharm": {
     "is_executing": false
    }
   },
   "outputs": [],
   "source": [
    "from dataset import load_svhn, random_split_train_val\n",
    "from gradient_check import check_layer_gradient, check_layer_param_gradient, check_model_gradient\n",
    "from layers import FullyConnectedLayer, ReLULayer\n",
    "from model import TwoLayerNet\n",
    "from trainer import Trainer, Dataset\n",
    "from optim import SGD, MomentumSGD\n",
    "from metrics import multiclass_accuracy"
   ]
  },
  {
   "cell_type": "markdown",
   "metadata": {},
   "source": [
    "# Загружаем данные\n",
    "\n",
    "И разделяем их на training и validation."
   ]
  },
  {
   "cell_type": "code",
   "execution_count": 3,
   "metadata": {
    "pycharm": {
     "is_executing": false
    }
   },
   "outputs": [],
   "source": [
    "def prepare_for_neural_network(train_X, test_X):\n",
    "    train_flat = train_X.reshape(train_X.shape[0], -1).astype(np.float) / 255.0\n",
    "    test_flat = test_X.reshape(test_X.shape[0], -1).astype(np.float) / 255.0\n",
    "    \n",
    "    # Subtract mean\n",
    "    mean_image = np.mean(train_flat, axis = 0)\n",
    "    train_flat -= mean_image\n",
    "    test_flat -= mean_image\n",
    "    \n",
    "    return train_flat, test_flat\n",
    "    \n",
    "train_X, train_y, test_X, test_y = load_svhn(\"data\", max_train=10000, max_test=1000)    \n",
    "train_X, test_X = prepare_for_neural_network(train_X, test_X)\n",
    "# Split train into train and val\n",
    "train_X, train_y, val_X, val_y = random_split_train_val(train_X, train_y, num_val = 1000)"
   ]
  },
  {
   "cell_type": "markdown",
   "metadata": {},
   "source": [
    "# Как всегда, начинаем с кирпичиков\n",
    "\n",
    "Мы будем реализовывать необходимые нам слои по очереди. Каждый слой должен реализовать:\n",
    "- прямой проход (forward pass), который генерирует выход слоя по входу и запоминает необходимые данные\n",
    "- обратный проход (backward pass), который получает градиент по выходу слоя и вычисляет градиент по входу и по параметрам\n",
    "\n",
    "Начнем с ReLU, у которого параметров нет."
   ]
  },
  {
   "cell_type": "code",
   "execution_count": 4,
   "metadata": {
    "scrolled": false,
    "pycharm": {
     "is_executing": false
    }
   },
   "outputs": [
    {
     "name": "stdout",
     "text": [
      "Gradient check passed!\n"
     ],
     "output_type": "stream"
    }
   ],
   "source": [
    "# TODO: Implement ReLULayer layer in layers.py\n",
    "# Note: you'll need to copy implementation of the gradient_check function from the previous assignment\n",
    "\n",
    "X = np.array([[1,-2,3],\n",
    "              [-1, 2, 0.1]\n",
    "              ])\n",
    "\n",
    "assert check_layer_gradient(ReLULayer(), X)"
   ]
  },
  {
   "cell_type": "markdown",
   "metadata": {},
   "source": [
    "А теперь реализуем полносвязный слой (fully connected layer), у которого будет два массива параметров: W (weights) и B (bias).\n",
    "\n",
    "Все параметры наши слои будут использовать для параметров специальный класс `Param`, в котором будут храниться значения параметров и градиенты этих параметров, вычисляемые во время обратного прохода.\n",
    "\n",
    "Это даст возможность аккумулировать (суммировать) градиенты из разных частей функции потерь, например, из cross-entropy loss и regularization loss."
   ]
  },
  {
   "cell_type": "code",
   "execution_count": 5,
   "metadata": {
    "pycharm": {
     "is_executing": false
    }
   },
   "outputs": [
    {
     "name": "stdout",
     "text": [
      "Gradient check passed!\nGradient check passed!\nGradient check passed!\n"
     ],
     "output_type": "stream"
    }
   ],
   "source": [
    "# TODO: Implement FullyConnected layer forward and backward methods\n",
    "assert check_layer_gradient(FullyConnectedLayer(3, 4), X)\n",
    "# TODO: Implement storing gradients for W and B\n",
    "assert check_layer_param_gradient(FullyConnectedLayer(3, 4), X, 'W')\n",
    "assert check_layer_param_gradient(FullyConnectedLayer(3, 4), X, 'B')"
   ]
  },
  {
   "cell_type": "markdown",
   "metadata": {},
   "source": [
    "## Создаем нейронную сеть\n",
    "\n",
    "Теперь мы реализуем простейшую нейронную сеть с двумя полносвязным слоями и нелинейностью ReLU. Реализуйте функцию `compute_loss_and_gradients`, она должна запустить прямой и обратный проход через оба слоя для вычисления градиентов.\n",
    "\n",
    "Не забудьте реализовать очистку градиентов в начале функции."
   ]
  },
  {
   "cell_type": "code",
   "execution_count": 6,
   "metadata": {
    "pycharm": {
     "is_executing": false
    }
   },
   "outputs": [
    {
     "name": "stdout",
     "text": [
      "Checking gradient for W1\n",
      "Gradient check passed!\nChecking gradient for B1\nGradient check passed!\nChecking gradient for W2\nGradient check passed!\nChecking gradient for B2\nGradient check passed!\n"
     ],
     "output_type": "stream"
    },
    {
     "data": {
      "text/plain": "True"
     },
     "metadata": {},
     "output_type": "execute_result",
     "execution_count": 6
    }
   ],
   "source": [
    "# TODO: In model.py, implement compute_loss_and_gradients function\n",
    "model = TwoLayerNet(n_input = train_X.shape[1], n_output = 10, hidden_layer_size = 3, reg = 0)\n",
    "loss = model.compute_loss_and_gradients(train_X[:2], train_y[:2])\n",
    "\n",
    "# TODO Now implement backward pass and aggregate all of the params\n",
    "check_model_gradient(model, train_X[:2], train_y[:2])"
   ]
  },
  {
   "cell_type": "markdown",
   "metadata": {},
   "source": [
    "Теперь добавьте к модели регуляризацию - она должна прибавляться к loss и делать свой вклад в градиенты."
   ]
  },
  {
   "cell_type": "code",
   "execution_count": 9,
   "metadata": {
    "pycharm": {
     "is_executing": false
    }
   },
   "outputs": [
    {
     "name": "stdout",
     "text": [
      "Checking gradient for W1\n",
      "Gradient check passed!\nChecking gradient for B1\nGradient check passed!\nChecking gradient for W2\nGradient check passed!\nChecking gradient for B2\nGradient check passed!\n"
     ],
     "output_type": "stream"
    },
    {
     "data": {
      "text/plain": "True"
     },
     "metadata": {},
     "output_type": "execute_result",
     "execution_count": 9
    }
   ],
   "source": [
    "# TODO Now implement l2 regularization in the forward and backward pass\n",
    "model_with_reg = TwoLayerNet(n_input = train_X.shape[1], n_output = 10, hidden_layer_size = 3, reg = 1e1)\n",
    "loss_with_reg = model_with_reg.compute_loss_and_gradients(train_X[:2], train_y[:2])\n",
    "assert loss_with_reg > loss and not np.isclose(loss_with_reg, loss), \\\n",
    "    \"Loss with regularization (%2.4f) should be higher than without it (%2.4f)!\" % (loss, loss_with_reg)\n",
    "\n",
    "check_model_gradient(model_with_reg, train_X[:2], train_y[:2])"
   ]
  },
  {
   "cell_type": "markdown",
   "metadata": {},
   "source": [
    "Также реализуем функцию предсказания (вычисления значения) модели на новых данных.\n",
    "\n",
    "Какое значение точности мы ожидаем увидеть до начала тренировки?"
   ]
  },
  {
   "cell_type": "code",
   "execution_count": 10,
   "metadata": {
    "pycharm": {
     "is_executing": false
    }
   },
   "outputs": [
    {
     "data": {
      "text/plain": "0.03333333333333333"
     },
     "metadata": {},
     "output_type": "execute_result",
     "execution_count": 10
    }
   ],
   "source": [
    "# Finally, implement predict function!\n",
    "\n",
    "# TODO: Implement predict function\n",
    "# What would be the value we expect?\n",
    "multiclass_accuracy(model_with_reg.predict(train_X[:30]), train_y[:30]) "
   ]
  },
  {
   "cell_type": "markdown",
   "metadata": {},
   "source": [
    "# Допишем код для процесса тренировки\n",
    "\n",
    "Если все реализовано корректно, значение функции ошибки должно уменьшаться с каждой эпохой, пусть и медленно. Не беспокойтесь пока про validation accuracy."
   ]
  },
  {
   "cell_type": "code",
   "execution_count": 11,
   "metadata": {
    "pycharm": {
     "is_executing": false
    }
   },
   "outputs": [
    {
     "name": "stdout",
     "text": [
      "Loss: 2.302818, Train accuracy: 0.196667, val accuracy: 0.206000\n",
      "Loss: 2.302876, Train accuracy: 0.196667, val accuracy: 0.206000\n",
      "Loss: 2.302674, Train accuracy: 0.148222, val accuracy: 0.140000\n",
      "Loss: 2.303106, Train accuracy: 0.196667, val accuracy: 0.206000\n",
      "Loss: 2.302997, Train accuracy: 0.196667, val accuracy: 0.206000\n",
      "Loss: 2.302942, Train accuracy: 0.196667, val accuracy: 0.206000\n",
      "Loss: 2.302113, Train accuracy: 0.196667, val accuracy: 0.206000\n",
      "Loss: 2.301814, Train accuracy: 0.196667, val accuracy: 0.206000\n",
      "Loss: 2.303081, Train accuracy: 0.196667, val accuracy: 0.206000\n",
      "Loss: 2.303213, Train accuracy: 0.196667, val accuracy: 0.206000\n",
      "Loss: 2.302050, Train accuracy: 0.148222, val accuracy: 0.140000\n",
      "Loss: 2.303035, Train accuracy: 0.196667, val accuracy: 0.206000\n",
      "Loss: 2.302030, Train accuracy: 0.196667, val accuracy: 0.206000\n",
      "Loss: 2.301012, Train accuracy: 0.196667, val accuracy: 0.206000\n",
      "Loss: 2.301808, Train accuracy: 0.196667, val accuracy: 0.206000\n",
      "Loss: 2.301886, Train accuracy: 0.196667, val accuracy: 0.206000\n",
      "Loss: 2.301887, Train accuracy: 0.196667, val accuracy: 0.206000\n",
      "Loss: 2.301971, Train accuracy: 0.196667, val accuracy: 0.206000\n",
      "Loss: 2.302480, Train accuracy: 0.196667, val accuracy: 0.206000\n",
      "Loss: 2.302243, Train accuracy: 0.196667, val accuracy: 0.206000\n"
     ],
     "output_type": "stream"
    }
   ],
   "source": [
    "model = TwoLayerNet(n_input = train_X.shape[1], n_output = 10, hidden_layer_size = 100, reg = 1e1)\n",
    "dataset = Dataset(train_X, train_y, val_X, val_y)\n",
    "trainer = Trainer(model, dataset, SGD(), learning_rate = 1e-2)\n",
    "\n",
    "# TODO Implement missing pieces in Trainer.fit function\n",
    "# You should expect loss to go down every epoch, even if it's slow\n",
    "loss_history, train_history, val_history = trainer.fit()"
   ]
  },
  {
   "cell_type": "code",
   "execution_count": 12,
   "metadata": {
    "pycharm": {
     "is_executing": false
    }
   },
   "outputs": [
    {
     "data": {
      "text/plain": "[<matplotlib.lines.Line2D at 0x236c7aa4048>]"
     },
     "metadata": {},
     "output_type": "execute_result",
     "execution_count": 12
    },
    {
     "data": {
      "text/plain": "<Figure size 432x288 with 1 Axes>",
      "image/png": "[encoded data removed]"
     },
     "metadata": {
      "needs_background": "light"
     },
     "output_type": "display_data"
    }
   ],
   "source": [
    "plt.plot(train_history)\n",
    "plt.plot(val_history)"
   ]
  },
  {
   "cell_type": "markdown",
   "metadata": {},
   "source": [
    "# Улучшаем процесс тренировки\n",
    "\n",
    "Мы реализуем несколько ключевых оптимизаций, необходимых для тренировки современных нейросетей."
   ]
  },
  {
   "cell_type": "markdown",
   "metadata": {},
   "source": [
    "## Уменьшение скорости обучения (learning rate decay)\n",
    "\n",
    "Одна из необходимых оптимизаций во время тренировки нейронных сетей - постепенное уменьшение скорости обучения по мере тренировки.\n",
    "\n",
    "Один из стандартных методов - уменьшение скорости обучения (learning rate) каждые N эпох на коэффициент d (часто называемый decay). Значения N и d, как всегда, являются гиперпараметрами и должны подбираться на основе эффективности на проверочных данных (validation data). \n",
    "\n",
    "В нашем случае N будет равным 1."
   ]
  },
  {
   "cell_type": "code",
   "execution_count": 13,
   "metadata": {
    "pycharm": {
     "is_executing": false
    }
   },
   "outputs": [
    {
     "name": "stdout",
     "text": [
      "Loss: 2.294628, Train accuracy: 0.196667, val accuracy: 0.206000\n",
      "Loss: 2.281214, Train accuracy: 0.196667, val accuracy: 0.206000\n",
      "Loss: 2.272337, Train accuracy: 0.196667, val accuracy: 0.206000\n",
      "Loss: 2.317140, Train accuracy: 0.196667, val accuracy: 0.206000\n",
      "Loss: 2.246387, Train accuracy: 0.196667, val accuracy: 0.206000\n",
      "Loss: 2.315039, Train accuracy: 0.196667, val accuracy: 0.206000\n",
      "Loss: 2.244139, Train accuracy: 0.196667, val accuracy: 0.206000\n",
      "Loss: 2.300261, Train accuracy: 0.196667, val accuracy: 0.206000\n",
      "Loss: 2.329287, Train accuracy: 0.196667, val accuracy: 0.206000\n",
      "Loss: 2.313524, Train accuracy: 0.196667, val accuracy: 0.206000\n",
      "Loss: 2.224472, Train accuracy: 0.196667, val accuracy: 0.206000\n",
      "Loss: 2.328424, Train accuracy: 0.196667, val accuracy: 0.206000\n",
      "Loss: 2.232266, Train accuracy: 0.196667, val accuracy: 0.206000\n",
      "Loss: 2.204450, Train accuracy: 0.196667, val accuracy: 0.206000\n",
      "Loss: 2.218551, Train accuracy: 0.196667, val accuracy: 0.206000\n",
      "Loss: 2.273748, Train accuracy: 0.196667, val accuracy: 0.206000\n",
      "Loss: 2.225100, Train accuracy: 0.196667, val accuracy: 0.206000\n",
      "Loss: 2.314547, Train accuracy: 0.196667, val accuracy: 0.206000\n",
      "Loss: 2.309750, Train accuracy: 0.196667, val accuracy: 0.206000\n",
      "Loss: 2.221019, Train accuracy: 0.196667, val accuracy: 0.206000\n"
     ],
     "output_type": "stream"
    }
   ],
   "source": [
    "# TODO Implement learning rate decay inside Trainer.fit method\n",
    "# Decay should happen once per epoch\n",
    "\n",
    "model = TwoLayerNet(n_input = train_X.shape[1], n_output = 10, hidden_layer_size = 100, reg = 1e-1)\n",
    "dataset = Dataset(train_X, train_y, val_X, val_y)\n",
    "trainer = Trainer(model, dataset, SGD(), learning_rate_decay=0.99)\n",
    "\n",
    "initial_learning_rate = trainer.learning_rate\n",
    "loss_history, train_history, val_history = trainer.fit()\n",
    "\n",
    "assert trainer.learning_rate < initial_learning_rate, \"Learning rate should've been reduced\"\n",
    "assert trainer.learning_rate > 0.5*initial_learning_rate, \"Learning rate shouldn'tve been reduced that much!\""
   ]
  },
  {
   "cell_type": "markdown",
   "metadata": {},
   "source": [
    "# Накопление импульса (Momentum SGD)\n",
    "\n",
    "Другой большой класс оптимизаций - использование более эффективных методов градиентного спуска. Мы реализуем один из них - накопление импульса (Momentum SGD).\n",
    "\n",
    "Этот метод хранит скорость движения, использует градиент для ее изменения на каждом шаге, и изменяет веса пропорционально значению скорости.\n",
    "(Физическая аналогия: Вместо скорости градиенты теперь будут задавать ускорение, но будет присутствовать сила трения.)\n",
    "\n",
    "```\n",
    "velocity = momentum * velocity - learning_rate * gradient \n",
    "w = w + velocity\n",
    "```\n",
    "\n",
    "`momentum` здесь коэффициент затухания, который тоже является гиперпараметром (к счастью, для него часто есть хорошее значение по умолчанию, типичный диапазон -- 0.8-0.99).\n",
    "\n",
    "Несколько полезных ссылок, где метод разбирается более подробно:  \n",
    "http://cs231n.github.io/neural-networks-3/#sgd  \n",
    "https://distill.pub/2017/momentum/"
   ]
  },
  {
   "cell_type": "code",
   "execution_count": 14,
   "metadata": {
    "pycharm": {
     "is_executing": false
    }
   },
   "outputs": [
    {
     "name": "stdout",
     "text": [
      "Loss: 2.316185, Train accuracy: 0.196667, val accuracy: 0.206000\n",
      "Loss: 2.304898, Train accuracy: 0.196667, val accuracy: 0.206000\n",
      "Loss: 2.299940, Train accuracy: 0.196667, val accuracy: 0.206000\n",
      "Loss: 2.299335, Train accuracy: 0.196667, val accuracy: 0.206000\n",
      "Loss: 2.315740, Train accuracy: 0.196667, val accuracy: 0.206000\n",
      "Loss: 2.278861, Train accuracy: 0.196667, val accuracy: 0.206000\n",
      "Loss: 2.307875, Train accuracy: 0.196667, val accuracy: 0.206000\n",
      "Loss: 2.312045, Train accuracy: 0.196667, val accuracy: 0.206000\n",
      "Loss: 2.266296, Train accuracy: 0.196667, val accuracy: 0.206000\n",
      "Loss: 2.288000, Train accuracy: 0.196667, val accuracy: 0.206000\n",
      "Loss: 2.266315, Train accuracy: 0.196667, val accuracy: 0.206000\n",
      "Loss: 2.277405, Train accuracy: 0.196667, val accuracy: 0.206000\n",
      "Loss: 2.272121, Train accuracy: 0.196667, val accuracy: 0.206000\n",
      "Loss: 2.366782, Train accuracy: 0.196667, val accuracy: 0.206000\n",
      "Loss: 2.241855, Train accuracy: 0.196667, val accuracy: 0.206000\n",
      "Loss: 2.257527, Train accuracy: 0.196667, val accuracy: 0.206000\n",
      "Loss: 2.221800, Train accuracy: 0.196667, val accuracy: 0.206000\n",
      "Loss: 2.271886, Train accuracy: 0.196667, val accuracy: 0.206000\n",
      "Loss: 2.279945, Train accuracy: 0.196667, val accuracy: 0.206000\n",
      "Loss: 2.293157, Train accuracy: 0.196667, val accuracy: 0.206000\n"
     ],
     "output_type": "stream"
    }
   ],
   "source": [
    "# TODO: Implement MomentumSGD.update function in optim.py\n",
    "\n",
    "model = TwoLayerNet(n_input = train_X.shape[1], n_output = 10, hidden_layer_size = 100, reg = 1e-1)\n",
    "dataset = Dataset(train_X, train_y, val_X, val_y)\n",
    "trainer = Trainer(model, dataset, MomentumSGD(), learning_rate=1e-4, learning_rate_decay=0.99)\n",
    "\n",
    "# You should see even better results than before!\n",
    "loss_history, train_history, val_history = trainer.fit()"
   ]
  },
  {
   "cell_type": "markdown",
   "metadata": {},
   "source": [
    "# Ну что, давайте уже тренировать сеть!"
   ]
  },
  {
   "cell_type": "markdown",
   "metadata": {},
   "source": [
    "## Последний тест - переобучимся (overfit) на маленьком наборе данных\n",
    "\n",
    "Хороший способ проверить, все ли реализовано корректно - переобучить сеть на маленьком наборе данных.  \n",
    "Наша модель обладает достаточной мощностью, чтобы приблизить маленький набор данных идеально, поэтому мы ожидаем, что на нем мы быстро дойдем до 100% точности на тренировочном наборе. \n",
    "\n",
    "Если этого не происходит, то где-то была допущена ошибка!"
   ]
  },
  {
   "cell_type": "code",
   "execution_count": 15,
   "metadata": {
    "pycharm": {
     "is_executing": false
    }
   },
   "outputs": [
    {
     "name": "stdout",
     "text": [
      "Loss: 2.327363, Train accuracy: 0.200000, val accuracy: 0.133333\nLoss: 2.327215, Train accuracy: 0.200000, val accuracy: 0.133333\nLoss: 2.355963, Train accuracy: 0.200000, val accuracy: 0.133333\nLoss: 2.301547, Train accuracy: 0.200000, val accuracy: 0.133333\nLoss: 2.265498, Train accuracy: 0.200000, val accuracy: 0.133333\n",
      "Loss: 2.247338, Train accuracy: 0.266667, val accuracy: 0.000000\nLoss: 2.313070, Train accuracy: 0.266667, val accuracy: 0.000000\nLoss: 2.171861, Train accuracy: 0.266667, val accuracy: 0.000000\nLoss: 2.087091, Train accuracy: 0.400000, val accuracy: 0.000000\nLoss: 1.905891, Train accuracy: 0.400000, val accuracy: 0.000000\n",
      "Loss: 2.261108, Train accuracy: 0.400000, val accuracy: 0.000000\nLoss: 2.093012, Train accuracy: 0.400000, val accuracy: 0.000000\nLoss: 2.229832, Train accuracy: 0.400000, val accuracy: 0.000000\n",
      "Loss: 2.271709, Train accuracy: 0.333333, val accuracy: 0.000000\nLoss: 1.584000, Train accuracy: 0.333333, val accuracy: 0.000000\nLoss: 1.945286, Train accuracy: 0.333333, val accuracy: 0.000000\nLoss: 2.032710, Train accuracy: 0.400000, val accuracy: 0.000000\nLoss: 1.551010, Train accuracy: 0.400000, val accuracy: 0.000000\n",
      "Loss: 2.342705, Train accuracy: 0.400000, val accuracy: 0.000000\nLoss: 1.643786, Train accuracy: 0.400000, val accuracy: 0.000000\nLoss: 1.307218, Train accuracy: 0.400000, val accuracy: 0.000000\nLoss: 1.906269, Train accuracy: 0.466667, val accuracy: 0.000000\n",
      "Loss: 1.235041, Train accuracy: 0.400000, val accuracy: 0.000000\nLoss: 1.669201, Train accuracy: 0.466667, val accuracy: 0.000000\nLoss: 1.504449, Train accuracy: 0.466667, val accuracy: 0.000000\nLoss: 1.765368, Train accuracy: 0.466667, val accuracy: 0.000000\nLoss: 1.730154, Train accuracy: 0.466667, val accuracy: 0.000000\n",
      "Loss: 1.386269, Train accuracy: 0.466667, val accuracy: 0.066667\nLoss: 2.023871, Train accuracy: 0.533333, val accuracy: 0.000000\nLoss: 2.279357, Train accuracy: 0.466667, val accuracy: 0.000000\nLoss: 1.191323, Train accuracy: 0.466667, val accuracy: 0.066667",
      "\nLoss: 1.447313, Train accuracy: 0.533333, val accuracy: 0.066667\nLoss: 1.562167, Train accuracy: 0.533333, val accuracy: 0.066667\nLoss: 1.289154, Train accuracy: 0.600000, val accuracy: 0.066667\nLoss: 1.140387, Train accuracy: 0.600000, val accuracy: 0.000000\n",
      "Loss: 1.488669, Train accuracy: 0.600000, val accuracy: 0.066667\nLoss: 1.802263, Train accuracy: 0.466667, val accuracy: 0.066667\nLoss: 1.972490, Train accuracy: 0.600000, val accuracy: 0.066667\nLoss: 1.349574, Train accuracy: 0.600000, val accuracy: 0.000000\n",
      "Loss: 1.188591, Train accuracy: 0.600000, val accuracy: 0.066667\nLoss: 2.053350, Train accuracy: 0.600000, val accuracy: 0.066667\nLoss: 1.399646, Train accuracy: 0.600000, val accuracy: 0.066667\nLoss: 1.857992, Train accuracy: 0.600000, val accuracy: 0.066667\nLoss: 1.640053, Train accuracy: 0.666667, val accuracy: 0.066667\n",
      "Loss: 1.233962, Train accuracy: 0.666667, val accuracy: 0.066667\nLoss: 1.208592, Train accuracy: 0.666667, val accuracy: 0.066667\nLoss: 1.598458, Train accuracy: 0.666667, val accuracy: 0.066667\nLoss: 1.198276, Train accuracy: 0.666667, val accuracy: 0.066667",
      "\nLoss: 1.173952, Train accuracy: 0.733333, val accuracy: 0.066667\nLoss: 1.238299, Train accuracy: 0.733333, val accuracy: 0.066667\nLoss: 2.311943, Train accuracy: 0.733333, val accuracy: 0.066667\nLoss: 1.123089, Train accuracy: 0.733333, val accuracy: 0.066667\n",
      "Loss: 1.736331, Train accuracy: 0.733333, val accuracy: 0.066667\nLoss: 2.141221, Train accuracy: 0.733333, val accuracy: 0.066667\nLoss: 1.253766, Train accuracy: 0.800000, val accuracy: 0.066667\nLoss: 1.367529, Train accuracy: 0.733333, val accuracy: 0.000000\n",
      "Loss: 2.353186, Train accuracy: 0.733333, val accuracy: 0.000000\nLoss: 1.563791, Train accuracy: 0.800000, val accuracy: 0.066667\nLoss: 1.360544, Train accuracy: 0.800000, val accuracy: 0.066667\nLoss: 1.551029, Train accuracy: 0.800000, val accuracy: 0.066667\nLoss: 1.353181, Train accuracy: 0.800000, val accuracy: 0.066667\n",
      "Loss: 1.525676, Train accuracy: 0.800000, val accuracy: 0.066667\nLoss: 1.326802, Train accuracy: 0.800000, val accuracy: 0.066667\nLoss: 1.429283, Train accuracy: 0.733333, val accuracy: 0.133333\nLoss: 1.563824, Train accuracy: 0.800000, val accuracy: 0.066667",
      "\nLoss: 1.619439, Train accuracy: 0.800000, val accuracy: 0.066667\nLoss: 1.746750, Train accuracy: 0.800000, val accuracy: 0.066667\nLoss: 1.327481, Train accuracy: 0.800000, val accuracy: 0.000000\nLoss: 1.334542, Train accuracy: 0.800000, val accuracy: 0.066667\n",
      "Loss: 1.141090, Train accuracy: 0.800000, val accuracy: 0.066667\nLoss: 0.859052, Train accuracy: 0.800000, val accuracy: 0.066667\nLoss: 1.662773, Train accuracy: 0.800000, val accuracy: 0.066667\nLoss: 1.744028, Train accuracy: 0.800000, val accuracy: 0.066667\n",
      "Loss: 0.983421, Train accuracy: 0.800000, val accuracy: 0.066667\nLoss: 1.092985, Train accuracy: 0.800000, val accuracy: 0.066667\nLoss: 0.895289, Train accuracy: 0.800000, val accuracy: 0.066667\nLoss: 1.640089, Train accuracy: 0.800000, val accuracy: 0.066667\nLoss: 1.210434, Train accuracy: 0.866667, val accuracy: 0.066667\n",
      "Loss: 1.551340, Train accuracy: 0.866667, val accuracy: 0.066667\nLoss: 1.578859, Train accuracy: 0.933333, val accuracy: 0.066667\nLoss: 1.677365, Train accuracy: 0.933333, val accuracy: 0.066667\nLoss: 1.659264, Train accuracy: 0.933333, val accuracy: 0.066667",
      "\nLoss: 1.037201, Train accuracy: 0.933333, val accuracy: 0.066667\nLoss: 0.992497, Train accuracy: 0.933333, val accuracy: 0.066667\nLoss: 1.268721, Train accuracy: 0.933333, val accuracy: 0.066667\nLoss: 0.967634, Train accuracy: 0.933333, val accuracy: 0.066667\nLoss: 1.339589, Train accuracy: 0.933333, val accuracy: 0.066667\n",
      "Loss: 1.375072, Train accuracy: 0.933333, val accuracy: 0.066667\nLoss: 1.483231, Train accuracy: 0.933333, val accuracy: 0.066667\n",
      "Loss: 1.278213, Train accuracy: 0.933333, val accuracy: 0.066667\nLoss: 1.681144, Train accuracy: 0.933333, val accuracy: 0.066667\nLoss: 1.238879, Train accuracy: 0.933333, val accuracy: 0.066667\nLoss: 1.773308, Train accuracy: 0.933333, val accuracy: 0.066667\nLoss: 0.979758, Train accuracy: 0.933333, val accuracy: 0.066667\n",
      "Loss: 1.659953, Train accuracy: 0.933333, val accuracy: 0.066667\nLoss: 1.247673, Train accuracy: 0.933333, val accuracy: 0.066667\nLoss: 1.466223, Train accuracy: 0.933333, val accuracy: 0.066667\nLoss: 1.257570, Train accuracy: 0.933333, val accuracy: 0.066667",
      "\nLoss: 1.164998, Train accuracy: 0.933333, val accuracy: 0.066667\nLoss: 1.472743, Train accuracy: 0.933333, val accuracy: 0.066667\nLoss: 0.977974, Train accuracy: 0.933333, val accuracy: 0.066667\n",
      "Loss: 1.045976, Train accuracy: 0.933333, val accuracy: 0.066667\nLoss: 1.447485, Train accuracy: 0.933333, val accuracy: 0.066667\nLoss: 1.480256, Train accuracy: 0.933333, val accuracy: 0.066667\n",
      "Loss: 1.722319, Train accuracy: 0.933333, val accuracy: 0.000000\nLoss: 1.577170, Train accuracy: 1.000000, val accuracy: 0.066667\nLoss: 1.242223, Train accuracy: 0.933333, val accuracy: 0.000000\nLoss: 1.522149, Train accuracy: 1.000000, val accuracy: 0.066667\nLoss: 1.201416, Train accuracy: 0.933333, val accuracy: 0.000000\n",
      "Loss: 1.496684, Train accuracy: 1.000000, val accuracy: 0.000000\nLoss: 1.479396, Train accuracy: 1.000000, val accuracy: 0.000000\nLoss: 1.375976, Train accuracy: 0.933333, val accuracy: 0.000000\n",
      "Loss: 1.374023, Train accuracy: 1.000000, val accuracy: 0.000000\nLoss: 1.306583, Train accuracy: 1.000000, val accuracy: 0.000000\nLoss: 1.520384, Train accuracy: 1.000000, val accuracy: 0.000000\nLoss: 1.352801, Train accuracy: 1.000000, val accuracy: 0.000000\nLoss: 1.336283, Train accuracy: 1.000000, val accuracy: 0.000000\n",
      "Loss: 1.398026, Train accuracy: 1.000000, val accuracy: 0.000000\nLoss: 1.560424, Train accuracy: 1.000000, val accuracy: 0.000000\nLoss: 1.450511, Train accuracy: 1.000000, val accuracy: 0.000000\n",
      "Loss: 1.255692, Train accuracy: 1.000000, val accuracy: 0.000000\nLoss: 1.552469, Train accuracy: 1.000000, val accuracy: 0.000000\nLoss: 1.244158, Train accuracy: 1.000000, val accuracy: 0.000000\nLoss: 1.404388, Train accuracy: 1.000000, val accuracy: 0.000000\n",
      "Loss: 1.157277, Train accuracy: 1.000000, val accuracy: 0.000000\nLoss: 1.449236, Train accuracy: 1.000000, val accuracy: 0.000000\nLoss: 1.308947, Train accuracy: 1.000000, val accuracy: 0.000000\n",
      "Loss: 1.475053, Train accuracy: 1.000000, val accuracy: 0.000000\nLoss: 1.300401, Train accuracy: 1.000000, val accuracy: 0.000000\nLoss: 1.246783, Train accuracy: 1.000000, val accuracy: 0.000000\nLoss: 1.407389, Train accuracy: 1.000000, val accuracy: 0.000000\nLoss: 1.247542, Train accuracy: 1.000000, val accuracy: 0.000000\n",
      "Loss: 1.254350, Train accuracy: 1.000000, val accuracy: 0.000000\nLoss: 1.193674, Train accuracy: 1.000000, val accuracy: 0.000000\nLoss: 1.408316, Train accuracy: 1.000000, val accuracy: 0.000000\n",
      "Loss: 1.182803, Train accuracy: 1.000000, val accuracy: 0.000000\nLoss: 1.388088, Train accuracy: 1.000000, val accuracy: 0.000000\nLoss: 1.291950, Train accuracy: 1.000000, val accuracy: 0.000000\nLoss: 1.244673, Train accuracy: 1.000000, val accuracy: 0.000000\nLoss: 1.166310, Train accuracy: 1.000000, val accuracy: 0.000000\n",
      "Loss: 1.471641, Train accuracy: 1.000000, val accuracy: 0.000000\nLoss: 1.268435, Train accuracy: 1.000000, val accuracy: 0.000000\nLoss: 1.138386, Train accuracy: 1.000000, val accuracy: 0.000000",
      "\nLoss: 1.195295, Train accuracy: 1.000000, val accuracy: 0.000000\nLoss: 1.292468, Train accuracy: 1.000000, val accuracy: 0.000000\nLoss: 1.344678, Train accuracy: 1.000000, val accuracy: 0.000000\n",
      "Loss: 1.338257, Train accuracy: 1.000000, val accuracy: 0.000000\nLoss: 1.449626, Train accuracy: 1.000000, val accuracy: 0.000000\nLoss: 1.310353, Train accuracy: 1.000000, val accuracy: 0.000000\nLoss: 1.324856, Train accuracy: 1.000000, val accuracy: 0.000000",
      "\n"
     ],
     "output_type": "stream"
    }
   ],
   "source": [
    "data_size = 15\n",
    "model = TwoLayerNet(n_input = train_X.shape[1], n_output = 10, hidden_layer_size = 100, reg = 1e-1)\n",
    "dataset = Dataset(train_X[:data_size], train_y[:data_size], val_X[:data_size], val_y[:data_size])\n",
    "trainer = Trainer(model, dataset, SGD(), learning_rate=1e-1, num_epochs=150, batch_size=5)\n",
    "\n",
    "# You should expect this to reach 1.0 training accuracy \n",
    "loss_history, train_history, val_history = trainer.fit()"
   ]
  },
  {
   "cell_type": "markdown",
   "metadata": {},
   "source": [
    "Теперь найдем гипепараметры, для которых этот процесс сходится быстрее.\n",
    "Если все реализовано корректно, то существуют параметры, при которых процесс сходится в **20** эпох или еще быстрее.\n",
    "Найдите их!"
   ]
  },
  {
   "cell_type": "code",
   "execution_count": 23,
   "metadata": {
    "pycharm": {
     "is_executing": false
    }
   },
   "outputs": [
    {
     "name": "stdout",
     "text": [
      "Loss: 2.322612, Train accuracy: 0.200000, val accuracy: 0.066667\nLoss: 2.399668, Train accuracy: 0.200000, val accuracy: 0.066667\n",
      "Loss: 2.145832, Train accuracy: 0.200000, val accuracy: 0.133333\nLoss: 2.113071, Train accuracy: 0.333333, val accuracy: 0.066667\nLoss: 2.002854, Train accuracy: 0.400000, val accuracy: 0.000000\n",
      "Loss: 2.438050, Train accuracy: 0.400000, val accuracy: 0.000000\nLoss: 1.368626, Train accuracy: 0.333333, val accuracy: 0.133333\n",
      "Loss: 2.451226, Train accuracy: 0.466667, val accuracy: 0.000000\nLoss: 0.936007, Train accuracy: 0.400000, val accuracy: 0.000000\nLoss: 2.337731, Train accuracy: 0.400000, val accuracy: 0.066667\n",
      "Loss: 1.308466, Train accuracy: 0.466667, val accuracy: 0.066667\nLoss: 1.724293, Train accuracy: 0.400000, val accuracy: 0.133333\n",
      "Loss: 2.379146, Train accuracy: 0.533333, val accuracy: 0.000000\nLoss: 1.795031, Train accuracy: 0.666667, val accuracy: 0.066667\nLoss: 1.296660, Train accuracy: 0.800000, val accuracy: 0.000000\n",
      "Loss: 0.328900, Train accuracy: 0.800000, val accuracy: 0.000000\nLoss: 0.018253, Train accuracy: 0.933333, val accuracy: 0.000000\nLoss: 0.002640, Train accuracy: 0.933333, val accuracy: 0.000000\n",
      "Loss: 0.071422, Train accuracy: 0.933333, val accuracy: 0.000000\nLoss: 0.003324, Train accuracy: 1.000000, val accuracy: 0.000000\n"
     ],
     "output_type": "stream"
    }
   ],
   "source": [
    "# Now, tweak some hyper parameters and make it train to 1.0 accuracy in 20 epochs or less\n",
    "\n",
    "model = TwoLayerNet(n_input = train_X.shape[1], n_output = 10, hidden_layer_size = 100, reg = 1e-45)\n",
    "dataset = Dataset(train_X[:data_size], train_y[:data_size], val_X[:data_size], val_y[:data_size])\n",
    "# TODO: Change any hyperparamers or optimizators to reach training accuracy in 20 epochs\n",
    "trainer = Trainer(model, dataset, SGD(), learning_rate=1e-1, num_epochs=20, batch_size=2)\n",
    "\n",
    "loss_history, train_history, val_history = trainer.fit()"
   ]
  },
  {
   "cell_type": "markdown",
   "metadata": {},
   "source": [
    "# Итак, основное мероприятие!\n",
    "\n",
    "Натренируйте лучшую нейросеть! Можно добавлять и изменять параметры, менять количество нейронов в слоях сети и как угодно экспериментировать. \n",
    "\n",
    "Добейтесь точности лучше **60%** на validation set."
   ]
  },
  {
   "cell_type": "code",
   "execution_count": 26,
   "metadata": {
    "scrolled": true,
    "pycharm": {
     "is_executing": false
    }
   },
   "outputs": [
    {
     "name": "stdout",
     "text": [
      "Loss: 2.159984, Train accuracy: 0.258222, val accuracy: 0.256000\n",
      "Loss: 1.659704, Train accuracy: 0.465889, val accuracy: 0.489000\n",
      "Loss: 1.489932, Train accuracy: 0.570667, val accuracy: 0.573000\n",
      "Loss: 1.237025, Train accuracy: 0.653111, val accuracy: 0.637000\n",
      "Loss: 1.001329, Train accuracy: 0.673889, val accuracy: 0.632000\n",
      "Loss: 1.193856, Train accuracy: 0.681667, val accuracy: 0.628000\n",
      "Loss: 0.955549, Train accuracy: 0.735000, val accuracy: 0.675000\n",
      "Loss: 1.186828, Train accuracy: 0.703444, val accuracy: 0.655000\n",
      "Loss: 1.112917, Train accuracy: 0.747556, val accuracy: 0.691000\n",
      "Loss: 0.912193, Train accuracy: 0.759778, val accuracy: 0.687000\n",
      "Loss: 1.050772, Train accuracy: 0.730000, val accuracy: 0.673000\n",
      "Loss: 0.805833, Train accuracy: 0.740667, val accuracy: 0.674000\n",
      "Loss: 0.783176, Train accuracy: 0.795556, val accuracy: 0.719000\n",
      "Loss: 0.666167, Train accuracy: 0.778667, val accuracy: 0.683000\n",
      "Loss: 0.826221, Train accuracy: 0.802333, val accuracy: 0.708000\n",
      "Loss: 0.770992, Train accuracy: 0.823111, val accuracy: 0.709000\n",
      "Loss: 0.938755, Train accuracy: 0.801222, val accuracy: 0.693000\n",
      "Loss: 0.763510, Train accuracy: 0.814111, val accuracy: 0.706000\n",
      "Loss: 0.739456, Train accuracy: 0.819778, val accuracy: 0.717000\n",
      "Loss: 0.998457, Train accuracy: 0.812333, val accuracy: 0.730000\nbest validation accuracy achieved: 0.730000\n"
     ],
     "output_type": "stream"
    }
   ],
   "source": [
    "# Let's train the best one-hidden-layer network we can\n",
    "\n",
    "learning_rates = 1e-4\n",
    "reg_strength = 1e-1\n",
    "learning_rate_decay = 0.999\n",
    "hidden_layer_size = 100\n",
    "num_epochs = 20\n",
    "batch_size = 100\n",
    "\n",
    "best_classifier = None\n",
    "best_val_accuracy = None\n",
    "\n",
    "loss_history = []\n",
    "train_history = []\n",
    "val_history = []\n",
    "\n",
    "model = TwoLayerNet(n_input = train_X.shape[1], n_output = 10, hidden_layer_size = 100, reg = 1e-4)\n",
    "dataset = Dataset(train_X, train_y, val_X, val_y)\n",
    "trainer = Trainer(model, dataset, MomentumSGD(), learning_rate=1e-1, num_epochs=20, batch_size=100)\n",
    "\n",
    "loss_history, train_history, val_history = trainer.fit()\n",
    "\n",
    "\n",
    "print('best validation accuracy achieved: %f' % max(val_history))"
   ]
  },
  {
   "cell_type": "code",
   "execution_count": 27,
   "metadata": {
    "pycharm": {
     "is_executing": false
    }
   },
   "outputs": [
    {
     "data": {
      "text/plain": "[<matplotlib.lines.Line2D at 0x236c7c08160>]"
     },
     "metadata": {},
     "output_type": "execute_result",
     "execution_count": 27
    },
    {
     "data": {
      "text/plain": "<Figure size 1080x504 with 2 Axes>",
      "image/png": "[encoded data removed]"
     },
     "metadata": {
      "needs_background": "light"
     },
     "output_type": "display_data"
    }
   ],
   "source": [
    "plt.figure(figsize=(15, 7))\n",
    "plt.subplot(211)\n",
    "plt.title(\"Loss\")\n",
    "plt.plot(loss_history)\n",
    "plt.subplot(212)\n",
    "plt.title(\"Train/validation accuracy\")\n",
    "plt.plot(train_history)\n",
    "plt.plot(val_history)"
   ]
  },
  {
   "cell_type": "markdown",
   "metadata": {},
   "source": [
    "# Как обычно, посмотрим, как наша лучшая модель работает на тестовых данных"
   ]
  },
  {
   "cell_type": "code",
   "execution_count": 30,
   "metadata": {
    "pycharm": {
     "is_executing": false
    }
   },
   "outputs": [
    {
     "name": "stdout",
     "text": [
      "Neural net test set accuracy: 0.677000\n"
     ],
     "output_type": "stream"
    }
   ],
   "source": [
    "best_classifier = model\n",
    "test_pred = best_classifier.predict(test_X)\n",
    "test_accuracy = multiclass_accuracy(test_pred, test_y)\n",
    "print('Neural net test set accuracy: %f' % (test_accuracy, ))"
   ]
  }
 ],
 "metadata": {
  "kernelspec": {
   "display_name": "Python 3",
   "language": "python",
   "name": "python3"
  },
  "language_info": {
   "codemirror_mode": {
    "name": "ipython",
    "version": 3
   },
   "file_extension": ".py",
   "mimetype": "text/x-python",
   "name": "python",
   "nbconvert_exporter": "python",
   "pygments_lexer": "ipython3",
   "version": "3.7.0"
  },
  "pycharm": {
   "stem_cell": {
    "cell_type": "raw",
    "source": [],
    "metadata": {
     "collapsed": false
    }
   }
  }
 },
 "nbformat": 4,
 "nbformat_minor": 2
}