{
 "cells": [
  {
   "cell_type": "markdown",
   "metadata": {},
   "source": [
    "# Задание 2.1 - Нейронные сети\n",
    "\n",
    "В этом задании вы реализуете и натренируете настоящую нейроную сеть своими руками!\n",
    "\n",
    "В некотором смысле это будет расширением прошлого задания - нам нужно просто составить несколько линейных классификаторов вместе!\n",
    "\n",
    "<img src=\"https://i.redd.it/n9fgba8b0qr01.png\" alt=\"Stack_more_layers\" width=\"400px\"/>"
   ]
  },
  {
   "cell_type": "code",
   "execution_count": 1,
   "metadata": {
    "pycharm": {
     "is_executing": false
    }
   },
   "outputs": [],
   "source": [
    "import numpy as np\n",
    "import matplotlib.pyplot as plt\n",
    "\n",
    "%matplotlib inline\n",
    "\n",
    "%load_ext autoreload\n",
    "%autoreload 2"
   ]
  },
  {
   "cell_type": "code",
   "execution_count": 2,
   "metadata": {
    "pycharm": {
     "is_executing": false
    }
   },
   "outputs": [],
   "source": [
    "from dataset import load_svhn, random_split_train_val\n",
    "from gradient_check import check_layer_gradient, check_layer_param_gradient, check_model_gradient\n",
    "from layers import FullyConnectedLayer, ReLULayer\n",
    "from model import TwoLayerNet\n",
    "from trainer import Trainer, Dataset\n",
    "from optim import SGD, MomentumSGD\n",
    "from metrics import multiclass_accuracy"
   ]
  },
  {
   "cell_type": "markdown",
   "metadata": {},
   "source": [
    "# Загружаем данные\n",
    "\n",
    "И разделяем их на training и validation."
   ]
  },
  {
   "cell_type": "code",
   "execution_count": 3,
   "metadata": {
    "pycharm": {
     "is_executing": false
    }
   },
   "outputs": [],
   "source": [
    "def prepare_for_neural_network(train_X, test_X):\n",
    "    train_flat = train_X.reshape(train_X.shape[0], -1).astype(np.float) / 255.0\n",
    "    test_flat = test_X.reshape(test_X.shape[0], -1).astype(np.float) / 255.0\n",
    "    \n",
    "    # Subtract mean\n",
    "    mean_image = np.mean(train_flat, axis = 0)\n",
    "    train_flat -= mean_image\n",
    "    test_flat -= mean_image\n",
    "    \n",
    "    return train_flat, test_flat\n",
    "    \n",
    "train_X, train_y, test_X, test_y = load_svhn(\"data\", max_train=10000, max_test=1000)    \n",
    "train_X, test_X = prepare_for_neural_network(train_X, test_X)\n",
    "# Split train into train and val\n",
    "train_X, train_y, val_X, val_y = random_split_train_val(train_X, train_y, num_val = 1000)"
   ]
  },
  {
   "cell_type": "markdown",
   "metadata": {},
   "source": [
    "# Как всегда, начинаем с кирпичиков\n",
    "\n",
    "Мы будем реализовывать необходимые нам слои по очереди. Каждый слой должен реализовать:\n",
    "- прямой проход (forward pass), который генерирует выход слоя по входу и запоминает необходимые данные\n",
    "- обратный проход (backward pass), который получает градиент по выходу слоя и вычисляет градиент по входу и по параметрам\n",
    "\n",
    "Начнем с ReLU, у которого параметров нет."
   ]
  },
  {
   "cell_type": "code",
   "execution_count": 4,
   "metadata": {
    "scrolled": false,
    "pycharm": {
     "is_executing": false
    }
   },
   "outputs": [
    {
     "name": "stdout",
     "text": [
      "Gradient check passed!\n"
     ],
     "output_type": "stream"
    }
   ],
   "source": [
    "# TODO: Implement ReLULayer layer in layers.py\n",
    "# Note: you'll need to copy implementation of the gradient_check function from the previous assignment\n",
    "\n",
    "X = np.array([[1,-2,3],\n",
    "              [-1, 2, 0.1]\n",
    "              ])\n",
    "\n",
    "assert check_layer_gradient(ReLULayer(), X)"
   ]
  },
  {
   "cell_type": "markdown",
   "metadata": {},
   "source": [
    "А теперь реализуем полносвязный слой (fully connected layer), у которого будет два массива параметров: W (weights) и B (bias).\n",
    "\n",
    "Все параметры наши слои будут использовать для параметров специальный класс `Param`, в котором будут храниться значения параметров и градиенты этих параметров, вычисляемые во время обратного прохода.\n",
    "\n",
    "Это даст возможность аккумулировать (суммировать) градиенты из разных частей функции потерь, например, из cross-entropy loss и regularization loss."
   ]
  },
  {
   "cell_type": "code",
   "execution_count": 5,
   "metadata": {
    "pycharm": {
     "is_executing": false
    }
   },
   "outputs": [
    {
     "name": "stdout",
     "text": [
      "Gradient check passed!\nGradient check passed!\nGradient check passed!\n"
     ],
     "output_type": "stream"
    }
   ],
   "source": [
    "# TODO: Implement FullyConnected layer forward and backward methods\n",
    "assert check_layer_gradient(FullyConnectedLayer(3, 4), X)\n",
    "# TODO: Implement storing gradients for W and B\n",
    "assert check_layer_param_gradient(FullyConnectedLayer(3, 4), X, 'W')\n",
    "assert check_layer_param_gradient(FullyConnectedLayer(3, 4), X, 'B')"
   ]
  },
  {
   "cell_type": "markdown",
   "metadata": {},
   "source": [
    "## Создаем нейронную сеть\n",
    "\n",
    "Теперь мы реализуем простейшую нейронную сеть с двумя полносвязным слоями и нелинейностью ReLU. Реализуйте функцию `compute_loss_and_gradients`, она должна запустить прямой и обратный проход через оба слоя для вычисления градиентов.\n",
    "\n",
    "Не забудьте реализовать очистку градиентов в начале функции."
   ]
  },
  {
   "cell_type": "code",
   "execution_count": 6,
   "metadata": {
    "pycharm": {
     "is_executing": false
    }
   },
   "outputs": [
    {
     "name": "stdout",
     "text": [
      "Checking gradient for W1\n",
      "Gradient check passed!\nChecking gradient for W2\nGradient check passed!\nChecking gradient for B1\nGradient check passed!\nChecking gradient for B2\nGradient check passed!\n"
     ],
     "output_type": "stream"
    },
    {
     "data": {
      "text/plain": "True"
     },
     "metadata": {},
     "output_type": "execute_result",
     "execution_count": 6
    }
   ],
   "source": [
    "# TODO: In model.py, implement compute_loss_and_gradients function\n",
    "model = TwoLayerNet(n_input = train_X.shape[1], n_output = 10, hidden_layer_size = 3, reg = 0)\n",
    "loss = model.compute_loss_and_gradients(train_X[:2], train_y[:2])\n",
    "\n",
    "# TODO Now implement backward pass and aggregate all of the params\n",
    "check_model_gradient(model, train_X[:2], train_y[:2])"
   ]
  },
  {
   "cell_type": "markdown",
   "metadata": {},
   "source": [
    "Теперь добавьте к модели регуляризацию - она должна прибавляться к loss и делать свой вклад в градиенты."
   ]
  },
  {
   "cell_type": "code",
   "execution_count": 7,
   "metadata": {
    "pycharm": {
     "is_executing": false
    }
   },
   "outputs": [
    {
     "name": "stdout",
     "text": [
      "Checking gradient for W1\n",
      "Gradient check passed!\nChecking gradient for W2\nGradient check passed!\nChecking gradient for B1\nGradient check passed!\nChecking gradient for B2\nGradient check passed!\n"
     ],
     "output_type": "stream"
    },
    {
     "data": {
      "text/plain": "True"
     },
     "metadata": {},
     "output_type": "execute_result",
     "execution_count": 7
    }
   ],
   "source": [
    "# TODO Now implement l2 regularization in the forward and backward pass\n",
    "model_with_reg = TwoLayerNet(n_input = train_X.shape[1], n_output = 10, hidden_layer_size = 3, reg = 1e1)\n",
    "loss_with_reg = model_with_reg.compute_loss_and_gradients(train_X[:2], train_y[:2])\n",
    "assert loss_with_reg > loss and not np.isclose(loss_with_reg, loss), \\\n",
    "    \"Loss with regularization (%2.4f) should be higher than without it (%2.4f)!\" % (loss, loss_with_reg)\n",
    "\n",
    "check_model_gradient(model_with_reg, train_X[:2], train_y[:2])"
   ]
  },
  {
   "cell_type": "markdown",
   "metadata": {},
   "source": [
    "Также реализуем функцию предсказания (вычисления значения) модели на новых данных.\n",
    "\n",
    "Какое значение точности мы ожидаем увидеть до начала тренировки?"
   ]
  },
  {
   "cell_type": "code",
   "execution_count": 8,
   "metadata": {
    "pycharm": {
     "is_executing": false
    }
   },
   "outputs": [
    {
     "data": {
      "text/plain": "0.1"
     },
     "metadata": {},
     "output_type": "execute_result",
     "execution_count": 8
    }
   ],
   "source": [
    "# Finally, implement predict function!\n",
    "\n",
    "# TODO: Implement predict function\n",
    "# What would be the value we expect?\n",
    "multiclass_accuracy(model_with_reg.predict(train_X[:30]), train_y[:30]) "
   ]
  },
  {
   "cell_type": "markdown",
   "metadata": {},
   "source": [
    "# Допишем код для процесса тренировки\n",
    "\n",
    "Если все реализовано корректно, значение функции ошибки должно уменьшаться с каждой эпохой, пусть и медленно. Не беспокойтесь пока про validation accuracy."
   ]
  },
  {
   "cell_type": "code",
   "execution_count": 9,
   "metadata": {
    "pycharm": {
     "is_executing": false
    }
   },
   "outputs": [
    {
     "name": "stdout",
     "text": [
      "Loss: 2.302029, Train accuracy: 0.196667, val accuracy: 0.206000\n",
      "Loss: 2.301685, Train accuracy: 0.196667, val accuracy: 0.206000\n",
      "Loss: 2.301851, Train accuracy: 0.148222, val accuracy: 0.140000\n",
      "Loss: 2.302623, Train accuracy: 0.196667, val accuracy: 0.206000\n"
     ],
     "output_type": "stream"
    }
   ],
   "source": [
    "model = TwoLayerNet(n_input = train_X.shape[1], n_output = 10, hidden_layer_size = 100, reg = 1e1)\n",
    "dataset = Dataset(train_X, train_y, val_X, val_y)\n",
    "trainer = Trainer(model, dataset, SGD(), num_epochs=4, learning_rate = 1e-2)\n",
    "\n",
    "# TODO Implement missing pieces in Trainer.fit function\n",
    "# You should expect loss to go down every epoch, even if it's slow\n",
    "loss_history, train_history, val_history = trainer.fit()"
   ]
  },
  {
   "cell_type": "code",
   "execution_count": 10,
   "outputs": [
    {
     "data": {
      "text/plain": "[<matplotlib.lines.Line2D at 0x11995ccc0>]"
     },
     "metadata": {},
     "output_type": "execute_result",
     "execution_count": 10
    },
    {
     "data": {
      "text/plain": "<Figure size 432x288 with 1 Axes>",
      "image/png": "[encoded data removed]"
     },
     "metadata": {
      "needs_background": "light"
     },
     "output_type": "display_data"
    }
   ],
   "source": [
    "plt.plot(train_history)\n",
    "plt.plot(val_history)"
   ],
   "metadata": {
    "collapsed": false,
    "pycharm": {
     "name": "#%%\n",
     "is_executing": false
    }
   }
  },
  {
   "cell_type": "markdown",
   "metadata": {},
   "source": [
    "# Улучшаем процесс тренировки\n",
    "\n",
    "Мы реализуем несколько ключевых оптимизаций, необходимых для тренировки современных нейросетей."
   ]
  },
  {
   "cell_type": "markdown",
   "metadata": {},
   "source": [
    "## Уменьшение скорости обучения (learning rate decay)\n",
    "\n",
    "Одна из необходимых оптимизаций во время тренировки нейронных сетей - постепенное уменьшение скорости обучения по мере тренировки.\n",
    "\n",
    "Один из стандартных методов - уменьшение скорости обучения (learning rate) каждые N эпох на коэффициент d (часто называемый decay). Значения N и d, как всегда, являются гиперпараметрами и должны подбираться на основе эффективности на проверочных данных (validation data). \n",
    "\n",
    "В нашем случае N будет равным 1."
   ]
  },
  {
   "cell_type": "code",
   "execution_count": 11,
   "metadata": {
    "pycharm": {
     "is_executing": false
    }
   },
   "outputs": [
    {
     "name": "stdout",
     "text": [
      "Loss: 2.304270, Train accuracy: 0.196667, val accuracy: 0.206000\n",
      "Loss: 2.285685, Train accuracy: 0.196667, val accuracy: 0.206000\n",
      "Loss: 2.218967, Train accuracy: 0.196667, val accuracy: 0.206000\n",
      "Loss: 2.332656, Train accuracy: 0.196667, val accuracy: 0.206000\n",
      "Loss: 2.275270, Train accuracy: 0.196667, val accuracy: 0.206000\n"
     ],
     "output_type": "stream"
    }
   ],
   "source": [
    "# TODO Implement learning rate decay inside Trainer.fit method\n",
    "# Decay should happen once per epoch\n",
    "\n",
    "model = TwoLayerNet(n_input = train_X.shape[1], n_output = 10, hidden_layer_size = 100, reg = 1e-1)\n",
    "dataset = Dataset(train_X, train_y, val_X, val_y)\n",
    "trainer = Trainer(model, dataset, SGD(), num_epochs=5, learning_rate_decay=0.99)\n",
    "\n",
    "initial_learning_rate = trainer.learning_rate\n",
    "loss_history, train_history, val_history = trainer.fit()\n",
    "\n",
    "assert trainer.learning_rate < initial_learning_rate, \"Learning rate should've been reduced\"\n",
    "assert trainer.learning_rate > 0.5*initial_learning_rate, \"Learning rate shouldn'tve been reduced that much!\""
   ]
  },
  {
   "cell_type": "markdown",
   "metadata": {},
   "source": [
    "# Накопление импульса (Momentum SGD)\n",
    "\n",
    "Другой большой класс оптимизаций - использование более эффективных методов градиентного спуска. Мы реализуем один из них - накопление импульса (Momentum SGD).\n",
    "\n",
    "Этот метод хранит скорость движения, использует градиент для ее изменения на каждом шаге, и изменяет веса пропорционально значению скорости.\n",
    "(Физическая аналогия: Вместо скорости градиенты теперь будут задавать ускорение, но будет присутствовать сила трения.)\n",
    "\n",
    "```\n",
    "velocity = momentum * velocity - learning_rate * gradient \n",
    "w = w + velocity\n",
    "```\n",
    "\n",
    "`momentum` здесь коэффициент затухания, который тоже является гиперпараметром (к счастью, для него часто есть хорошее значение по умолчанию, типичный диапазон -- 0.8-0.99).\n",
    "\n",
    "Несколько полезных ссылок, где метод разбирается более подробно:  \n",
    "http://cs231n.github.io/neural-networks-3/#sgd  \n",
    "https://distill.pub/2017/momentum/"
   ]
  },
  {
   "cell_type": "code",
   "execution_count": 12,
   "metadata": {
    "pycharm": {
     "is_executing": false
    }
   },
   "outputs": [
    {
     "name": "stdout",
     "text": [
      "Loss: 2096111.818132, Train accuracy: 0.154667, val accuracy: 0.175000\n",
      "Loss: 1748414.580626, Train accuracy: 0.135889, val accuracy: 0.140000\n",
      "Loss: 1461305.410765, Train accuracy: 0.174444, val accuracy: 0.174000\n",
      "Loss: 1223192.142987, Train accuracy: 0.174444, val accuracy: 0.174000\n",
      "Loss: 1025505.018653, Train accuracy: 0.153000, val accuracy: 0.158000\n",
      "Loss: 861426.974173, Train accuracy: 0.144222, val accuracy: 0.154000\n"
     ],
     "output_type": "stream"
    }
   ],
   "source": [
    "# TODO: Implement MomentumSGD.update function in optim.py\n",
    "\n",
    "model = TwoLayerNet(n_input = train_X.shape[1], n_output = 10, hidden_layer_size = 100, reg = 1e-1)\n",
    "dataset = Dataset(train_X, train_y, val_X, val_y)\n",
    "trainer = Trainer(model, dataset, MomentumSGD(), num_epochs=6, learning_rate=1e-4, learning_rate_decay=0.99)\n",
    "\n",
    "# You should see even better results than before!\n",
    "loss_history, train_history, val_history = trainer.fit()"
   ]
  },
  {
   "cell_type": "markdown",
   "metadata": {},
   "source": [
    "# Ну что, давайте уже тренировать сеть!"
   ]
  },
  {
   "cell_type": "markdown",
   "metadata": {},
   "source": [
    "## Последний тест - переобучимся (overfit) на маленьком наборе данных\n",
    "\n",
    "Хороший способ проверить, все ли реализовано корректно - переобучить сеть на маленьком наборе данных.  \n",
    "Наша модель обладает достаточной мощностью, чтобы приблизить маленький набор данных идеально, поэтому мы ожидаем, что на нем мы быстро дойдем до 100% точности на тренировочном наборе. \n",
    "\n",
    "Если этого не происходит, то где-то была допущена ошибка!"
   ]
  },
  {
   "cell_type": "code",
   "execution_count": 13,
   "metadata": {
    "pycharm": {
     "is_executing": false
    }
   },
   "outputs": [
    {
     "name": "stdout",
     "text": [
      "Loss: 2.339340, Train accuracy: 0.333333, val accuracy: 0.066667\nLoss: 2.311711, Train accuracy: 0.333333, val accuracy: 0.066667\nLoss: 2.305615, Train accuracy: 0.266667, val accuracy: 0.000000\nLoss: 2.331473, Train accuracy: 0.266667, val accuracy: 0.000000\nLoss: 2.309799, Train accuracy: 0.266667, val accuracy: 0.000000\nLoss: 2.266578, Train accuracy: 0.200000, val accuracy: 0.133333\nLoss: 2.239395, Train accuracy: 0.266667, val accuracy: 0.000000\nLoss: 2.332687, Train accuracy: 0.266667, val accuracy: 0.000000\nLoss: 2.230219, Train accuracy: 0.400000, val accuracy: 0.000000\nLoss: 2.220102, Train accuracy: 0.400000, val accuracy: 0.000000\nLoss: 1.963204, Train accuracy: 0.400000, val accuracy: 0.000000\nLoss: 1.895274, Train accuracy: 0.400000, val accuracy: 0.000000\n",
      "Loss: 1.779948, Train accuracy: 0.333333, val accuracy: 0.000000\nLoss: 2.448129, Train accuracy: 0.333333, val accuracy: 0.000000\nLoss: 1.779590, Train accuracy: 0.333333, val accuracy: 0.000000\n",
      "Loss: 1.783773, Train accuracy: 0.333333, val accuracy: 0.000000\nLoss: 1.381236, Train accuracy: 0.333333, val accuracy: 0.000000\nLoss: 2.026999, Train accuracy: 0.400000, val accuracy: 0.000000\nLoss: 2.155332, Train accuracy: 0.400000, val accuracy: 0.066667\nLoss: 1.694289, Train accuracy: 0.400000, val accuracy: 0.000000\nLoss: 1.822752, Train accuracy: 0.400000, val accuracy: 0.000000\n",
      "Loss: 1.983273, Train accuracy: 0.466667, val accuracy: 0.000000\nLoss: 1.873183, Train accuracy: 0.400000, val accuracy: 0.066667\nLoss: 1.672103, Train accuracy: 0.400000, val accuracy: 0.066667\nLoss: 1.861376, Train accuracy: 0.466667, val accuracy: 0.066667\n",
      "Loss: 1.955324, Train accuracy: 0.466667, val accuracy: 0.066667\nLoss: 1.396978, Train accuracy: 0.466667, val accuracy: 0.000000\nLoss: 1.855181, Train accuracy: 0.466667, val accuracy: 0.066667\nLoss: 1.885336, Train accuracy: 0.533333, val accuracy: 0.066667\nLoss: 1.995854, Train accuracy: 0.466667, val accuracy: 0.066667\nLoss: 1.252333, Train accuracy: 0.466667, val accuracy: 0.066667\nLoss: 1.993043, Train accuracy: 0.533333, val accuracy: 0.066667\nLoss: 1.390193, Train accuracy: 0.466667, val accuracy: 0.066667\nLoss: 1.222257, Train accuracy: 0.600000, val accuracy: 0.000000\nLoss: 1.694085, Train accuracy: 0.600000, val accuracy: 0.066667\nLoss: 1.837738, Train accuracy: 0.600000, val accuracy: 0.066667\n",
      "Loss: 1.689059, Train accuracy: 0.533333, val accuracy: 0.066667\nLoss: 1.653990, Train accuracy: 0.600000, val accuracy: 0.066667\nLoss: 1.389883, Train accuracy: 0.600000, val accuracy: 0.066667\nLoss: 1.497207, Train accuracy: 0.600000, val accuracy: 0.066667\nLoss: 1.525077, Train accuracy: 0.600000, val accuracy: 0.066667\n",
      "Loss: 1.913606, Train accuracy: 0.600000, val accuracy: 0.066667\nLoss: 1.646167, Train accuracy: 0.666667, val accuracy: 0.066667\nLoss: 1.398536, Train accuracy: 0.666667, val accuracy: 0.066667\nLoss: 1.454869, Train accuracy: 0.666667, val accuracy: 0.066667\nLoss: 1.349982, Train accuracy: 0.666667, val accuracy: 0.066667\nLoss: 1.660585, Train accuracy: 0.666667, val accuracy: 0.066667\nLoss: 1.274619, Train accuracy: 0.733333, val accuracy: 0.066667\nLoss: 1.303126, Train accuracy: 0.733333, val accuracy: 0.066667\nLoss: 1.527176, Train accuracy: 0.733333, val accuracy: 0.000000\nLoss: 1.911235, Train accuracy: 0.733333, val accuracy: 0.066667\n",
      "Loss: 1.163260, Train accuracy: 0.733333, val accuracy: 0.066667\nLoss: 1.281005, Train accuracy: 0.800000, val accuracy: 0.066667\nLoss: 1.809410, Train accuracy: 0.733333, val accuracy: 0.133333\nLoss: 1.837379, Train accuracy: 0.733333, val accuracy: 0.066667\nLoss: 1.847382, Train accuracy: 0.666667, val accuracy: 0.066667\n",
      "Loss: 1.489887, Train accuracy: 0.733333, val accuracy: 0.066667\nLoss: 1.456672, Train accuracy: 0.733333, val accuracy: 0.133333\nLoss: 1.561302, Train accuracy: 0.733333, val accuracy: 0.133333\nLoss: 0.967078, Train accuracy: 0.733333, val accuracy: 0.066667\nLoss: 1.513774, Train accuracy: 0.733333, val accuracy: 0.133333\nLoss: 0.991625, Train accuracy: 0.733333, val accuracy: 0.066667\nLoss: 1.555628, Train accuracy: 0.733333, val accuracy: 0.066667\nLoss: 1.488495, Train accuracy: 0.733333, val accuracy: 0.066667\nLoss: 1.581067, Train accuracy: 0.733333, val accuracy: 0.066667\nLoss: 1.147188, Train accuracy: 0.733333, val accuracy: 0.066667\n",
      "Loss: 1.291400, Train accuracy: 0.733333, val accuracy: 0.066667\nLoss: 1.653202, Train accuracy: 0.800000, val accuracy: 0.066667\nLoss: 1.261652, Train accuracy: 0.800000, val accuracy: 0.066667\nLoss: 1.701831, Train accuracy: 0.800000, val accuracy: 0.066667\nLoss: 0.993433, Train accuracy: 0.866667, val accuracy: 0.066667\n",
      "Loss: 1.330527, Train accuracy: 0.866667, val accuracy: 0.066667\nLoss: 1.626291, Train accuracy: 0.866667, val accuracy: 0.066667\nLoss: 1.136438, Train accuracy: 0.866667, val accuracy: 0.066667\nLoss: 1.855582, Train accuracy: 0.933333, val accuracy: 0.066667\nLoss: 1.234750, Train accuracy: 0.933333, val accuracy: 0.066667\nLoss: 1.943428, Train accuracy: 0.933333, val accuracy: 0.066667\nLoss: 1.860036, Train accuracy: 0.933333, val accuracy: 0.066667\nLoss: 1.340027, Train accuracy: 0.933333, val accuracy: 0.066667\nLoss: 1.251950, Train accuracy: 0.933333, val accuracy: 0.066667\n",
      "Loss: 1.689063, Train accuracy: 0.933333, val accuracy: 0.066667\nLoss: 1.387754, Train accuracy: 0.933333, val accuracy: 0.066667\nLoss: 1.070824, Train accuracy: 0.933333, val accuracy: 0.066667\nLoss: 1.395854, Train accuracy: 0.933333, val accuracy: 0.066667\nLoss: 1.033009, Train accuracy: 0.933333, val accuracy: 0.066667\nLoss: 1.358059, Train accuracy: 0.933333, val accuracy: 0.066667\n",
      "Loss: 1.280277, Train accuracy: 0.933333, val accuracy: 0.066667\nLoss: 1.620103, Train accuracy: 0.933333, val accuracy: 0.066667\nLoss: 1.570098, Train accuracy: 0.933333, val accuracy: 0.066667\nLoss: 1.340762, Train accuracy: 0.933333, val accuracy: 0.066667\nLoss: 1.106223, Train accuracy: 0.933333, val accuracy: 0.066667\nLoss: 1.123178, Train accuracy: 0.933333, val accuracy: 0.000000\nLoss: 1.332969, Train accuracy: 0.933333, val accuracy: 0.066667\nLoss: 1.258417, Train accuracy: 0.933333, val accuracy: 0.000000\nLoss: 1.198048, Train accuracy: 0.933333, val accuracy: 0.000000\nLoss: 1.423462, Train accuracy: 0.933333, val accuracy: 0.000000\n",
      "Loss: 1.318121, Train accuracy: 0.933333, val accuracy: 0.000000\nLoss: 1.511369, Train accuracy: 0.933333, val accuracy: 0.000000\nLoss: 1.285456, Train accuracy: 0.933333, val accuracy: 0.000000\nLoss: 1.265866, Train accuracy: 0.933333, val accuracy: 0.000000\nLoss: 1.293195, Train accuracy: 0.933333, val accuracy: 0.000000\nLoss: 1.241848, Train accuracy: 0.933333, val accuracy: 0.000000\n",
      "Loss: 1.282431, Train accuracy: 0.933333, val accuracy: 0.000000\nLoss: 1.267061, Train accuracy: 0.933333, val accuracy: 0.000000\nLoss: 1.458105, Train accuracy: 0.933333, val accuracy: 0.000000\nLoss: 1.362806, Train accuracy: 0.933333, val accuracy: 0.000000\nLoss: 1.228699, Train accuracy: 0.933333, val accuracy: 0.000000\nLoss: 1.279603, Train accuracy: 0.933333, val accuracy: 0.000000\nLoss: 1.672964, Train accuracy: 0.933333, val accuracy: 0.000000\nLoss: 1.353132, Train accuracy: 0.933333, val accuracy: 0.000000\nLoss: 1.177525, Train accuracy: 1.000000, val accuracy: 0.000000\nLoss: 1.396289, Train accuracy: 0.933333, val accuracy: 0.000000\n",
      "Loss: 1.421512, Train accuracy: 0.933333, val accuracy: 0.000000\nLoss: 1.474259, Train accuracy: 1.000000, val accuracy: 0.000000\nLoss: 1.321366, Train accuracy: 1.000000, val accuracy: 0.000000\nLoss: 1.195302, Train accuracy: 1.000000, val accuracy: 0.000000\nLoss: 1.620939, Train accuracy: 1.000000, val accuracy: 0.000000\nLoss: 1.226205, Train accuracy: 1.000000, val accuracy: 0.000000\n",
      "Loss: 1.372022, Train accuracy: 1.000000, val accuracy: 0.000000\nLoss: 1.198932, Train accuracy: 1.000000, val accuracy: 0.000000\nLoss: 1.238795, Train accuracy: 1.000000, val accuracy: 0.000000\nLoss: 1.097276, Train accuracy: 1.000000, val accuracy: 0.000000\nLoss: 1.255463, Train accuracy: 1.000000, val accuracy: 0.000000\nLoss: 1.340871, Train accuracy: 1.000000, val accuracy: 0.000000\nLoss: 1.577243, Train accuracy: 1.000000, val accuracy: 0.000000\nLoss: 1.262181, Train accuracy: 1.000000, val accuracy: 0.000000\nLoss: 1.580048, Train accuracy: 1.000000, val accuracy: 0.000000\n",
      "Loss: 1.331741, Train accuracy: 1.000000, val accuracy: 0.000000\nLoss: 1.166115, Train accuracy: 1.000000, val accuracy: 0.000000\nLoss: 1.212063, Train accuracy: 1.000000, val accuracy: 0.000000\nLoss: 1.205066, Train accuracy: 1.000000, val accuracy: 0.000000\nLoss: 1.442662, Train accuracy: 1.000000, val accuracy: 0.000000\n",
      "Loss: 1.171338, Train accuracy: 1.000000, val accuracy: 0.000000\nLoss: 1.232824, Train accuracy: 1.000000, val accuracy: 0.000000\nLoss: 1.338552, Train accuracy: 1.000000, val accuracy: 0.000000\nLoss: 1.293986, Train accuracy: 1.000000, val accuracy: 0.000000\nLoss: 1.369460, Train accuracy: 1.000000, val accuracy: 0.000000\nLoss: 1.190147, Train accuracy: 1.000000, val accuracy: 0.000000\nLoss: 1.362856, Train accuracy: 1.000000, val accuracy: 0.000000\nLoss: 1.344712, Train accuracy: 1.000000, val accuracy: 0.000000\nLoss: 1.272360, Train accuracy: 1.000000, val accuracy: 0.000000\nLoss: 1.162712, Train accuracy: 1.000000, val accuracy: 0.000000\n",
      "Loss: 1.110194, Train accuracy: 1.000000, val accuracy: 0.000000\nLoss: 1.171665, Train accuracy: 1.000000, val accuracy: 0.000000\nLoss: 1.584134, Train accuracy: 1.000000, val accuracy: 0.000000\nLoss: 1.254425, Train accuracy: 1.000000, val accuracy: 0.000000\nLoss: 1.088462, Train accuracy: 1.000000, val accuracy: 0.000000\nLoss: 1.448657, Train accuracy: 1.000000, val accuracy: 0.000000\n",
      "Loss: 1.083260, Train accuracy: 1.000000, val accuracy: 0.000000\nLoss: 1.265467, Train accuracy: 1.000000, val accuracy: 0.000000\n"
     ],
     "output_type": "stream"
    }
   ],
   "source": [
    "data_size = 15\n",
    "model = TwoLayerNet(n_input = train_X.shape[1], n_output = 10, hidden_layer_size = 100, reg = 1e-1)\n",
    "dataset = Dataset(train_X[:data_size], train_y[:data_size], val_X[:data_size], val_y[:data_size])\n",
    "trainer = Trainer(model, dataset, SGD(), learning_rate=1e-1, num_epochs=150, batch_size=5)\n",
    "\n",
    "# You should expect this to reach 1.0 training accuracy \n",
    "loss_history, train_history, val_history = trainer.fit()"
   ]
  },
  {
   "cell_type": "markdown",
   "metadata": {},
   "source": [
    "Теперь найдем гипепараметры, для которых этот процесс сходится быстрее.\n",
    "Если все реализовано корректно, то существуют параметры, при которых процесс сходится в **20** эпох или еще быстрее.\n",
    "Найдите их!"
   ]
  },
  {
   "cell_type": "code",
   "execution_count": 14,
   "metadata": {
    "pycharm": {
     "is_executing": false
    }
   },
   "outputs": [
    {
     "name": "stdout",
     "text": [
      "Loss: 2.270832, Train accuracy: 0.200000, val accuracy: 0.133333\n",
      "Loss: 2.300273, Train accuracy: 0.200000, val accuracy: 0.133333\n",
      "Loss: 2.427034, Train accuracy: 0.200000, val accuracy: 0.133333\nLoss: 1.676649, Train accuracy: 0.333333, val accuracy: 0.066667\n",
      "Loss: 2.018064, Train accuracy: 0.400000, val accuracy: 0.000000\n",
      "Loss: 3.142360, Train accuracy: 0.400000, val accuracy: 0.000000\n",
      "Loss: 0.153210, Train accuracy: 0.333333, val accuracy: 0.133333\nLoss: 2.171523, Train accuracy: 0.533333, val accuracy: 0.000000\n",
      "Loss: 2.356655, Train accuracy: 0.400000, val accuracy: 0.000000\n",
      "Loss: 2.418246, Train accuracy: 0.400000, val accuracy: 0.000000\n",
      "Loss: 0.181826, Train accuracy: 0.466667, val accuracy: 0.000000\nLoss: 0.311853, Train accuracy: 0.666667, val accuracy: 0.066667\n",
      "Loss: 0.064961, Train accuracy: 0.666667, val accuracy: 0.000000\n",
      "Loss: 0.724898, Train accuracy: 0.733333, val accuracy: 0.000000\n",
      "Loss: 0.171146, Train accuracy: 0.800000, val accuracy: 0.000000\nLoss: 0.028538, Train accuracy: 0.800000, val accuracy: 0.066667\n",
      "Loss: 0.248424, Train accuracy: 0.800000, val accuracy: 0.066667\n",
      "Loss: 1.506056, Train accuracy: 0.866667, val accuracy: 0.066667\n",
      "Loss: 0.158308, Train accuracy: 0.933333, val accuracy: 0.066667\nLoss: 0.003408, Train accuracy: 0.866667, val accuracy: 0.066667\n"
     ],
     "output_type": "stream"
    }
   ],
   "source": [
    "# Now, tweak some hyper parameters and make it train to 1.0 accuracy in 20 epochs or less\n",
    "\n",
    "model = TwoLayerNet(n_input = train_X.shape[1], n_output = 10, hidden_layer_size = 100, reg = 1e-4)\n",
    "dataset = Dataset(train_X[:data_size], train_y[:data_size], val_X[:data_size], val_y[:data_size])\n",
    "# TODO: Change any hyperparamers or optimizators to reach training accuracy in 20 epochs\n",
    "trainer = Trainer(model, dataset, SGD(), learning_rate=5e-2, num_epochs=20, batch_size=1)\n",
    "\n",
    "loss_history, train_history, val_history = trainer.fit()"
   ]
  },
  {
   "cell_type": "markdown",
   "metadata": {},
   "source": [
    "# Итак, основное мероприятие!\n",
    "\n",
    "Натренируйте лучшую нейросеть! Можно добавлять и изменять параметры, менять количество нейронов в слоях сети и как угодно экспериментировать. \n",
    "\n",
    "Добейтесь точности лучше **60%** на validation set."
   ]
  },
  {
   "cell_type": "code",
   "execution_count": 18,
   "metadata": {
    "scrolled": true,
    "pycharm": {
     "is_executing": false
    }
   },
   "outputs": [
    {
     "name": "stdout",
     "text": [
      "Loss: 2.292815, Train accuracy: 0.196667, val accuracy: 0.206000\n",
      "Loss: 2.252102, Train accuracy: 0.196667, val accuracy: 0.206000\n",
      "Loss: 2.159113, Train accuracy: 0.196667, val accuracy: 0.206000\n",
      "Loss: 2.213117, Train accuracy: 0.196667, val accuracy: 0.206000\n",
      "Loss: 2.222988, Train accuracy: 0.196667, val accuracy: 0.206000\n",
      "Loss: 2.152201, Train accuracy: 0.227111, val accuracy: 0.233000\n",
      "Loss: 2.057926, Train accuracy: 0.263667, val accuracy: 0.257000\n",
      "Loss: 1.951541, Train accuracy: 0.279778, val accuracy: 0.282000\n",
      "Loss: 1.955649, Train accuracy: 0.324111, val accuracy: 0.325000\n",
      "Loss: 1.919160, Train accuracy: 0.364889, val accuracy: 0.368000\n",
      "Loss: 1.751692, Train accuracy: 0.414444, val accuracy: 0.410000\n",
      "Loss: 1.478983, Train accuracy: 0.449444, val accuracy: 0.448000\n",
      "Loss: 1.657181, Train accuracy: 0.500111, val accuracy: 0.503000\n",
      "Loss: 1.406686, Train accuracy: 0.517333, val accuracy: 0.521000\n",
      "Loss: 1.269963, Train accuracy: 0.529667, val accuracy: 0.530000\n",
      "Loss: 1.329269, Train accuracy: 0.566556, val accuracy: 0.556000\n",
      "Loss: 1.307688, Train accuracy: 0.559222, val accuracy: 0.571000\n",
      "Loss: 1.267304, Train accuracy: 0.583333, val accuracy: 0.591000\n",
      "Loss: 1.108280, Train accuracy: 0.654444, val accuracy: 0.639000\n",
      "Loss: 1.281951, Train accuracy: 0.637778, val accuracy: 0.621000\n",
      "Loss: 0.862262, Train accuracy: 0.669889, val accuracy: 0.664000\n",
      "Loss: 1.270116, Train accuracy: 0.664889, val accuracy: 0.649000\n",
      "Loss: 1.053783, Train accuracy: 0.691111, val accuracy: 0.668000\n",
      "Loss: 1.143209, Train accuracy: 0.680333, val accuracy: 0.670000\n",
      "Loss: 0.877604, Train accuracy: 0.705333, val accuracy: 0.678000\n",
      "Loss: 1.097661, Train accuracy: 0.706778, val accuracy: 0.673000\n",
      "Loss: 0.776690, Train accuracy: 0.704778, val accuracy: 0.673000\n",
      "Loss: 0.836298, Train accuracy: 0.726222, val accuracy: 0.690000\n",
      "Loss: 0.882809, Train accuracy: 0.736556, val accuracy: 0.706000\n",
      "Loss: 0.612777, Train accuracy: 0.745667, val accuracy: 0.703000\nbest validation accuracy achieved: 0.706000\n"
     ],
     "output_type": "stream"
    }
   ],
   "source": [
    "# Let's train the best one-hidden-layer network we can\n",
    "\n",
    "learning_rates = 1e-1\n",
    "reg_strength = 1e-4\n",
    "learning_rate_decay = 0.999\n",
    "hidden_layer_size = 128\n",
    "num_epochs = 30\n",
    "batch_size = 128\n",
    "\n",
    "model = TwoLayerNet(n_input=train_X.shape[1], n_output=10, hidden_layer_size=hidden_layer_size, reg=reg_strength)\n",
    "dataset = Dataset(train_X, train_y, val_X, val_y)\n",
    "trainer = Trainer(model, dataset, SGD(), learning_rate=learning_rates, num_epochs=num_epochs, batch_size=batch_size, learning_rate_decay=learning_rate_decay)\n",
    "\n",
    "loss_history, train_history, val_history = trainer.fit()\n",
    "\n",
    "best_val_accuracy = max(val_history)\n",
    "best_classifier = model\n",
    "print('best validation accuracy achieved: %f' % best_val_accuracy)"
   ]
  },
  {
   "cell_type": "code",
   "execution_count": 19,
   "metadata": {
    "pycharm": {
     "is_executing": false
    }
   },
   "outputs": [
    {
     "data": {
      "text/plain": "[<matplotlib.lines.Line2D at 0x11ac27048>]"
     },
     "metadata": {},
     "output_type": "execute_result",
     "execution_count": 19
    },
    {
     "data": {
      "text/plain": "<Figure size 1080x504 with 2 Axes>",
      "image/png": "[encoded data removed]"
     },
     "metadata": {
      "needs_background": "light"
     },
     "output_type": "display_data"
    }
   ],
   "source": [
    "plt.figure(figsize=(15, 7))\n",
    "plt.subplot(211)\n",
    "plt.title(\"Loss\")\n",
    "plt.plot(loss_history)\n",
    "plt.subplot(212)\n",
    "plt.title(\"Train/validation accuracy\")\n",
    "plt.plot(train_history)\n",
    "plt.plot(val_history)"
   ]
  },
  {
   "cell_type": "markdown",
   "metadata": {},
   "source": [
    "# Как обычно, посмотрим, как наша лучшая модель работает на тестовых данных"
   ]
  },
  {
   "cell_type": "code",
   "execution_count": 20,
   "metadata": {
    "pycharm": {
     "is_executing": false
    }
   },
   "outputs": [
    {
     "name": "stdout",
     "text": [
      "Neural net test set accuracy: 0.652000\n"
     ],
     "output_type": "stream"
    }
   ],
   "source": [
    "test_pred = best_classifier.predict(test_X)\n",
    "test_accuracy = multiclass_accuracy(test_pred, test_y)\n",
    "print('Neural net test set accuracy: %f' % (test_accuracy, ))"
   ]
  },
  {
   "cell_type": "code",
   "execution_count": 17,
   "outputs": [],
   "source": [
    "\n"
   ],
   "metadata": {
    "collapsed": false,
    "pycharm": {
     "name": "#%%\n",
     "is_executing": false
    }
   }
  }
 ],
 "metadata": {
  "kernelspec": {
   "display_name": "Python 3",
   "language": "python",
   "name": "python3"
  },
  "language_info": {
   "codemirror_mode": {
    "name": "ipython",
    "version": 3
   },
   "file_extension": ".py",
   "mimetype": "text/x-python",
   "name": "python",
   "nbconvert_exporter": "python",
   "pygments_lexer": "ipython3",
   "version": "3.7.0"
  },
  "pycharm": {
   "stem_cell": {
    "cell_type": "raw",
    "source": [],
    "metadata": {
     "collapsed": false
    }
   }
  }
 },
 "nbformat": 4,
 "nbformat_minor": 2
}