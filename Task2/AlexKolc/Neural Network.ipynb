{
 "cells": [
  {
   "cell_type": "markdown",
   "metadata": {},
   "source": [
    "# Задание 2.1 - Нейронные сети\n",
    "\n",
    "В этом задании вы реализуете и натренируете настоящую нейроную сеть своими руками!\n",
    "\n",
    "В некотором смысле это будет расширением прошлого задания - нам нужно просто составить несколько линейных классификаторов вместе!\n",
    "\n",
    "<img src=\"https://i.redd.it/n9fgba8b0qr01.png\" alt=\"Stack_more_layers\" width=\"400px\"/>"
   ]
  },
  {
   "cell_type": "code",
   "execution_count": 1,
   "metadata": {},
   "outputs": [],
   "source": [
    "import numpy as np\n",
    "import matplotlib.pyplot as plt\n",
    "\n",
    "%matplotlib inline\n",
    "\n",
    "%load_ext autoreload\n",
    "%autoreload 2"
   ]
  },
  {
   "cell_type": "code",
   "execution_count": 2,
   "metadata": {},
   "outputs": [],
   "source": [
    "from dataset import load_svhn, random_split_train_val\n",
    "from gradient_check import check_layer_gradient, check_layer_param_gradient, check_model_gradient\n",
    "from layers import FullyConnectedLayer, ReLULayer\n",
    "from model import TwoLayerNet\n",
    "from trainer import Trainer, Dataset\n",
    "from optim import SGD, MomentumSGD\n",
    "from metrics import multiclass_accuracy"
   ]
  },
  {
   "cell_type": "markdown",
   "metadata": {},
   "source": [
    "# Загружаем данные\n",
    "\n",
    "И разделяем их на training и validation."
   ]
  },
  {
   "cell_type": "code",
   "execution_count": 4,
   "metadata": {},
   "outputs": [],
   "source": [
    "def prepare_for_neural_network(train_X, test_X):\n",
    "    train_flat = train_X.reshape(train_X.shape[0], -1).astype(np.float) / 255.0\n",
    "    test_flat = test_X.reshape(test_X.shape[0], -1).astype(np.float) / 255.0\n",
    "    \n",
    "    # Subtract mean\n",
    "    mean_image = np.mean(train_flat, axis = 0)\n",
    "    train_flat -= mean_image\n",
    "    test_flat -= mean_image\n",
    "    \n",
    "    return train_flat, test_flat\n",
    "    \n",
    "train_X, train_y, test_X, test_y = load_svhn(\"data\", max_train=10000, max_test=1000)    \n",
    "train_X, test_X = prepare_for_neural_network(train_X, test_X)\n",
    "# Split train into train and val\n",
    "train_X, train_y, val_X, val_y = random_split_train_val(train_X, train_y, num_val = 1000)"
   ]
  },
  {
   "cell_type": "markdown",
   "metadata": {},
   "source": [
    "# Как всегда, начинаем с кирпичиков\n",
    "\n",
    "Мы будем реализовывать необходимые нам слои по очереди. Каждый слой должен реализовать:\n",
    "- прямой проход (forward pass), который генерирует выход слоя по входу и запоминает необходимые данные\n",
    "- обратный проход (backward pass), который получает градиент по выходу слоя и вычисляет градиент по входу и по параметрам\n",
    "\n",
    "Начнем с ReLU, у которого параметров нет."
   ]
  },
  {
   "cell_type": "code",
   "execution_count": 26,
   "metadata": {
    "scrolled": false
   },
   "outputs": [
    {
     "name": "stdout",
     "output_type": "stream",
     "text": [
      "Gradient check passed!\n"
     ]
    }
   ],
   "source": [
    "# TODO: Implement ReLULayer layer in layers.py\n",
    "# Note: you'll need to copy implementation of the gradient_check function from the previous assignment\n",
    "\n",
    "X = np.array([[1,-2,3],\n",
    "              [-1, 2, 0.1]\n",
    "              ])\n",
    "\n",
    "assert check_layer_gradient(ReLULayer(), X)"
   ]
  },
  {
   "cell_type": "markdown",
   "metadata": {},
   "source": [
    "А теперь реализуем полносвязный слой (fully connected layer), у которого будет два массива параметров: W (weights) и B (bias).\n",
    "\n",
    "Все параметры наши слои будут использовать для параметров специальный класс `Param`, в котором будут храниться значения параметров и градиенты этих параметров, вычисляемые во время обратного прохода.\n",
    "\n",
    "Это даст возможность аккумулировать (суммировать) градиенты из разных частей функции потерь, например, из cross-entropy loss и regularization loss."
   ]
  },
  {
   "cell_type": "code",
   "execution_count": 28,
   "metadata": {},
   "outputs": [
    {
     "name": "stdout",
     "output_type": "stream",
     "text": [
      "Gradient check passed!\n",
      "Gradient check passed!\n",
      "Gradient check passed!\n"
     ]
    }
   ],
   "source": [
    "# TODO: Implement FullyConnected layer forward and backward methods\n",
    "assert check_layer_gradient(FullyConnectedLayer(3, 4), X)\n",
    "# TODO: Implement storing gradients for W and B\n",
    "assert check_layer_param_gradient(FullyConnectedLayer(3, 4), X, 'W')\n",
    "assert check_layer_param_gradient(FullyConnectedLayer(3, 4), X, 'B')"
   ]
  },
  {
   "cell_type": "markdown",
   "metadata": {},
   "source": [
    "## Создаем нейронную сеть\n",
    "\n",
    "Теперь мы реализуем простейшую нейронную сеть с двумя полносвязным слоями и нелинейностью ReLU. Реализуйте функцию `compute_loss_and_gradients`, она должна запустить прямой и обратный проход через оба слоя для вычисления градиентов.\n",
    "\n",
    "Не забудьте реализовать очистку градиентов в начале функции."
   ]
  },
  {
   "cell_type": "code",
   "execution_count": 36,
   "metadata": {},
   "outputs": [
    {
     "name": "stdout",
     "output_type": "stream",
     "text": [
      "Checking gradient for W1\n",
      "Gradient check passed!\n",
      "Checking gradient for B1\n",
      "Gradient check passed!\n",
      "Checking gradient for W2\n",
      "Gradient check passed!\n",
      "Checking gradient for B2\n",
      "Gradient check passed!\n"
     ]
    },
    {
     "data": {
      "text/plain": [
       "True"
      ]
     },
     "execution_count": 36,
     "metadata": {},
     "output_type": "execute_result"
    }
   ],
   "source": [
    "# TODO: In model.py, implement compute_loss_and_gradients function\n",
    "model = TwoLayerNet(n_input = train_X.shape[1], n_output = 10, hidden_layer_size = 3, reg = 0)\n",
    "loss = model.compute_loss_and_gradients(train_X[:2], train_y[:2])\n",
    "\n",
    "# TODO Now implement backward pass and aggregate all of the params\n",
    "check_model_gradient(model, train_X[:2], train_y[:2])"
   ]
  },
  {
   "cell_type": "markdown",
   "metadata": {},
   "source": [
    "Теперь добавьте к модели регуляризацию - она должна прибавляться к loss и делать свой вклад в градиенты."
   ]
  },
  {
   "cell_type": "code",
   "execution_count": 37,
   "metadata": {},
   "outputs": [
    {
     "name": "stdout",
     "output_type": "stream",
     "text": [
      "Checking gradient for W1\n",
      "Gradient check passed!\n",
      "Checking gradient for B1\n",
      "Gradient check passed!\n",
      "Checking gradient for W2\n",
      "Gradient check passed!\n",
      "Checking gradient for B2\n",
      "Gradient check passed!\n"
     ]
    },
    {
     "data": {
      "text/plain": [
       "True"
      ]
     },
     "execution_count": 37,
     "metadata": {},
     "output_type": "execute_result"
    }
   ],
   "source": [
    "# TODO Now implement l2 regularization in the forward and backward pass\n",
    "model_with_reg = TwoLayerNet(n_input = train_X.shape[1], n_output = 10, hidden_layer_size = 3, reg = 1e1)\n",
    "loss_with_reg = model_with_reg.compute_loss_and_gradients(train_X[:2], train_y[:2])\n",
    "assert loss_with_reg > loss and not np.isclose(loss_with_reg, loss), \\\n",
    "    \"Loss with regularization (%2.4f) should be higher than without it (%2.4f)!\" % (loss, loss_with_reg)\n",
    "\n",
    "check_model_gradient(model_with_reg, train_X[:2], train_y[:2])"
   ]
  },
  {
   "cell_type": "markdown",
   "metadata": {},
   "source": [
    "Также реализуем функцию предсказания (вычисления значения) модели на новых данных.\n",
    "\n",
    "Какое значение точности мы ожидаем увидеть до начала тренировки?"
   ]
  },
  {
   "cell_type": "code",
   "execution_count": 68,
   "metadata": {},
   "outputs": [
    {
     "data": {
      "text/plain": [
       "0.03333333333333333"
      ]
     },
     "execution_count": 68,
     "metadata": {},
     "output_type": "execute_result"
    }
   ],
   "source": [
    "# Finally, implement predict function!\n",
    "\n",
    "# TODO: Implement predict function\n",
    "# What would be the value we expect?\n",
    "multiclass_accuracy(model_with_reg.predict(train_X[:30]), train_y[:30]) "
   ]
  },
  {
   "cell_type": "markdown",
   "metadata": {},
   "source": [
    "# Допишем код для процесса тренировки\n",
    "\n",
    "Если все реализовано корректно, значение функции ошибки должно уменьшаться с каждой эпохой, пусть и медленно. Не беспокойтесь пока про validation accuracy."
   ]
  },
  {
   "cell_type": "code",
   "execution_count": 69,
   "metadata": {},
   "outputs": [
    {
     "name": "stdout",
     "output_type": "stream",
     "text": [
      "Epoch 20\n",
      "Loss: 2.521494, Train accuracy: 0.148222, val accuracy: 0.140000\n",
      "Loss: 2.435535, Train accuracy: 0.196667, val accuracy: 0.206000\n",
      "Loss: 2.550417, Train accuracy: 0.148222, val accuracy: 0.140000\n",
      "Loss: 2.423037, Train accuracy: 0.148222, val accuracy: 0.140000\n",
      "Loss: 2.456231, Train accuracy: 0.196667, val accuracy: 0.206000\n",
      "Loss: 2.424469, Train accuracy: 0.196667, val accuracy: 0.206000\n",
      "Loss: 2.481331, Train accuracy: 0.196667, val accuracy: 0.206000\n",
      "Loss: 2.543597, Train accuracy: 0.196667, val accuracy: 0.206000\n",
      "Loss: 2.444922, Train accuracy: 0.196667, val accuracy: 0.206000\n",
      "Loss: 2.435973, Train accuracy: 0.196667, val accuracy: 0.206000\n",
      "Loss: 2.431616, Train accuracy: 0.196667, val accuracy: 0.206000\n",
      "Loss: 2.507563, Train accuracy: 0.196667, val accuracy: 0.206000\n",
      "Loss: 2.475200, Train accuracy: 0.148222, val accuracy: 0.140000\n",
      "Loss: 2.404680, Train accuracy: 0.196667, val accuracy: 0.206000\n",
      "Loss: 2.599031, Train accuracy: 0.196667, val accuracy: 0.206000\n",
      "Loss: 2.399215, Train accuracy: 0.196667, val accuracy: 0.206000\n",
      "Loss: 2.376240, Train accuracy: 0.196667, val accuracy: 0.206000\n",
      "Loss: 2.514678, Train accuracy: 0.196667, val accuracy: 0.206000\n",
      "Loss: 2.538287, Train accuracy: 0.196667, val accuracy: 0.206000\n",
      "Loss: 2.450412, Train accuracy: 0.148222, val accuracy: 0.140000\n"
     ]
    }
   ],
   "source": [
    "model = TwoLayerNet(n_input = train_X.shape[1], n_output = 10, hidden_layer_size = 100, reg = 1e1)\n",
    "dataset = Dataset(train_X, train_y, val_X, val_y)\n",
    "trainer = Trainer(model, dataset, SGD(), learning_rate = 1e-2)\n",
    "\n",
    "# TODO Implement missing pieces in Trainer.fit function\n",
    "# You should expect loss to go down every epoch, even if it's slow\n",
    "loss_history, train_history, val_history = trainer.fit()"
   ]
  },
  {
   "cell_type": "code",
   "execution_count": 70,
   "metadata": {},
   "outputs": [
    {
     "data": {
      "text/plain": [
       "[<matplotlib.lines.Line2D at 0x21103ec3160>]"
      ]
     },
     "execution_count": 70,
     "metadata": {},
     "output_type": "execute_result"
    },
    {
     "data": {
      "image/png": "[encoded data removed]",
      "text/plain": [
       "<Figure size 432x288 with 1 Axes>"
      ]
     },
     "metadata": {
      "needs_background": "light"
     },
     "output_type": "display_data"
    }
   ],
   "source": [
    "plt.plot(train_history)\n",
    "plt.plot(val_history)"
   ]
  },
  {
   "cell_type": "markdown",
   "metadata": {},
   "source": [
    "# Улучшаем процесс тренировки\n",
    "\n",
    "Мы реализуем несколько ключевых оптимизаций, необходимых для тренировки современных нейросетей."
   ]
  },
  {
   "cell_type": "markdown",
   "metadata": {},
   "source": [
    "## Уменьшение скорости обучения (learning rate decay)\n",
    "\n",
    "Одна из необходимых оптимизаций во время тренировки нейронных сетей - постепенное уменьшение скорости обучения по мере тренировки.\n",
    "\n",
    "Один из стандартных методов - уменьшение скорости обучения (learning rate) каждые N эпох на коэффициент d (часто называемый decay). Значения N и d, как всегда, являются гиперпараметрами и должны подбираться на основе эффективности на проверочных данных (validation data). \n",
    "\n",
    "В нашем случае N будет равным 1."
   ]
  },
  {
   "cell_type": "code",
   "execution_count": 71,
   "metadata": {},
   "outputs": [
    {
     "name": "stdout",
     "output_type": "stream",
     "text": [
      "Epoch 20\n",
      "Loss: 3.201538, Train accuracy: 0.286333, val accuracy: 0.305000\n",
      "Loss: 6.466095, Train accuracy: 0.491667, val accuracy: 0.486000\n",
      "Loss: 8.291924, Train accuracy: 0.539667, val accuracy: 0.550000\n",
      "Loss: 8.479124, Train accuracy: 0.540556, val accuracy: 0.542000\n",
      "Loss: 8.795352, Train accuracy: 0.513556, val accuracy: 0.512000\n",
      "Loss: 8.881693, Train accuracy: 0.536667, val accuracy: 0.551000\n",
      "Loss: 9.523619, Train accuracy: 0.585667, val accuracy: 0.592000\n",
      "Loss: 10.144016, Train accuracy: 0.522556, val accuracy: 0.516000\n",
      "Loss: 9.275252, Train accuracy: 0.588000, val accuracy: 0.570000\n",
      "Loss: 9.949891, Train accuracy: 0.644667, val accuracy: 0.616000\n",
      "Loss: 10.044272, Train accuracy: 0.546889, val accuracy: 0.538000\n",
      "Loss: 9.553313, Train accuracy: 0.619444, val accuracy: 0.617000\n",
      "Loss: 9.386824, Train accuracy: 0.616222, val accuracy: 0.622000\n",
      "Loss: 9.679045, Train accuracy: 0.551444, val accuracy: 0.542000\n",
      "Loss: 9.324923, Train accuracy: 0.616889, val accuracy: 0.598000\n",
      "Loss: 10.127852, Train accuracy: 0.549111, val accuracy: 0.546000\n",
      "Loss: 9.931172, Train accuracy: 0.469667, val accuracy: 0.480000\n",
      "Loss: 10.088198, Train accuracy: 0.558000, val accuracy: 0.577000\n",
      "Loss: 9.922901, Train accuracy: 0.601000, val accuracy: 0.596000\n",
      "Loss: 9.726514, Train accuracy: 0.612333, val accuracy: 0.611000\n"
     ]
    }
   ],
   "source": [
    "# TODO Implement learning rate decay inside Trainer.fit method\n",
    "# Decay should happen once per epoch\n",
    "\n",
    "model = TwoLayerNet(n_input = train_X.shape[1], n_output = 10, hidden_layer_size = 100, reg = 1e-1)\n",
    "dataset = Dataset(train_X, train_y, val_X, val_y)\n",
    "trainer = Trainer(model, dataset, SGD(), learning_rate_decay=0.99)\n",
    "\n",
    "initial_learning_rate = trainer.learning_rate\n",
    "loss_history, train_history, val_history = trainer.fit()\n",
    "\n",
    "assert trainer.learning_rate < initial_learning_rate, \"Learning rate should've been reduced\"\n",
    "assert trainer.learning_rate > 0.5*initial_learning_rate, \"Learning rate shouldn'tve been reduced that much!\""
   ]
  },
  {
   "cell_type": "code",
   "execution_count": 72,
   "metadata": {},
   "outputs": [
    {
     "data": {
      "text/plain": [
       "[<matplotlib.lines.Line2D at 0x21103f29220>]"
      ]
     },
     "execution_count": 72,
     "metadata": {},
     "output_type": "execute_result"
    },
    {
     "data": {
      "image/png": "[encoded data removed]",
      "text/plain": [
       "<Figure size 432x288 with 1 Axes>"
      ]
     },
     "metadata": {
      "needs_background": "light"
     },
     "output_type": "display_data"
    }
   ],
   "source": [
    "plt.plot(train_history)\n",
    "plt.plot(val_history)"
   ]
  },
  {
   "cell_type": "markdown",
   "metadata": {},
   "source": [
    "# Накопление импульса (Momentum SGD)\n",
    "\n",
    "Другой большой класс оптимизаций - использование более эффективных методов градиентного спуска. Мы реализуем один из них - накопление импульса (Momentum SGD).\n",
    "\n",
    "Этот метод хранит скорость движения, использует градиент для ее изменения на каждом шаге, и изменяет веса пропорционально значению скорости.\n",
    "(Физическая аналогия: Вместо скорости градиенты теперь будут задавать ускорение, но будет присутствовать сила трения.)\n",
    "\n",
    "```\n",
    "velocity = momentum * velocity - learning_rate * gradient \n",
    "w = w + velocity\n",
    "```\n",
    "\n",
    "`momentum` здесь коэффициент затухания, который тоже является гиперпараметром (к счастью, для него часто есть хорошее значение по умолчанию, типичный диапазон -- 0.8-0.99).\n",
    "\n",
    "Несколько полезных ссылок, где метод разбирается более подробно:  \n",
    "http://cs231n.github.io/neural-networks-3/#sgd  \n",
    "https://distill.pub/2017/momentum/"
   ]
  },
  {
   "cell_type": "code",
   "execution_count": 73,
   "metadata": {},
   "outputs": [
    {
     "name": "stdout",
     "output_type": "stream",
     "text": [
      "Epoch 20\n",
      "Loss: 2.306898, Train accuracy: 0.196667, val accuracy: 0.206000\n",
      "Loss: 2.270254, Train accuracy: 0.196667, val accuracy: 0.206000\n",
      "Loss: 2.282920, Train accuracy: 0.196667, val accuracy: 0.206000\n",
      "Loss: 2.440128, Train accuracy: 0.196667, val accuracy: 0.206000\n",
      "Loss: 2.146598, Train accuracy: 0.203000, val accuracy: 0.212000\n",
      "Loss: 2.447987, Train accuracy: 0.250111, val accuracy: 0.252000\n",
      "Loss: 2.542941, Train accuracy: 0.273778, val accuracy: 0.276000\n",
      "Loss: 2.712985, Train accuracy: 0.288111, val accuracy: 0.292000\n",
      "Loss: 3.003564, Train accuracy: 0.339111, val accuracy: 0.348000\n",
      "Loss: 3.330883, Train accuracy: 0.413778, val accuracy: 0.405000\n",
      "Loss: 3.659546, Train accuracy: 0.440111, val accuracy: 0.422000\n",
      "Loss: 3.935756, Train accuracy: 0.468444, val accuracy: 0.458000\n",
      "Loss: 4.544683, Train accuracy: 0.485333, val accuracy: 0.463000\n",
      "Loss: 4.996675, Train accuracy: 0.526667, val accuracy: 0.520000\n",
      "Loss: 4.801896, Train accuracy: 0.542333, val accuracy: 0.535000\n",
      "Loss: 5.549211, Train accuracy: 0.566000, val accuracy: 0.564000\n",
      "Loss: 5.747609, Train accuracy: 0.586444, val accuracy: 0.577000\n",
      "Loss: 6.234638, Train accuracy: 0.600667, val accuracy: 0.587000\n",
      "Loss: 6.433299, Train accuracy: 0.615000, val accuracy: 0.596000\n",
      "Loss: 6.265679, Train accuracy: 0.627667, val accuracy: 0.609000\n"
     ]
    }
   ],
   "source": [
    "# TODO: Implement MomentumSGD.update function in optim.py\n",
    "\n",
    "model = TwoLayerNet(n_input = train_X.shape[1], n_output = 10, hidden_layer_size = 100, reg = 1e-1)\n",
    "dataset = Dataset(train_X, train_y, val_X, val_y)\n",
    "trainer = Trainer(model, dataset, MomentumSGD(), learning_rate=1e-4, learning_rate_decay=0.99)\n",
    "\n",
    "# You should see even better results than before!\n",
    "loss_history, train_history, val_history = trainer.fit()"
   ]
  },
  {
   "cell_type": "code",
   "execution_count": 74,
   "metadata": {},
   "outputs": [
    {
     "data": {
      "text/plain": [
       "[<matplotlib.lines.Line2D at 0x21104071be0>]"
      ]
     },
     "execution_count": 74,
     "metadata": {},
     "output_type": "execute_result"
    },
    {
     "data": {
      "image/png": "[encoded data removed]",
      "text/plain": [
       "<Figure size 432x288 with 1 Axes>"
      ]
     },
     "metadata": {
      "needs_background": "light"
     },
     "output_type": "display_data"
    }
   ],
   "source": [
    "plt.plot(train_history)\n",
    "plt.plot(val_history)"
   ]
  },
  {
   "cell_type": "markdown",
   "metadata": {},
   "source": [
    "# Ну что, давайте уже тренировать сеть!"
   ]
  },
  {
   "cell_type": "markdown",
   "metadata": {},
   "source": [
    "## Последний тест - переобучимся (overfit) на маленьком наборе данных\n",
    "\n",
    "Хороший способ проверить, все ли реализовано корректно - переобучить сеть на маленьком наборе данных.  \n",
    "Наша модель обладает достаточной мощностью, чтобы приблизить маленький набор данных идеально, поэтому мы ожидаем, что на нем мы быстро дойдем до 100% точности на тренировочном наборе. \n",
    "\n",
    "Если этого не происходит, то где-то была допущена ошибка!"
   ]
  },
  {
   "cell_type": "code",
   "execution_count": 81,
   "metadata": {},
   "outputs": [
    {
     "name": "stdout",
     "output_type": "stream",
     "text": [
      "Epoch 150\n",
      "Loss: 2.339393, Train accuracy: 0.200000, val accuracy: 0.066667\n",
      "Loss: 2.335139, Train accuracy: 0.266667, val accuracy: 0.066667\n",
      "Loss: 2.310308, Train accuracy: 0.200000, val accuracy: 0.066667\n",
      "Loss: 2.308598, Train accuracy: 0.200000, val accuracy: 0.133333\n",
      "Loss: 2.301213, Train accuracy: 0.266667, val accuracy: 0.000000\n",
      "Loss: 2.299517, Train accuracy: 0.266667, val accuracy: 0.000000\n",
      "Loss: 2.305779, Train accuracy: 0.266667, val accuracy: 0.000000\n",
      "Loss: 2.264685, Train accuracy: 0.266667, val accuracy: 0.000000\n",
      "Loss: 2.117731, Train accuracy: 0.400000, val accuracy: 0.000000\n",
      "Loss: 2.281214, Train accuracy: 0.400000, val accuracy: 0.000000\n",
      "Loss: 2.276083, Train accuracy: 0.400000, val accuracy: 0.000000\n",
      "Loss: 2.202493, Train accuracy: 0.400000, val accuracy: 0.000000\n",
      "Loss: 1.704300, Train accuracy: 0.400000, val accuracy: 0.000000\n",
      "Loss: 1.624032, Train accuracy: 0.333333, val accuracy: 0.000000\n",
      "Loss: 2.072250, Train accuracy: 0.333333, val accuracy: 0.000000\n",
      "Loss: 1.633641, Train accuracy: 0.333333, val accuracy: 0.000000\n",
      "Loss: 2.058719, Train accuracy: 0.400000, val accuracy: 0.000000\n",
      "Loss: 1.901858, Train accuracy: 0.400000, val accuracy: 0.000000\n",
      "Loss: 1.290418, Train accuracy: 0.400000, val accuracy: 0.000000\n",
      "Loss: 1.414486, Train accuracy: 0.400000, val accuracy: 0.000000\n",
      "Loss: 1.989437, Train accuracy: 0.400000, val accuracy: 0.000000\n",
      "Loss: 1.985099, Train accuracy: 0.466667, val accuracy: 0.000000\n",
      "Loss: 1.494911, Train accuracy: 0.400000, val accuracy: 0.000000\n",
      "Loss: 2.112192, Train accuracy: 0.400000, val accuracy: 0.000000\n",
      "Loss: 1.717202, Train accuracy: 0.466667, val accuracy: 0.066667\n",
      "Loss: 1.746278, Train accuracy: 0.466667, val accuracy: 0.066667\n",
      "Loss: 2.005477, Train accuracy: 0.466667, val accuracy: 0.000000\n",
      "Loss: 1.390704, Train accuracy: 0.466667, val accuracy: 0.000000\n",
      "Loss: 1.562339, Train accuracy: 0.466667, val accuracy: 0.000000\n",
      "Loss: 1.947106, Train accuracy: 0.533333, val accuracy: 0.066667\n",
      "Loss: 1.503520, Train accuracy: 0.600000, val accuracy: 0.066667\n",
      "Loss: 1.787938, Train accuracy: 0.600000, val accuracy: 0.066667\n",
      "Loss: 1.820153, Train accuracy: 0.600000, val accuracy: 0.066667\n",
      "Loss: 2.268873, Train accuracy: 0.600000, val accuracy: 0.066667\n",
      "Loss: 1.329740, Train accuracy: 0.600000, val accuracy: 0.066667\n",
      "Loss: 1.753183, Train accuracy: 0.666667, val accuracy: 0.066667\n",
      "Loss: 1.385227, Train accuracy: 0.666667, val accuracy: 0.066667\n",
      "Loss: 1.576007, Train accuracy: 0.666667, val accuracy: 0.066667\n",
      "Loss: 2.018595, Train accuracy: 0.666667, val accuracy: 0.066667\n",
      "Loss: 1.305604, Train accuracy: 0.600000, val accuracy: 0.066667\n",
      "Loss: 2.153655, Train accuracy: 0.666667, val accuracy: 0.066667\n",
      "Loss: 1.234871, Train accuracy: 0.666667, val accuracy: 0.066667\n",
      "Loss: 2.331514, Train accuracy: 0.733333, val accuracy: 0.133333\n",
      "Loss: 1.014952, Train accuracy: 0.666667, val accuracy: 0.066667\n",
      "Loss: 1.957285, Train accuracy: 0.733333, val accuracy: 0.133333\n",
      "Loss: 1.256173, Train accuracy: 0.666667, val accuracy: 0.133333\n",
      "Loss: 1.737802, Train accuracy: 0.666667, val accuracy: 0.133333\n",
      "Loss: 1.694086, Train accuracy: 0.733333, val accuracy: 0.066667\n",
      "Loss: 1.306452, Train accuracy: 0.666667, val accuracy: 0.066667\n",
      "Loss: 1.972820, Train accuracy: 0.733333, val accuracy: 0.133333\n",
      "Loss: 0.921396, Train accuracy: 0.733333, val accuracy: 0.133333\n",
      "Loss: 0.979344, Train accuracy: 0.666667, val accuracy: 0.000000\n",
      "Loss: 1.511892, Train accuracy: 0.733333, val accuracy: 0.066667\n",
      "Loss: 1.602780, Train accuracy: 0.733333, val accuracy: 0.066667\n",
      "Loss: 1.663461, Train accuracy: 0.733333, val accuracy: 0.066667\n",
      "Loss: 1.634552, Train accuracy: 0.733333, val accuracy: 0.066667\n",
      "Loss: 1.211484, Train accuracy: 0.733333, val accuracy: 0.066667\n",
      "Loss: 1.279304, Train accuracy: 0.733333, val accuracy: 0.066667\n",
      "Loss: 2.140725, Train accuracy: 0.733333, val accuracy: 0.066667\n",
      "Loss: 1.979239, Train accuracy: 0.733333, val accuracy: 0.066667\n",
      "Loss: 1.179841, Train accuracy: 0.733333, val accuracy: 0.066667\n",
      "Loss: 1.853134, Train accuracy: 0.733333, val accuracy: 0.066667\n",
      "Loss: 0.990148, Train accuracy: 0.733333, val accuracy: 0.066667\n",
      "Loss: 1.688380, Train accuracy: 0.733333, val accuracy: 0.066667\n",
      "Loss: 1.678357, Train accuracy: 0.733333, val accuracy: 0.066667\n",
      "Loss: 1.669550, Train accuracy: 0.733333, val accuracy: 0.066667\n",
      "Loss: 1.599549, Train accuracy: 0.800000, val accuracy: 0.066667\n",
      "Loss: 1.064178, Train accuracy: 0.733333, val accuracy: 0.066667\n",
      "Loss: 1.049624, Train accuracy: 0.733333, val accuracy: 0.066667\n",
      "Loss: 0.819519, Train accuracy: 0.800000, val accuracy: 0.066667\n",
      "Loss: 1.240126, Train accuracy: 0.733333, val accuracy: 0.066667\n",
      "Loss: 1.646138, Train accuracy: 0.800000, val accuracy: 0.066667\n",
      "Loss: 1.238990, Train accuracy: 0.800000, val accuracy: 0.066667\n",
      "Loss: 1.262594, Train accuracy: 0.800000, val accuracy: 0.066667\n",
      "Loss: 1.562431, Train accuracy: 0.866667, val accuracy: 0.066667\n",
      "Loss: 1.119854, Train accuracy: 0.866667, val accuracy: 0.066667\n",
      "Loss: 1.398277, Train accuracy: 0.866667, val accuracy: 0.066667\n",
      "Loss: 1.773121, Train accuracy: 0.866667, val accuracy: 0.066667\n",
      "Loss: 1.708823, Train accuracy: 0.933333, val accuracy: 0.066667\n",
      "Loss: 2.013899, Train accuracy: 0.933333, val accuracy: 0.066667\n",
      "Loss: 1.936775, Train accuracy: 0.933333, val accuracy: 0.066667\n",
      "Loss: 1.490737, Train accuracy: 0.933333, val accuracy: 0.066667\n",
      "Loss: 1.600679, Train accuracy: 0.933333, val accuracy: 0.066667\n",
      "Loss: 1.548483, Train accuracy: 0.933333, val accuracy: 0.066667\n",
      "Loss: 1.361875, Train accuracy: 0.933333, val accuracy: 0.066667\n",
      "Loss: 1.504229, Train accuracy: 0.933333, val accuracy: 0.066667\n",
      "Loss: 1.424461, Train accuracy: 0.933333, val accuracy: 0.066667\n",
      "Loss: 1.218173, Train accuracy: 0.933333, val accuracy: 0.066667\n",
      "Loss: 1.309804, Train accuracy: 0.933333, val accuracy: 0.066667\n",
      "Loss: 1.547368, Train accuracy: 0.933333, val accuracy: 0.066667\n",
      "Loss: 1.429172, Train accuracy: 0.933333, val accuracy: 0.066667\n",
      "Loss: 1.762052, Train accuracy: 0.933333, val accuracy: 0.066667\n",
      "Loss: 1.173409, Train accuracy: 0.933333, val accuracy: 0.066667\n",
      "Loss: 1.200760, Train accuracy: 0.933333, val accuracy: 0.066667\n",
      "Loss: 1.349691, Train accuracy: 0.933333, val accuracy: 0.066667\n",
      "Loss: 1.792611, Train accuracy: 0.933333, val accuracy: 0.066667\n",
      "Loss: 1.324784, Train accuracy: 0.933333, val accuracy: 0.066667\n",
      "Loss: 1.774665, Train accuracy: 0.933333, val accuracy: 0.066667\n",
      "Loss: 1.357258, Train accuracy: 0.933333, val accuracy: 0.066667\n",
      "Loss: 1.326312, Train accuracy: 0.933333, val accuracy: 0.066667\n",
      "Loss: 1.186531, Train accuracy: 0.933333, val accuracy: 0.066667\n",
      "Loss: 1.573761, Train accuracy: 1.000000, val accuracy: 0.066667\n",
      "Loss: 1.654102, Train accuracy: 0.933333, val accuracy: 0.066667\n",
      "Loss: 1.409950, Train accuracy: 0.933333, val accuracy: 0.066667\n",
      "Loss: 1.510197, Train accuracy: 0.933333, val accuracy: 0.066667\n",
      "Loss: 1.196101, Train accuracy: 0.933333, val accuracy: 0.066667\n",
      "Loss: 1.453721, Train accuracy: 1.000000, val accuracy: 0.066667\n",
      "Loss: 1.406133, Train accuracy: 0.933333, val accuracy: 0.000000\n",
      "Loss: 1.233761, Train accuracy: 0.933333, val accuracy: 0.066667\n",
      "Loss: 1.522370, Train accuracy: 1.000000, val accuracy: 0.066667\n",
      "Loss: 1.309324, Train accuracy: 0.933333, val accuracy: 0.000000\n",
      "Loss: 1.248208, Train accuracy: 1.000000, val accuracy: 0.000000\n",
      "Loss: 1.299175, Train accuracy: 1.000000, val accuracy: 0.000000\n",
      "Loss: 1.401411, Train accuracy: 1.000000, val accuracy: 0.000000\n",
      "Loss: 1.254843, Train accuracy: 1.000000, val accuracy: 0.000000\n",
      "Loss: 1.671970, Train accuracy: 1.000000, val accuracy: 0.000000\n",
      "Loss: 1.428008, Train accuracy: 1.000000, val accuracy: 0.000000\n",
      "Loss: 1.325609, Train accuracy: 1.000000, val accuracy: 0.000000\n",
      "Loss: 1.254026, Train accuracy: 1.000000, val accuracy: 0.000000\n",
      "Loss: 1.420662, Train accuracy: 1.000000, val accuracy: 0.000000\n",
      "Loss: 1.113290, Train accuracy: 1.000000, val accuracy: 0.000000\n",
      "Loss: 1.371909, Train accuracy: 1.000000, val accuracy: 0.000000\n",
      "Loss: 1.230606, Train accuracy: 1.000000, val accuracy: 0.000000\n",
      "Loss: 1.340237, Train accuracy: 1.000000, val accuracy: 0.000000\n",
      "Loss: 1.259544, Train accuracy: 1.000000, val accuracy: 0.000000\n",
      "Loss: 1.185452, Train accuracy: 1.000000, val accuracy: 0.000000\n",
      "Loss: 1.119495, Train accuracy: 1.000000, val accuracy: 0.000000\n"
     ]
    },
    {
     "name": "stdout",
     "output_type": "stream",
     "text": [
      "Loss: 1.261945, Train accuracy: 1.000000, val accuracy: 0.000000\n",
      "Loss: 1.330619, Train accuracy: 1.000000, val accuracy: 0.000000\n",
      "Loss: 1.225875, Train accuracy: 1.000000, val accuracy: 0.000000\n",
      "Loss: 1.282641, Train accuracy: 1.000000, val accuracy: 0.000000\n",
      "Loss: 1.346030, Train accuracy: 1.000000, val accuracy: 0.000000\n",
      "Loss: 1.157242, Train accuracy: 1.000000, val accuracy: 0.000000\n",
      "Loss: 1.485450, Train accuracy: 1.000000, val accuracy: 0.000000\n",
      "Loss: 1.277119, Train accuracy: 1.000000, val accuracy: 0.000000\n",
      "Loss: 1.249835, Train accuracy: 1.000000, val accuracy: 0.000000\n",
      "Loss: 1.191142, Train accuracy: 1.000000, val accuracy: 0.000000\n",
      "Loss: 1.263796, Train accuracy: 1.000000, val accuracy: 0.000000\n",
      "Loss: 1.318123, Train accuracy: 1.000000, val accuracy: 0.000000\n",
      "Loss: 1.393242, Train accuracy: 1.000000, val accuracy: 0.000000\n",
      "Loss: 1.355884, Train accuracy: 1.000000, val accuracy: 0.000000\n",
      "Loss: 1.497341, Train accuracy: 1.000000, val accuracy: 0.000000\n",
      "Loss: 1.374477, Train accuracy: 1.000000, val accuracy: 0.000000\n",
      "Loss: 1.478138, Train accuracy: 1.000000, val accuracy: 0.000000\n",
      "Loss: 1.405597, Train accuracy: 1.000000, val accuracy: 0.000000\n",
      "Loss: 1.277346, Train accuracy: 1.000000, val accuracy: 0.000000\n",
      "Loss: 1.200965, Train accuracy: 1.000000, val accuracy: 0.000000\n",
      "Loss: 1.313103, Train accuracy: 1.000000, val accuracy: 0.000000\n",
      "Loss: 1.050013, Train accuracy: 1.000000, val accuracy: 0.000000\n",
      "Loss: 1.332525, Train accuracy: 1.000000, val accuracy: 0.000000\n"
     ]
    }
   ],
   "source": [
    "data_size = 15\n",
    "model = TwoLayerNet(n_input = train_X.shape[1], n_output = 10, hidden_layer_size = 100, reg = 1e-1)\n",
    "dataset = Dataset(train_X[:data_size], train_y[:data_size], val_X[:data_size], val_y[:data_size])\n",
    "trainer = Trainer(model, dataset, SGD(), learning_rate=1e-1, num_epochs=150, batch_size=5)\n",
    "\n",
    "# You should expect this to reach 1.0 training accuracy \n",
    "loss_history, train_history, val_history = trainer.fit()"
   ]
  },
  {
   "cell_type": "code",
   "execution_count": 84,
   "metadata": {},
   "outputs": [
    {
     "data": {
      "text/plain": [
       "[<matplotlib.lines.Line2D at 0x21103907ac0>]"
      ]
     },
     "execution_count": 84,
     "metadata": {},
     "output_type": "execute_result"
    },
    {
     "data": {
      "image/png": "[encoded data removed]",
      "text/plain": [
       "<Figure size 432x288 with 1 Axes>"
      ]
     },
     "metadata": {
      "needs_background": "light"
     },
     "output_type": "display_data"
    }
   ],
   "source": [
    "plt.plot(train_history)\n",
    "plt.plot(val_history)"
   ]
  },
  {
   "cell_type": "markdown",
   "metadata": {},
   "source": [
    "Теперь найдем гипепараметры, для которых этот процесс сходится быстрее.\n",
    "Если все реализовано корректно, то существуют параметры, при которых процесс сходится в **20** эпох или еще быстрее.\n",
    "Найдите их!"
   ]
  },
  {
   "cell_type": "code",
   "execution_count": 79,
   "metadata": {},
   "outputs": [
    {
     "name": "stdout",
     "output_type": "stream",
     "text": [
      "Epoch 20\n",
      "Loss: 2.327081, Train accuracy: 0.200000, val accuracy: 0.133333\n",
      "Loss: 2.327607, Train accuracy: 0.200000, val accuracy: 0.066667\n",
      "Loss: 2.317494, Train accuracy: 0.200000, val accuracy: 0.066667\n",
      "Loss: 2.279503, Train accuracy: 0.266667, val accuracy: 0.066667\n",
      "Loss: 2.310900, Train accuracy: 0.200000, val accuracy: 0.066667\n",
      "Loss: 2.269795, Train accuracy: 0.266667, val accuracy: 0.000000\n",
      "Loss: 2.300845, Train accuracy: 0.266667, val accuracy: 0.000000\n",
      "Loss: 2.268417, Train accuracy: 0.266667, val accuracy: 0.000000\n",
      "Loss: 2.255819, Train accuracy: 0.400000, val accuracy: 0.000000\n",
      "Loss: 2.347785, Train accuracy: 0.400000, val accuracy: 0.000000\n",
      "Loss: 2.353958, Train accuracy: 0.400000, val accuracy: 0.000000\n",
      "Loss: 1.942773, Train accuracy: 0.400000, val accuracy: 0.000000\n",
      "Loss: 2.231477, Train accuracy: 0.333333, val accuracy: 0.000000\n",
      "Loss: 2.127795, Train accuracy: 0.333333, val accuracy: 0.000000\n",
      "Loss: 1.705590, Train accuracy: 0.333333, val accuracy: 0.000000\n",
      "Loss: 1.989122, Train accuracy: 0.400000, val accuracy: 0.000000\n",
      "Loss: 1.556097, Train accuracy: 0.400000, val accuracy: 0.000000\n",
      "Loss: 1.987597, Train accuracy: 0.400000, val accuracy: 0.000000\n",
      "Loss: 1.892120, Train accuracy: 0.400000, val accuracy: 0.000000\n",
      "Loss: 1.451684, Train accuracy: 0.400000, val accuracy: 0.000000\n"
     ]
    }
   ],
   "source": [
    "# Now, tweak some hyper parameters and make it train to 1.0 accuracy in 20 epochs or less\n",
    "\n",
    "model = TwoLayerNet(n_input = train_X.shape[1], n_output = 10, hidden_layer_size = 100, reg = 1e-1)\n",
    "dataset = Dataset(train_X[:data_size], train_y[:data_size], val_X[:data_size], val_y[:data_size])\n",
    "# TODO: Change any hyperparamers or optimizators to reach training accuracy in 20 epochs\n",
    "trainer = Trainer(model, dataset, SGD(), learning_rate=1e-1, num_epochs=20, batch_size=5)\n",
    "\n",
    "loss_history, train_history, val_history = trainer.fit()"
   ]
  },
  {
   "cell_type": "code",
   "execution_count": 85,
   "metadata": {},
   "outputs": [
    {
     "data": {
      "text/plain": [
       "[<matplotlib.lines.Line2D at 0x2110393e880>]"
      ]
     },
     "execution_count": 85,
     "metadata": {},
     "output_type": "execute_result"
    },
    {
     "data": {
      "image/png": "[encoded data removed]",
      "text/plain": [
       "<Figure size 432x288 with 1 Axes>"
      ]
     },
     "metadata": {
      "needs_background": "light"
     },
     "output_type": "display_data"
    }
   ],
   "source": [
    "plt.plot(train_history)\n",
    "plt.plot(val_history)"
   ]
  },
  {
   "cell_type": "markdown",
   "metadata": {},
   "source": [
    "# Итак, основное мероприятие!\n",
    "\n",
    "Натренируйте лучшую нейросеть! Можно добавлять и изменять параметры, менять количество нейронов в слоях сети и как угодно экспериментировать. \n",
    "\n",
    "Добейтесь точности лучше **60%** на validation set."
   ]
  },
  {
   "cell_type": "code",
   "execution_count": 109,
   "metadata": {
    "scrolled": true
   },
   "outputs": [
    {
     "name": "stdout",
     "output_type": "stream",
     "text": [
      "Epoch 20\n",
      "Loss: 2.182119, Train accuracy: 0.196667, val accuracy: 0.206000\n",
      "Loss: 2.209233, Train accuracy: 0.196667, val accuracy: 0.206000\n",
      "Loss: 2.209717, Train accuracy: 0.216556, val accuracy: 0.223000\n",
      "Loss: 1.966130, Train accuracy: 0.274556, val accuracy: 0.275000\n",
      "Loss: 1.802143, Train accuracy: 0.355000, val accuracy: 0.350000\n",
      "Loss: 1.579845, Train accuracy: 0.433444, val accuracy: 0.430000\n",
      "Loss: 1.444046, Train accuracy: 0.487778, val accuracy: 0.468000\n",
      "Loss: 1.244089, Train accuracy: 0.548222, val accuracy: 0.542000\n",
      "Loss: 1.333375, Train accuracy: 0.593111, val accuracy: 0.594000\n",
      "Loss: 1.079482, Train accuracy: 0.635889, val accuracy: 0.636000\n",
      "Loss: 1.006924, Train accuracy: 0.663111, val accuracy: 0.643000\n",
      "Loss: 1.240364, Train accuracy: 0.670000, val accuracy: 0.659000\n",
      "Loss: 1.064442, Train accuracy: 0.686333, val accuracy: 0.671000\n",
      "Loss: 1.028612, Train accuracy: 0.652556, val accuracy: 0.650000\n",
      "Loss: 0.942077, Train accuracy: 0.694111, val accuracy: 0.654000\n",
      "Loss: 0.916937, Train accuracy: 0.741222, val accuracy: 0.708000\n",
      "Loss: 0.809943, Train accuracy: 0.746111, val accuracy: 0.710000\n",
      "Loss: 0.982779, Train accuracy: 0.724556, val accuracy: 0.690000\n",
      "Loss: 0.784161, Train accuracy: 0.738444, val accuracy: 0.701000\n",
      "Loss: 0.667406, Train accuracy: 0.773556, val accuracy: 0.717000\n",
      "best validation accuracy achieved: 0.717000\n"
     ]
    }
   ],
   "source": [
    "# Let's train the best one-hidden-layer network we can\n",
    "\n",
    "learning_rates = [1e-1]\n",
    "reg_strengthes = [1e-4]\n",
    "learning_rate_decays = [0.999]\n",
    "hidden_layer_size = 128\n",
    "num_epochs = 20\n",
    "batch_size = 64\n",
    "\n",
    "best_classifier = None\n",
    "best_val_accuracy = None\n",
    "\n",
    "loss_history = []\n",
    "train_history = []\n",
    "val_history = []\n",
    "\n",
    "# TODO find the best hyperparameters to train the network\n",
    "# Don't hesitate to add new values to the arrays above, perform experiments, use any tricks you want\n",
    "# You should expect to get to at least 40% of valudation accuracy\n",
    "# Save loss/train/history of the best classifier to the variables above\n",
    "\n",
    "for learning_rate in learning_rates:\n",
    "    for reg_strength in reg_strengthes:\n",
    "        for learning_rate_decay in learning_rate_decays:\n",
    "            model = TwoLayerNet(n_input = train_X.shape[1]\n",
    "                                , n_output = 10\n",
    "                                , hidden_layer_size = hidden_layer_size\n",
    "                                , reg = reg_strength\n",
    "                               )\n",
    "            dataset = Dataset(train_X, train_y, val_X, val_y)\n",
    "            trainer = Trainer(model\n",
    "                              , dataset\n",
    "                              , SGD()\n",
    "                              , learning_rate=learning_rate\n",
    "                              , num_epochs=num_epochs\n",
    "                              , batch_size=batch_size\n",
    "                              , learning_rate_decay=learning_rate_decay\n",
    "                             )\n",
    "            cur_loss_history, cur_train_history, cur_val_history = trainer.fit()\n",
    "            if best_val_accuracy is None or np.max(cur_val_history) > best_val_accuracy:\n",
    "                best_val_accuracy = np.max(cur_val_history)\n",
    "                best_classifier = model\n",
    "                loss_history, train_history, val_history = cur_loss_history, cur_train_history, cur_val_history\n",
    "\n",
    "print('best validation accuracy achieved: %f' % best_val_accuracy)"
   ]
  },
  {
   "cell_type": "code",
   "execution_count": 110,
   "metadata": {},
   "outputs": [
    {
     "data": {
      "text/plain": [
       "[<matplotlib.lines.Line2D at 0x21103be0f70>]"
      ]
     },
     "execution_count": 110,
     "metadata": {},
     "output_type": "execute_result"
    },
    {
     "data": {
      "image/png": "[encoded data removed]",
      "text/plain": [
       "<Figure size 1080x504 with 2 Axes>"
      ]
     },
     "metadata": {
      "needs_background": "light"
     },
     "output_type": "display_data"
    }
   ],
   "source": [
    "plt.figure(figsize=(15, 7))\n",
    "plt.subplot(211)\n",
    "plt.title(\"Loss\")\n",
    "plt.plot(loss_history)\n",
    "plt.subplot(212)\n",
    "plt.title(\"Train/validation accuracy\")\n",
    "plt.plot(train_history)\n",
    "plt.plot(val_history)"
   ]
  },
  {
   "cell_type": "markdown",
   "metadata": {},
   "source": [
    "# Как обычно, посмотрим, как наша лучшая модель работает на тестовых данных"
   ]
  },
  {
   "cell_type": "code",
   "execution_count": 111,
   "metadata": {},
   "outputs": [
    {
     "name": "stdout",
     "output_type": "stream",
     "text": [
      "Neural net test set accuracy: 0.676000\n"
     ]
    }
   ],
   "source": [
    "test_pred = best_classifier.predict(test_X)\n",
    "test_accuracy = multiclass_accuracy(test_pred, test_y)\n",
    "print('Neural net test set accuracy: %f' % (test_accuracy, ))"
   ]
  },
  {
   "cell_type": "code",
   "execution_count": null,
   "metadata": {},
   "outputs": [],
   "source": []
  }
 ],
 "metadata": {
  "kernelspec": {
   "display_name": "Python 3",
   "language": "python",
   "name": "python3"
  },
  "language_info": {
   "codemirror_mode": {
    "name": "ipython",
    "version": 3
   },
   "file_extension": ".py",
   "mimetype": "text/x-python",
   "name": "python",
   "nbconvert_exporter": "python",
   "pygments_lexer": "ipython3",
   "version": "3.8.1"
  }
 },
 "nbformat": 4,
 "nbformat_minor": 2
}
