{
 "cells": [
  {
   "cell_type": "markdown",
   "metadata": {},
   "source": [
    "# Задание 2.1 - Нейронные сети\n",
    "\n",
    "В этом задании вы реализуете и натренируете настоящую нейроную сеть своими руками!\n",
    "\n",
    "В некотором смысле это будет расширением прошлого задания - нам нужно просто составить несколько линейных классификаторов вместе!\n",
    "\n",
    "<img src=\"https://i.redd.it/n9fgba8b0qr01.png\" alt=\"Stack_more_layers\" width=\"400px\"/>"
   ]
  },
  {
   "cell_type": "code",
   "execution_count": 9,
   "metadata": {},
   "outputs": [
    {
     "name": "stdout",
     "output_type": "stream",
     "text": [
      "The autoreload extension is already loaded. To reload it, use:\n",
      "  %reload_ext autoreload\n"
     ]
    }
   ],
   "source": [
    "import numpy as np\n",
    "import matplotlib.pyplot as plt\n",
    "\n",
    "%matplotlib inline\n",
    "\n",
    "%load_ext autoreload\n",
    "%autoreload 2"
   ]
  },
  {
   "cell_type": "code",
   "execution_count": 10,
   "metadata": {},
   "outputs": [
    {
     "name": "stdout",
     "output_type": "stream",
     "text": [
      "mkdir: data: File exists\n",
      "--2020-03-01 23:31:36--  http://ufldl.stanford.edu/housenumbers/train_32x32.mat\n",
      "Распознаётся ufldl.stanford.edu (ufldl.stanford.edu)… 171.64.68.10\n",
      "Подключение к ufldl.stanford.edu (ufldl.stanford.edu)|171.64.68.10|:80... соединение установлено.\n",
      "HTTP-запрос отправлен. Ожидание ответа… 416 Requested Range Not Satisfiable\n",
      "\n",
      "    Файл уже полностью загружен; нечего выполнять.\n",
      "\n",
      "--2020-03-01 23:31:38--  http://ufldl.stanford.edu/housenumbers/test_32x32.mat\n",
      "Повторное использование соединения с ufldl.stanford.edu:80.\n",
      "HTTP-запрос отправлен. Ожидание ответа… 416 Requested Range Not Satisfiable\n",
      "\n",
      "    Файл уже полностью загружен; нечего выполнять.\n",
      "\n"
     ]
    }
   ],
   "source": [
    "!./download_data.sh"
   ]
  },
  {
   "cell_type": "code",
   "execution_count": 11,
   "metadata": {},
   "outputs": [],
   "source": [
    "from dataset import load_svhn, random_split_train_val\n",
    "from gradient_check import check_layer_gradient, check_layer_param_gradient, check_model_gradient\n",
    "from layers import FullyConnectedLayer, ReLULayer\n",
    "from model import TwoLayerNet\n",
    "from trainer import Trainer, Dataset\n",
    "from optim import SGD, MomentumSGD\n",
    "from metrics import multiclass_accuracy"
   ]
  },
  {
   "cell_type": "markdown",
   "metadata": {},
   "source": [
    "# Загружаем данные\n",
    "\n",
    "И разделяем их на training и validation."
   ]
  },
  {
   "cell_type": "code",
   "execution_count": 12,
   "metadata": {},
   "outputs": [],
   "source": [
    "def prepare_for_neural_network(train_X, test_X):\n",
    "    train_flat = train_X.reshape(train_X.shape[0], -1).astype(np.float) / 255.0\n",
    "    test_flat = test_X.reshape(test_X.shape[0], -1).astype(np.float) / 255.0\n",
    "    \n",
    "    # Subtract mean\n",
    "    mean_image = np.mean(train_flat, axis = 0)\n",
    "    train_flat -= mean_image\n",
    "    test_flat -= mean_image\n",
    "    \n",
    "    return train_flat, test_flat\n",
    "    \n",
    "train_X, train_y, test_X, test_y = load_svhn(\"data\", max_train=10000, max_test=1000)    \n",
    "train_X, test_X = prepare_for_neural_network(train_X, test_X)\n",
    "# Split train into train and val\n",
    "train_X, train_y, val_X, val_y = random_split_train_val(train_X, train_y, num_val = 1000)"
   ]
  },
  {
   "cell_type": "markdown",
   "metadata": {},
   "source": [
    "# Как всегда, начинаем с кирпичиков\n",
    "\n",
    "Мы будем реализовывать необходимые нам слои по очереди. Каждый слой должен реализовать:\n",
    "- прямой проход (forward pass), который генерирует выход слоя по входу и запоминает необходимые данные\n",
    "- обратный проход (backward pass), который получает градиент по выходу слоя и вычисляет градиент по входу и по параметрам\n",
    "\n",
    "Начнем с ReLU, у которого параметров нет."
   ]
  },
  {
   "cell_type": "code",
   "execution_count": 13,
   "metadata": {
    "scrolled": false
   },
   "outputs": [
    {
     "name": "stdout",
     "output_type": "stream",
     "text": [
      "Gradient check passed!\n"
     ]
    }
   ],
   "source": [
    "# TODO: Implement ReLULayer layer in layers.py\n",
    "# Note: you'll need to copy implementation of the gradient_check function from the previous assignment\n",
    "\n",
    "X = np.array([[1,-2,3],\n",
    "              [-1, 2, 0.1]\n",
    "              ])\n",
    "\n",
    "assert check_layer_gradient(ReLULayer(), X)"
   ]
  },
  {
   "cell_type": "markdown",
   "metadata": {},
   "source": [
    "А теперь реализуем полносвязный слой (fully connected layer), у которого будет два массива параметров: W (weights) и B (bias).\n",
    "\n",
    "Все параметры наши слои будут использовать для параметров специальный класс `Param`, в котором будут храниться значения параметров и градиенты этих параметров, вычисляемые во время обратного прохода.\n",
    "\n",
    "Это даст возможность аккумулировать (суммировать) градиенты из разных частей функции потерь, например, из cross-entropy loss и regularization loss."
   ]
  },
  {
   "cell_type": "code",
   "execution_count": 14,
   "metadata": {},
   "outputs": [
    {
     "name": "stdout",
     "output_type": "stream",
     "text": [
      "Gradient check passed!\n",
      "Gradient check passed!\n",
      "Gradient check passed!\n"
     ]
    }
   ],
   "source": [
    "# TODO: Implement FullyConnected layer forward and backward methods\n",
    "assert check_layer_gradient(FullyConnectedLayer(3, 4), X)\n",
    "# TODO: Implement storing gradients for W and B\n",
    "assert check_layer_param_gradient(FullyConnectedLayer(3, 4), X, 'W')\n",
    "assert check_layer_param_gradient(FullyConnectedLayer(3, 4), X, 'B')"
   ]
  },
  {
   "cell_type": "markdown",
   "metadata": {},
   "source": [
    "## Создаем нейронную сеть\n",
    "\n",
    "Теперь мы реализуем простейшую нейронную сеть с двумя полносвязным слоями и нелинейностью ReLU. Реализуйте функцию `compute_loss_and_gradients`, она должна запустить прямой и обратный проход через оба слоя для вычисления градиентов.\n",
    "\n",
    "Не забудьте реализовать очистку градиентов в начале функции."
   ]
  },
  {
   "cell_type": "code",
   "execution_count": 15,
   "metadata": {
    "scrolled": false
   },
   "outputs": [
    {
     "name": "stdout",
     "output_type": "stream",
     "text": [
      "Checking gradient for W1\n",
      "Gradient check passed!\n",
      "Checking gradient for B1\n",
      "Gradient check passed!\n",
      "Checking gradient for W2\n",
      "Gradient check passed!\n",
      "Checking gradient for B2\n",
      "Gradient check passed!\n"
     ]
    },
    {
     "data": {
      "text/plain": [
       "True"
      ]
     },
     "execution_count": 15,
     "metadata": {},
     "output_type": "execute_result"
    }
   ],
   "source": [
    "# TODO: In model.py, implement compute_loss_and_gradients function\n",
    "model = TwoLayerNet(n_input = train_X.shape[1], n_output = 10, hidden_layer_size = 3, reg = 0)\n",
    "loss = model.compute_loss_and_gradients(train_X[:2], train_y[:2])\n",
    "\n",
    "# TODO Now implement backward pass and aggregate all of the params\n",
    "check_model_gradient(model, train_X[:2], train_y[:2])"
   ]
  },
  {
   "cell_type": "markdown",
   "metadata": {},
   "source": [
    "Теперь добавьте к модели регуляризацию - она должна прибавляться к loss и делать свой вклад в градиенты."
   ]
  },
  {
   "cell_type": "code",
   "execution_count": 16,
   "metadata": {
    "scrolled": true
   },
   "outputs": [],
   "source": [
    "# TODO Now implement l2 regularization in the forward and backward pass\n",
    "model_with_reg = TwoLayerNet(n_input = train_X.shape[1], n_output = 10, hidden_layer_size = 3, reg = 1e1)\n",
    "loss_with_reg = model_with_reg.compute_loss_and_gradients(train_X[:2], train_y[:2])\n",
    "assert loss_with_reg > loss and not np.isclose(loss_with_reg, loss), \\\n",
    "    \"Loss with regularization (%2.4f) should be higher than without it (%2.4f)!\" % (loss, loss_with_reg)\n",
    "\n",
    "#check_model_gradient(model_with_reg, train_X[:2], train_y[:2])"
   ]
  },
  {
   "cell_type": "markdown",
   "metadata": {},
   "source": [
    "Также реализуем функцию предсказания (вычисления значения) модели на новых данных.\n",
    "\n",
    "Какое значение точности мы ожидаем увидеть до начала тренировки?"
   ]
  },
  {
   "cell_type": "code",
   "execution_count": 17,
   "metadata": {
    "scrolled": true
   },
   "outputs": [
    {
     "data": {
      "text/plain": [
       "0.1"
      ]
     },
     "execution_count": 17,
     "metadata": {},
     "output_type": "execute_result"
    }
   ],
   "source": [
    "# Finally, implement predict function!\n",
    "\n",
    "# TODO: Implement predict function\n",
    "# What would be the value we expect?\n",
    "multiclass_accuracy(model_with_reg.predict(train_X[:30]), train_y[:30]) "
   ]
  },
  {
   "cell_type": "markdown",
   "metadata": {},
   "source": [
    "# Допишем код для процесса тренировки\n",
    "\n",
    "Если все реализовано корректно, значение функции ошибки должно уменьшаться с каждой эпохой, пусть и медленно. Не беспокойтесь пока про validation accuracy."
   ]
  },
  {
   "cell_type": "code",
   "execution_count": 18,
   "metadata": {},
   "outputs": [
    {
     "name": "stdout",
     "output_type": "stream",
     "text": [
      "Loss: 2.302491, Train accuracy: 0.196667, val accuracy: 0.206000\n",
      "Loss: 2.302451, Train accuracy: 0.196667, val accuracy: 0.206000\n",
      "Loss: 2.302476, Train accuracy: 0.148222, val accuracy: 0.140000\n",
      "Loss: 2.302536, Train accuracy: 0.196667, val accuracy: 0.206000\n",
      "Loss: 2.302488, Train accuracy: 0.196667, val accuracy: 0.206000\n",
      "Loss: 2.302381, Train accuracy: 0.196667, val accuracy: 0.206000\n",
      "Loss: 2.302578, Train accuracy: 0.196667, val accuracy: 0.206000\n",
      "Loss: 2.302424, Train accuracy: 0.196667, val accuracy: 0.206000\n",
      "Loss: 2.302486, Train accuracy: 0.196667, val accuracy: 0.206000\n",
      "Loss: 2.302473, Train accuracy: 0.196667, val accuracy: 0.206000\n",
      "Loss: 2.302535, Train accuracy: 0.196667, val accuracy: 0.206000\n",
      "Loss: 2.302558, Train accuracy: 0.196667, val accuracy: 0.206000\n",
      "Loss: 2.302561, Train accuracy: 0.196667, val accuracy: 0.206000\n",
      "Loss: 2.302531, Train accuracy: 0.196667, val accuracy: 0.206000\n",
      "Loss: 2.302597, Train accuracy: 0.196667, val accuracy: 0.206000\n",
      "Loss: 2.302473, Train accuracy: 0.196667, val accuracy: 0.206000\n",
      "Loss: 2.302530, Train accuracy: 0.196667, val accuracy: 0.206000\n",
      "Loss: 2.302513, Train accuracy: 0.148222, val accuracy: 0.140000\n",
      "Loss: 2.302480, Train accuracy: 0.196667, val accuracy: 0.206000\n",
      "Loss: 2.302503, Train accuracy: 0.196667, val accuracy: 0.206000\n"
     ]
    }
   ],
   "source": [
    "model = TwoLayerNet(n_input = train_X.shape[1], n_output = 10, hidden_layer_size = 100, reg = 1e1)\n",
    "dataset = Dataset(train_X, train_y, val_X, val_y)\n",
    "trainer = Trainer(model, dataset, SGD(), learning_rate = 1e-2)\n",
    "\n",
    "# TODO Implement missing pieces in Trainer.fit function\n",
    "# You should expect loss to go down every epoch, even if it's slow\n",
    "loss_history, train_history, val_history = trainer.fit()"
   ]
  },
  {
   "cell_type": "code",
   "execution_count": 19,
   "metadata": {
    "scrolled": true
   },
   "outputs": [
    {
     "data": {
      "text/plain": [
       "[<matplotlib.lines.Line2D at 0x111400790>]"
      ]
     },
     "execution_count": 19,
     "metadata": {},
     "output_type": "execute_result"
    },
    {
     "data": {
      "image/png": "[encoded data removed]",
      "text/plain": [
       "<Figure size 432x288 with 1 Axes>"
      ]
     },
     "metadata": {
      "needs_background": "light"
     },
     "output_type": "display_data"
    }
   ],
   "source": [
    "plt.plot(train_history)\n",
    "plt.plot(val_history)"
   ]
  },
  {
   "cell_type": "markdown",
   "metadata": {},
   "source": [
    "# Улучшаем процесс тренировки\n",
    "\n",
    "Мы реализуем несколько ключевых оптимизаций, необходимых для тренировки современных нейросетей."
   ]
  },
  {
   "cell_type": "markdown",
   "metadata": {},
   "source": [
    "## Уменьшение скорости обучения (learning rate decay)\n",
    "\n",
    "Одна из необходимых оптимизаций во время тренировки нейронных сетей - постепенное уменьшение скорости обучения по мере тренировки.\n",
    "\n",
    "Один из стандартных методов - уменьшение скорости обучения (learning rate) каждые N эпох на коэффициент d (часто называемый decay). Значения N и d, как всегда, являются гиперпараметрами и должны подбираться на основе эффективности на проверочных данных (validation data). \n",
    "\n",
    "В нашем случае N будет равным 1."
   ]
  },
  {
   "cell_type": "code",
   "execution_count": 20,
   "metadata": {},
   "outputs": [
    {
     "name": "stdout",
     "output_type": "stream",
     "text": [
      "Loss: 2.302239, Train accuracy: 0.196667, val accuracy: 0.206000\n",
      "Loss: 2.308332, Train accuracy: 0.196667, val accuracy: 0.206000\n",
      "Loss: 2.289100, Train accuracy: 0.196667, val accuracy: 0.206000\n",
      "Loss: 2.306072, Train accuracy: 0.196667, val accuracy: 0.206000\n",
      "Loss: 2.250868, Train accuracy: 0.196667, val accuracy: 0.206000\n",
      "Loss: 2.291086, Train accuracy: 0.196667, val accuracy: 0.206000\n",
      "Loss: 2.212819, Train accuracy: 0.196667, val accuracy: 0.206000\n",
      "Loss: 2.325159, Train accuracy: 0.196667, val accuracy: 0.206000\n",
      "Loss: 2.290994, Train accuracy: 0.196667, val accuracy: 0.206000\n",
      "Loss: 2.313145, Train accuracy: 0.196667, val accuracy: 0.206000\n",
      "Loss: 2.238692, Train accuracy: 0.196667, val accuracy: 0.206000\n",
      "Loss: 2.286604, Train accuracy: 0.196667, val accuracy: 0.206000\n",
      "Loss: 2.355889, Train accuracy: 0.196667, val accuracy: 0.206000\n",
      "Loss: 2.233891, Train accuracy: 0.196667, val accuracy: 0.206000\n",
      "Loss: 2.379898, Train accuracy: 0.196667, val accuracy: 0.206000\n",
      "Loss: 2.259309, Train accuracy: 0.196667, val accuracy: 0.206000\n",
      "Loss: 2.315171, Train accuracy: 0.196667, val accuracy: 0.206000\n",
      "Loss: 2.272651, Train accuracy: 0.196667, val accuracy: 0.206000\n",
      "Loss: 2.288477, Train accuracy: 0.196667, val accuracy: 0.206000\n",
      "Loss: 2.297109, Train accuracy: 0.196667, val accuracy: 0.206000\n"
     ]
    }
   ],
   "source": [
    "# TODO Implement learning rate decay inside Trainer.fit method\n",
    "# Decay should happen once per epoch\n",
    "\n",
    "model = TwoLayerNet(n_input = train_X.shape[1], n_output = 10, hidden_layer_size = 100, reg = 1e-1)\n",
    "dataset = Dataset(train_X, train_y, val_X, val_y)\n",
    "trainer = Trainer(model, dataset, SGD(), learning_rate_decay=0.99)\n",
    "\n",
    "initial_learning_rate = trainer.learning_rate\n",
    "loss_history, train_history, val_history = trainer.fit()\n",
    "\n",
    "assert trainer.learning_rate < initial_learning_rate, \"Learning rate should've been reduced\"\n",
    "assert trainer.learning_rate > 0.5*initial_learning_rate, \"Learning rate shouldn'tve been reduced that much!\""
   ]
  },
  {
   "cell_type": "markdown",
   "metadata": {},
   "source": [
    "# Накопление импульса (Momentum SGD)\n",
    "\n",
    "Другой большой класс оптимизаций - использование более эффективных методов градиентного спуска. Мы реализуем один из них - накопление импульса (Momentum SGD).\n",
    "\n",
    "Этот метод хранит скорость движения, использует градиент для ее изменения на каждом шаге, и изменяет веса пропорционально значению скорости.\n",
    "(Физическая аналогия: Вместо скорости градиенты теперь будут задавать ускорение, но будет присутствовать сила трения.)\n",
    "\n",
    "```\n",
    "velocity = momentum * velocity - learning_rate * gradient \n",
    "w = w + velocity\n",
    "```\n",
    "\n",
    "`momentum` здесь коэффициент затухания, который тоже является гиперпараметром (к счастью, для него часто есть хорошее значение по умолчанию, типичный диапазон -- 0.8-0.99).\n",
    "\n",
    "Несколько полезных ссылок, где метод разбирается более подробно:  \n",
    "http://cs231n.github.io/neural-networks-3/#sgd  \n",
    "https://distill.pub/2017/momentum/"
   ]
  },
  {
   "cell_type": "code",
   "execution_count": 21,
   "metadata": {},
   "outputs": [
    {
     "name": "stdout",
     "output_type": "stream",
     "text": [
      "Loss: 2.328003, Train accuracy: 0.196667, val accuracy: 0.206000\n",
      "Loss: 2.322595, Train accuracy: 0.196667, val accuracy: 0.206000\n",
      "Loss: 2.320111, Train accuracy: 0.196667, val accuracy: 0.206000\n",
      "Loss: 2.311517, Train accuracy: 0.196667, val accuracy: 0.206000\n",
      "Loss: 2.309783, Train accuracy: 0.196667, val accuracy: 0.206000\n",
      "Loss: 2.312030, Train accuracy: 0.196667, val accuracy: 0.206000\n",
      "Loss: 2.305316, Train accuracy: 0.196667, val accuracy: 0.206000\n",
      "Loss: 2.305544, Train accuracy: 0.196667, val accuracy: 0.206000\n",
      "Loss: 2.302871, Train accuracy: 0.196667, val accuracy: 0.206000\n",
      "Loss: 2.303209, Train accuracy: 0.196667, val accuracy: 0.206000\n",
      "Loss: 2.301828, Train accuracy: 0.196667, val accuracy: 0.206000\n",
      "Loss: 2.305645, Train accuracy: 0.196667, val accuracy: 0.206000\n",
      "Loss: 2.297752, Train accuracy: 0.196667, val accuracy: 0.206000\n",
      "Loss: 2.302125, Train accuracy: 0.196667, val accuracy: 0.206000\n",
      "Loss: 2.301015, Train accuracy: 0.196667, val accuracy: 0.206000\n",
      "Loss: 2.298528, Train accuracy: 0.196667, val accuracy: 0.206000\n",
      "Loss: 2.298850, Train accuracy: 0.196667, val accuracy: 0.206000\n",
      "Loss: 2.294343, Train accuracy: 0.196667, val accuracy: 0.206000\n",
      "Loss: 2.292257, Train accuracy: 0.196667, val accuracy: 0.206000\n",
      "Loss: 2.303052, Train accuracy: 0.196667, val accuracy: 0.206000\n"
     ]
    }
   ],
   "source": [
    "# TODO: Implement MomentumSGD.update function in optim.py\n",
    "\n",
    "model = TwoLayerNet(n_input = train_X.shape[1], n_output = 10, hidden_layer_size = 100, reg = 1e-1)\n",
    "dataset = Dataset(train_X, train_y, val_X, val_y)\n",
    "trainer = Trainer(model, dataset, MomentumSGD(), learning_rate=1e-4, learning_rate_decay=0.99)\n",
    "\n",
    "# You should see even better results than before!\n",
    "loss_history, train_history, val_history = trainer.fit()"
   ]
  },
  {
   "cell_type": "markdown",
   "metadata": {},
   "source": [
    "# Ну что, давайте уже тренировать сеть!"
   ]
  },
  {
   "cell_type": "markdown",
   "metadata": {},
   "source": [
    "## Последний тест - переобучимся (overfit) на маленьком наборе данных\n",
    "\n",
    "Хороший способ проверить, все ли реализовано корректно - переобучить сеть на маленьком наборе данных.  \n",
    "Наша модель обладает достаточной мощностью, чтобы приблизить маленький набор данных идеально, поэтому мы ожидаем, что на нем мы быстро дойдем до 100% точности на тренировочном наборе. \n",
    "\n",
    "Если этого не происходит, то где-то была допущена ошибка!"
   ]
  },
  {
   "cell_type": "code",
   "execution_count": 22,
   "metadata": {},
   "outputs": [
    {
     "name": "stdout",
     "output_type": "stream",
     "text": [
      "Loss: 2.339515, Train accuracy: 0.266667, val accuracy: 0.066667\n",
      "Loss: 2.324188, Train accuracy: 0.266667, val accuracy: 0.066667\n",
      "Loss: 2.312022, Train accuracy: 0.200000, val accuracy: 0.066667\n",
      "Loss: 2.329603, Train accuracy: 0.200000, val accuracy: 0.133333\n",
      "Loss: 2.312070, Train accuracy: 0.200000, val accuracy: 0.066667\n",
      "Loss: 2.316725, Train accuracy: 0.200000, val accuracy: 0.066667\n",
      "Loss: 2.277508, Train accuracy: 0.266667, val accuracy: 0.066667\n",
      "Loss: 2.233979, Train accuracy: 0.400000, val accuracy: 0.000000\n",
      "Loss: 2.162042, Train accuracy: 0.400000, val accuracy: 0.000000\n",
      "Loss: 2.025126, Train accuracy: 0.400000, val accuracy: 0.000000\n",
      "Loss: 1.906637, Train accuracy: 0.400000, val accuracy: 0.000000\n",
      "Loss: 2.266989, Train accuracy: 0.333333, val accuracy: 0.000000\n",
      "Loss: 1.674035, Train accuracy: 0.333333, val accuracy: 0.000000\n",
      "Loss: 2.259103, Train accuracy: 0.333333, val accuracy: 0.000000\n",
      "Loss: 1.959786, Train accuracy: 0.333333, val accuracy: 0.000000\n",
      "Loss: 1.663200, Train accuracy: 0.333333, val accuracy: 0.000000\n",
      "Loss: 2.053776, Train accuracy: 0.333333, val accuracy: 0.000000\n",
      "Loss: 1.405266, Train accuracy: 0.333333, val accuracy: 0.000000\n",
      "Loss: 1.508166, Train accuracy: 0.333333, val accuracy: 0.000000\n",
      "Loss: 1.805723, Train accuracy: 0.333333, val accuracy: 0.000000\n",
      "Loss: 2.004494, Train accuracy: 0.333333, val accuracy: 0.000000\n",
      "Loss: 1.568804, Train accuracy: 0.333333, val accuracy: 0.000000\n",
      "Loss: 1.967230, Train accuracy: 0.333333, val accuracy: 0.000000\n",
      "Loss: 1.877235, Train accuracy: 0.400000, val accuracy: 0.000000\n",
      "Loss: 1.256787, Train accuracy: 0.400000, val accuracy: 0.000000\n",
      "Loss: 2.086463, Train accuracy: 0.466667, val accuracy: 0.000000\n",
      "Loss: 1.735391, Train accuracy: 0.466667, val accuracy: 0.000000\n",
      "Loss: 2.160559, Train accuracy: 0.466667, val accuracy: 0.000000\n",
      "Loss: 2.015526, Train accuracy: 0.466667, val accuracy: 0.000000\n",
      "Loss: 1.343634, Train accuracy: 0.466667, val accuracy: 0.000000\n",
      "Loss: 1.818964, Train accuracy: 0.533333, val accuracy: 0.000000\n",
      "Loss: 1.652249, Train accuracy: 0.533333, val accuracy: 0.000000\n",
      "Loss: 1.403237, Train accuracy: 0.466667, val accuracy: 0.000000\n",
      "Loss: 1.937808, Train accuracy: 0.533333, val accuracy: 0.000000\n",
      "Loss: 1.686796, Train accuracy: 0.533333, val accuracy: 0.000000\n",
      "Loss: 2.028998, Train accuracy: 0.533333, val accuracy: 0.000000\n",
      "Loss: 1.096828, Train accuracy: 0.533333, val accuracy: 0.000000\n",
      "Loss: 1.632072, Train accuracy: 0.600000, val accuracy: 0.000000\n",
      "Loss: 1.729369, Train accuracy: 0.533333, val accuracy: 0.000000\n",
      "Loss: 1.901766, Train accuracy: 0.666667, val accuracy: 0.000000\n",
      "Loss: 2.487938, Train accuracy: 0.600000, val accuracy: 0.000000\n",
      "Loss: 1.128484, Train accuracy: 0.600000, val accuracy: 0.000000\n",
      "Loss: 1.691020, Train accuracy: 0.600000, val accuracy: 0.000000\n",
      "Loss: 1.764817, Train accuracy: 0.600000, val accuracy: 0.000000\n",
      "Loss: 1.478626, Train accuracy: 0.600000, val accuracy: 0.000000\n",
      "Loss: 1.944383, Train accuracy: 0.600000, val accuracy: 0.066667\n",
      "Loss: 1.355046, Train accuracy: 0.666667, val accuracy: 0.000000\n",
      "Loss: 1.683233, Train accuracy: 0.666667, val accuracy: 0.000000\n",
      "Loss: 1.686358, Train accuracy: 0.733333, val accuracy: 0.000000\n",
      "Loss: 1.385972, Train accuracy: 0.733333, val accuracy: 0.066667\n",
      "Loss: 1.637424, Train accuracy: 0.666667, val accuracy: 0.000000\n",
      "Loss: 1.663101, Train accuracy: 0.733333, val accuracy: 0.000000\n",
      "Loss: 1.618008, Train accuracy: 0.733333, val accuracy: 0.000000\n",
      "Loss: 1.877425, Train accuracy: 0.733333, val accuracy: 0.000000\n",
      "Loss: 1.584734, Train accuracy: 0.733333, val accuracy: 0.000000\n",
      "Loss: 1.663872, Train accuracy: 0.733333, val accuracy: 0.000000\n",
      "Loss: 1.076790, Train accuracy: 0.666667, val accuracy: 0.000000\n",
      "Loss: 0.997796, Train accuracy: 0.733333, val accuracy: 0.000000\n",
      "Loss: 1.555090, Train accuracy: 0.733333, val accuracy: 0.000000\n",
      "Loss: 1.028639, Train accuracy: 0.733333, val accuracy: 0.000000\n",
      "Loss: 2.067681, Train accuracy: 0.733333, val accuracy: 0.000000\n",
      "Loss: 1.652520, Train accuracy: 0.733333, val accuracy: 0.000000\n",
      "Loss: 1.364377, Train accuracy: 0.733333, val accuracy: 0.000000\n",
      "Loss: 1.377750, Train accuracy: 0.733333, val accuracy: 0.000000\n",
      "Loss: 1.995498, Train accuracy: 0.733333, val accuracy: 0.066667\n",
      "Loss: 1.314331, Train accuracy: 0.733333, val accuracy: 0.066667\n",
      "Loss: 1.276717, Train accuracy: 0.733333, val accuracy: 0.000000\n",
      "Loss: 0.919653, Train accuracy: 0.733333, val accuracy: 0.000000\n",
      "Loss: 1.182884, Train accuracy: 0.733333, val accuracy: 0.000000\n",
      "Loss: 1.782662, Train accuracy: 0.733333, val accuracy: 0.066667\n",
      "Loss: 1.634202, Train accuracy: 0.733333, val accuracy: 0.000000\n",
      "Loss: 1.235411, Train accuracy: 0.733333, val accuracy: 0.000000\n",
      "Loss: 1.582038, Train accuracy: 0.800000, val accuracy: 0.000000\n",
      "Loss: 1.745388, Train accuracy: 0.800000, val accuracy: 0.000000\n",
      "Loss: 1.283189, Train accuracy: 0.800000, val accuracy: 0.000000\n",
      "Loss: 1.808222, Train accuracy: 0.800000, val accuracy: 0.000000\n",
      "Loss: 2.045547, Train accuracy: 0.800000, val accuracy: 0.000000\n",
      "Loss: 1.390223, Train accuracy: 0.800000, val accuracy: 0.066667\n",
      "Loss: 0.981153, Train accuracy: 0.800000, val accuracy: 0.066667\n",
      "Loss: 1.647631, Train accuracy: 0.800000, val accuracy: 0.066667\n",
      "Loss: 1.655900, Train accuracy: 0.800000, val accuracy: 0.066667\n",
      "Loss: 1.155740, Train accuracy: 0.800000, val accuracy: 0.000000\n",
      "Loss: 1.305531, Train accuracy: 0.800000, val accuracy: 0.000000\n",
      "Loss: 1.564083, Train accuracy: 0.800000, val accuracy: 0.000000\n",
      "Loss: 0.947727, Train accuracy: 0.800000, val accuracy: 0.000000\n",
      "Loss: 1.267408, Train accuracy: 0.800000, val accuracy: 0.066667\n",
      "Loss: 1.300756, Train accuracy: 0.800000, val accuracy: 0.066667\n",
      "Loss: 0.932287, Train accuracy: 0.800000, val accuracy: 0.000000\n",
      "Loss: 1.379658, Train accuracy: 0.800000, val accuracy: 0.066667\n",
      "Loss: 1.717858, Train accuracy: 0.800000, val accuracy: 0.000000\n",
      "Loss: 1.388081, Train accuracy: 0.800000, val accuracy: 0.066667\n",
      "Loss: 1.648459, Train accuracy: 0.800000, val accuracy: 0.066667\n",
      "Loss: 1.559791, Train accuracy: 0.800000, val accuracy: 0.000000\n",
      "Loss: 1.215647, Train accuracy: 0.800000, val accuracy: 0.000000\n",
      "Loss: 1.300102, Train accuracy: 0.800000, val accuracy: 0.000000\n",
      "Loss: 1.291681, Train accuracy: 0.800000, val accuracy: 0.000000\n",
      "Loss: 1.025718, Train accuracy: 0.800000, val accuracy: 0.066667\n",
      "Loss: 1.726563, Train accuracy: 0.800000, val accuracy: 0.066667\n",
      "Loss: 1.287155, Train accuracy: 0.800000, val accuracy: 0.000000\n",
      "Loss: 1.616040, Train accuracy: 0.800000, val accuracy: 0.066667\n",
      "Loss: 1.935106, Train accuracy: 0.800000, val accuracy: 0.066667\n",
      "Loss: 1.345902, Train accuracy: 0.800000, val accuracy: 0.066667\n",
      "Loss: 1.941323, Train accuracy: 0.866667, val accuracy: 0.066667\n",
      "Loss: 1.130955, Train accuracy: 0.866667, val accuracy: 0.066667\n",
      "Loss: 1.328271, Train accuracy: 0.866667, val accuracy: 0.000000\n",
      "Loss: 1.278687, Train accuracy: 0.866667, val accuracy: 0.000000\n",
      "Loss: 1.426480, Train accuracy: 0.866667, val accuracy: 0.000000\n",
      "Loss: 1.603676, Train accuracy: 0.866667, val accuracy: 0.000000\n",
      "Loss: 1.220900, Train accuracy: 0.866667, val accuracy: 0.066667\n",
      "Loss: 1.225858, Train accuracy: 0.866667, val accuracy: 0.000000\n",
      "Loss: 1.647074, Train accuracy: 0.866667, val accuracy: 0.066667\n",
      "Loss: 1.249827, Train accuracy: 0.866667, val accuracy: 0.000000\n",
      "Loss: 1.065933, Train accuracy: 0.866667, val accuracy: 0.066667\n",
      "Loss: 1.311285, Train accuracy: 0.866667, val accuracy: 0.066667\n",
      "Loss: 1.394974, Train accuracy: 0.866667, val accuracy: 0.000000\n",
      "Loss: 1.381958, Train accuracy: 0.933333, val accuracy: 0.066667\n",
      "Loss: 1.507334, Train accuracy: 0.866667, val accuracy: 0.000000\n",
      "Loss: 1.364148, Train accuracy: 0.866667, val accuracy: 0.066667\n",
      "Loss: 1.624832, Train accuracy: 0.866667, val accuracy: 0.000000\n",
      "Loss: 1.688127, Train accuracy: 0.866667, val accuracy: 0.000000\n",
      "Loss: 1.199394, Train accuracy: 0.866667, val accuracy: 0.000000\n",
      "Loss: 1.747265, Train accuracy: 0.933333, val accuracy: 0.000000\n",
      "Loss: 1.187615, Train accuracy: 0.866667, val accuracy: 0.000000\n",
      "Loss: 1.717135, Train accuracy: 0.933333, val accuracy: 0.000000\n",
      "Loss: 1.383422, Train accuracy: 0.933333, val accuracy: 0.000000\n",
      "Loss: 1.117606, Train accuracy: 0.933333, val accuracy: 0.000000\n",
      "Loss: 1.177302, Train accuracy: 0.933333, val accuracy: 0.000000\n",
      "Loss: 1.130658, Train accuracy: 0.933333, val accuracy: 0.000000\n",
      "Loss: 0.977260, Train accuracy: 0.866667, val accuracy: 0.000000\n",
      "Loss: 1.743633, Train accuracy: 0.933333, val accuracy: 0.000000\n"
     ]
    },
    {
     "name": "stdout",
     "output_type": "stream",
     "text": [
      "Loss: 1.696995, Train accuracy: 0.933333, val accuracy: 0.000000\n",
      "Loss: 1.392860, Train accuracy: 0.933333, val accuracy: 0.000000\n",
      "Loss: 1.192365, Train accuracy: 0.933333, val accuracy: 0.000000\n",
      "Loss: 1.162658, Train accuracy: 0.933333, val accuracy: 0.000000\n",
      "Loss: 1.268564, Train accuracy: 1.000000, val accuracy: 0.000000\n",
      "Loss: 1.380295, Train accuracy: 1.000000, val accuracy: 0.000000\n",
      "Loss: 1.216389, Train accuracy: 1.000000, val accuracy: 0.000000\n",
      "Loss: 1.484830, Train accuracy: 1.000000, val accuracy: 0.000000\n",
      "Loss: 1.368515, Train accuracy: 1.000000, val accuracy: 0.000000\n",
      "Loss: 1.086129, Train accuracy: 1.000000, val accuracy: 0.000000\n",
      "Loss: 1.535074, Train accuracy: 1.000000, val accuracy: 0.000000\n",
      "Loss: 1.401894, Train accuracy: 1.000000, val accuracy: 0.000000\n",
      "Loss: 1.195483, Train accuracy: 1.000000, val accuracy: 0.000000\n",
      "Loss: 1.536462, Train accuracy: 1.000000, val accuracy: 0.000000\n",
      "Loss: 1.383212, Train accuracy: 1.000000, val accuracy: 0.000000\n",
      "Loss: 1.469463, Train accuracy: 1.000000, val accuracy: 0.000000\n",
      "Loss: 1.311500, Train accuracy: 1.000000, val accuracy: 0.000000\n",
      "Loss: 1.361495, Train accuracy: 1.000000, val accuracy: 0.000000\n",
      "Loss: 1.549090, Train accuracy: 1.000000, val accuracy: 0.000000\n",
      "Loss: 1.499534, Train accuracy: 1.000000, val accuracy: 0.000000\n"
     ]
    }
   ],
   "source": [
    "data_size = 15\n",
    "model = TwoLayerNet(n_input = train_X.shape[1], n_output = 10, hidden_layer_size = 100, reg = 1e-1)\n",
    "dataset = Dataset(train_X[:data_size], train_y[:data_size], val_X[:data_size], val_y[:data_size])\n",
    "trainer = Trainer(model, dataset, SGD(), learning_rate=1e-1, num_epochs=150, batch_size=5)\n",
    "\n",
    "# You should expect this to reach 1.0 training accuracy \n",
    "loss_history, train_history, val_history = trainer.fit()"
   ]
  },
  {
   "cell_type": "markdown",
   "metadata": {},
   "source": [
    "Теперь найдем гипепараметры, для которых этот процесс сходится быстрее.\n",
    "Если все реализовано корректно, то существуют параметры, при которых процесс сходится в **20** эпох или еще быстрее.\n",
    "Найдите их!"
   ]
  },
  {
   "cell_type": "code",
   "execution_count": 23,
   "metadata": {
    "scrolled": false
   },
   "outputs": [
    {
     "name": "stdout",
     "output_type": "stream",
     "text": [
      "Loss: 2.330822, Train accuracy: 0.200000, val accuracy: 0.133333\n",
      "Loss: 2.323693, Train accuracy: 0.200000, val accuracy: 0.133333\n",
      "Loss: 2.306870, Train accuracy: 0.200000, val accuracy: 0.133333\n",
      "Loss: 2.315499, Train accuracy: 0.200000, val accuracy: 0.133333\n",
      "Loss: 2.303619, Train accuracy: 0.266667, val accuracy: 0.000000\n",
      "Loss: 2.325850, Train accuracy: 0.266667, val accuracy: 0.000000\n",
      "Loss: 2.273802, Train accuracy: 0.400000, val accuracy: 0.000000\n",
      "Loss: 2.287485, Train accuracy: 0.400000, val accuracy: 0.000000\n",
      "Loss: 2.299485, Train accuracy: 0.400000, val accuracy: 0.000000\n",
      "Loss: 2.272459, Train accuracy: 0.400000, val accuracy: 0.000000\n",
      "Loss: 2.227386, Train accuracy: 0.333333, val accuracy: 0.000000\n",
      "Loss: 2.065107, Train accuracy: 0.333333, val accuracy: 0.000000\n",
      "Loss: 1.890896, Train accuracy: 0.333333, val accuracy: 0.000000\n",
      "Loss: 1.944122, Train accuracy: 0.333333, val accuracy: 0.000000\n",
      "Loss: 1.762096, Train accuracy: 0.333333, val accuracy: 0.000000\n",
      "Loss: 1.932105, Train accuracy: 0.333333, val accuracy: 0.000000\n",
      "Loss: 1.847642, Train accuracy: 0.333333, val accuracy: 0.000000\n",
      "Loss: 1.920100, Train accuracy: 0.333333, val accuracy: 0.000000\n",
      "Loss: 2.311283, Train accuracy: 0.333333, val accuracy: 0.000000\n",
      "Loss: 1.826751, Train accuracy: 0.333333, val accuracy: 0.000000\n"
     ]
    }
   ],
   "source": [
    "# Now, tweak some hyper parameters and make it train to 1.0 accuracy in 20 epochs or less\n",
    "\n",
    "model = TwoLayerNet(n_input = train_X.shape[1], n_output = 10, hidden_layer_size = 100, reg = 1e-1)\n",
    "dataset = Dataset(train_X[:data_size], train_y[:data_size], val_X[:data_size], val_y[:data_size])\n",
    "# TODO: Change any hyperparamers or optimizators to reach training accuracy in 20 epochs\n",
    "trainer = Trainer(model, dataset, SGD(), learning_rate=1e-1, num_epochs=20, batch_size=5)\n",
    "\n",
    "loss_history, train_history, val_history = trainer.fit()"
   ]
  },
  {
   "cell_type": "markdown",
   "metadata": {},
   "source": [
    "# Итак, основное мероприятие!\n",
    "\n",
    "Натренируйте лучшую нейросеть! Можно добавлять и изменять параметры, менять количество нейронов в слоях сети и как угодно экспериментировать. \n",
    "\n",
    "Добейтесь точности лучше **60%** на validation set."
   ]
  },
  {
   "cell_type": "code",
   "execution_count": 24,
   "metadata": {
    "scrolled": true
   },
   "outputs": [
    {
     "name": "stdout",
     "output_type": "stream",
     "text": [
      "Loss: 2.312614, Train accuracy: 0.196667, val accuracy: 0.206000\n",
      "Loss: 2.136102, Train accuracy: 0.196667, val accuracy: 0.206000\n",
      "Loss: 2.180162, Train accuracy: 0.231556, val accuracy: 0.242000\n",
      "Loss: 1.992593, Train accuracy: 0.325222, val accuracy: 0.330000\n",
      "Loss: 1.722787, Train accuracy: 0.411556, val accuracy: 0.406000\n",
      "Loss: 1.717096, Train accuracy: 0.528444, val accuracy: 0.531000\n",
      "Loss: 1.382005, Train accuracy: 0.589889, val accuracy: 0.584000\n",
      "Loss: 1.098785, Train accuracy: 0.642556, val accuracy: 0.625000\n",
      "Loss: 1.358706, Train accuracy: 0.656667, val accuracy: 0.644000\n",
      "Loss: 1.205762, Train accuracy: 0.681667, val accuracy: 0.671000\n",
      "Loss: 1.045915, Train accuracy: 0.689556, val accuracy: 0.659000\n",
      "Loss: 0.997428, Train accuracy: 0.701000, val accuracy: 0.678000\n",
      "Loss: 1.183174, Train accuracy: 0.727444, val accuracy: 0.705000\n",
      "Loss: 0.874983, Train accuracy: 0.720889, val accuracy: 0.691000\n",
      "Loss: 1.064226, Train accuracy: 0.734444, val accuracy: 0.685000\n",
      "Loss: 1.017113, Train accuracy: 0.763333, val accuracy: 0.713000\n",
      "Loss: 1.138834, Train accuracy: 0.768444, val accuracy: 0.716000\n",
      "Loss: 0.902031, Train accuracy: 0.762889, val accuracy: 0.708000\n",
      "Loss: 0.853309, Train accuracy: 0.791222, val accuracy: 0.729000\n",
      "Loss: 1.179495, Train accuracy: 0.793778, val accuracy: 0.728000\n",
      "Loss: 1.000923, Train accuracy: 0.782778, val accuracy: 0.717000\n",
      "Loss: 0.958889, Train accuracy: 0.783222, val accuracy: 0.709000\n",
      "Loss: 0.909029, Train accuracy: 0.785333, val accuracy: 0.719000\n",
      "Loss: 0.783304, Train accuracy: 0.802444, val accuracy: 0.716000\n",
      "Loss: 0.981714, Train accuracy: 0.817222, val accuracy: 0.741000\n",
      "Loss: 0.768243, Train accuracy: 0.802222, val accuracy: 0.737000\n",
      "Loss: 0.872206, Train accuracy: 0.835333, val accuracy: 0.746000\n",
      "Loss: 0.903607, Train accuracy: 0.824111, val accuracy: 0.732000\n",
      "Loss: 0.950330, Train accuracy: 0.836667, val accuracy: 0.758000\n",
      "Loss: 0.930260, Train accuracy: 0.835000, val accuracy: 0.744000\n",
      "Loss: 1.079205, Train accuracy: 0.850333, val accuracy: 0.758000\n",
      "Loss: 0.839054, Train accuracy: 0.843667, val accuracy: 0.753000\n",
      "Loss: 1.051642, Train accuracy: 0.842889, val accuracy: 0.744000\n",
      "Loss: 0.898600, Train accuracy: 0.855222, val accuracy: 0.751000\n",
      "Loss: 0.791459, Train accuracy: 0.849111, val accuracy: 0.744000\n",
      "Loss: 0.728524, Train accuracy: 0.854778, val accuracy: 0.755000\n",
      "Loss: 0.731413, Train accuracy: 0.850444, val accuracy: 0.741000\n",
      "Loss: 0.689439, Train accuracy: 0.872667, val accuracy: 0.745000\n",
      "Loss: 0.613923, Train accuracy: 0.866000, val accuracy: 0.762000\n",
      "Loss: 0.879596, Train accuracy: 0.878667, val accuracy: 0.758000\n",
      "Loss: 0.747936, Train accuracy: 0.874667, val accuracy: 0.771000\n",
      "Loss: 0.692726, Train accuracy: 0.869889, val accuracy: 0.751000\n",
      "Loss: 0.803157, Train accuracy: 0.859889, val accuracy: 0.753000\n",
      "Loss: 0.876036, Train accuracy: 0.864000, val accuracy: 0.755000\n",
      "Loss: 0.722232, Train accuracy: 0.884667, val accuracy: 0.766000\n",
      "Loss: 0.711275, Train accuracy: 0.877778, val accuracy: 0.765000\n",
      "Loss: 0.981364, Train accuracy: 0.870556, val accuracy: 0.756000\n",
      "Loss: 0.694711, Train accuracy: 0.891889, val accuracy: 0.765000\n",
      "Loss: 0.734895, Train accuracy: 0.876000, val accuracy: 0.757000\n",
      "Loss: 0.861803, Train accuracy: 0.897556, val accuracy: 0.773000\n",
      "Loss: 0.692480, Train accuracy: 0.855444, val accuracy: 0.737000\n",
      "Loss: 0.851199, Train accuracy: 0.897333, val accuracy: 0.772000\n",
      "Loss: 0.812005, Train accuracy: 0.889667, val accuracy: 0.769000\n",
      "Loss: 0.816685, Train accuracy: 0.885444, val accuracy: 0.764000\n",
      "Loss: 0.828051, Train accuracy: 0.899222, val accuracy: 0.761000\n",
      "Loss: 0.823907, Train accuracy: 0.888889, val accuracy: 0.762000\n",
      "Loss: 0.964569, Train accuracy: 0.887667, val accuracy: 0.761000\n",
      "Loss: 0.966192, Train accuracy: 0.901222, val accuracy: 0.766000\n",
      "Loss: 0.776752, Train accuracy: 0.883556, val accuracy: 0.755000\n",
      "Loss: 0.823114, Train accuracy: 0.899111, val accuracy: 0.761000\n",
      "Loss: 0.789752, Train accuracy: 0.906111, val accuracy: 0.764000\n",
      "Loss: 0.852335, Train accuracy: 0.896667, val accuracy: 0.764000\n",
      "Loss: 0.950151, Train accuracy: 0.891889, val accuracy: 0.756000\n",
      "Loss: 0.763144, Train accuracy: 0.901556, val accuracy: 0.765000\n",
      "Loss: 0.755867, Train accuracy: 0.897111, val accuracy: 0.768000\n",
      "Loss: 0.679759, Train accuracy: 0.901889, val accuracy: 0.764000\n",
      "Loss: 0.712556, Train accuracy: 0.914000, val accuracy: 0.778000\n",
      "Loss: 0.743923, Train accuracy: 0.905222, val accuracy: 0.774000\n",
      "Loss: 0.654500, Train accuracy: 0.912222, val accuracy: 0.773000\n",
      "Loss: 0.867986, Train accuracy: 0.904556, val accuracy: 0.767000\n",
      "Loss: 0.725920, Train accuracy: 0.910111, val accuracy: 0.754000\n",
      "Loss: 0.714104, Train accuracy: 0.909333, val accuracy: 0.766000\n",
      "Loss: 0.805368, Train accuracy: 0.894111, val accuracy: 0.749000\n",
      "Loss: 0.653594, Train accuracy: 0.901000, val accuracy: 0.757000\n",
      "Loss: 0.950695, Train accuracy: 0.917444, val accuracy: 0.772000\n",
      "Loss: 0.798617, Train accuracy: 0.903778, val accuracy: 0.766000\n",
      "Loss: 0.776508, Train accuracy: 0.887667, val accuracy: 0.746000\n",
      "Loss: 0.656566, Train accuracy: 0.922111, val accuracy: 0.767000\n",
      "Loss: 0.639890, Train accuracy: 0.914667, val accuracy: 0.764000\n",
      "Loss: 0.965970, Train accuracy: 0.871889, val accuracy: 0.740000\n",
      "Loss: 0.719304, Train accuracy: 0.920889, val accuracy: 0.778000\n",
      "Loss: 0.714669, Train accuracy: 0.917889, val accuracy: 0.773000\n",
      "Loss: 0.731452, Train accuracy: 0.924778, val accuracy: 0.771000\n",
      "Loss: 0.749961, Train accuracy: 0.924111, val accuracy: 0.774000\n",
      "Loss: 0.687082, Train accuracy: 0.920111, val accuracy: 0.774000\n",
      "Loss: 0.629131, Train accuracy: 0.925444, val accuracy: 0.771000\n",
      "Loss: 0.561976, Train accuracy: 0.922778, val accuracy: 0.771000\n",
      "Loss: 0.782315, Train accuracy: 0.921778, val accuracy: 0.773000\n",
      "Loss: 0.814258, Train accuracy: 0.916222, val accuracy: 0.770000\n",
      "Loss: 0.708503, Train accuracy: 0.926444, val accuracy: 0.771000\n",
      "Loss: 0.599650, Train accuracy: 0.921667, val accuracy: 0.770000\n",
      "Loss: 0.645646, Train accuracy: 0.914000, val accuracy: 0.761000\n",
      "Loss: 0.832078, Train accuracy: 0.932667, val accuracy: 0.769000\n",
      "Loss: 0.736988, Train accuracy: 0.915222, val accuracy: 0.771000\n",
      "Loss: 0.897582, Train accuracy: 0.909222, val accuracy: 0.778000\n",
      "Loss: 0.715210, Train accuracy: 0.919111, val accuracy: 0.773000\n",
      "Loss: 0.790825, Train accuracy: 0.908333, val accuracy: 0.764000\n",
      "Loss: 0.729655, Train accuracy: 0.923444, val accuracy: 0.769000\n",
      "Loss: 0.647364, Train accuracy: 0.912000, val accuracy: 0.763000\n",
      "Loss: 0.758312, Train accuracy: 0.900333, val accuracy: 0.745000\n"
     ]
    }
   ],
   "source": [
    "# Let's train the best one-hidden-layer network we can\n",
    "\n",
    "learning_rates = 1e-2\n",
    "reg_strength = 1e-3\n",
    "learning_rate_decay = 0.999\n",
    "hidden_layer_size = 128\n",
    "num_epochs = 100\n",
    "batch_size = 50\n",
    "\n",
    "best_classifier = None\n",
    "best_val_accuracy = None\n",
    "\n",
    "loss_history = []\n",
    "train_history = []\n",
    "val_history = []\n",
    "\n",
    "model = TwoLayerNet(n_input = train_X.shape[1], n_output = 10, hidden_layer_size = hidden_layer_size,\n",
    "                    reg = reg_strength)\n",
    "dataset = Dataset(train_X, train_y, val_X, val_y)\n",
    "trainer = Trainer(model, dataset, MomentumSGD(), learning_rate_decay=learning_rate_decay, learning_rate=learning_rates,\n",
    "                  num_epochs=num_epochs, batch_size=batch_size)\n",
    "    \n",
    "loss_history, train_history, val_history = trainer.fit()\n",
    "\n",
    "best_classifier = model"
   ]
  },
  {
   "cell_type": "code",
   "execution_count": 25,
   "metadata": {},
   "outputs": [
    {
     "data": {
      "text/plain": [
       "[<matplotlib.lines.Line2D at 0x11b54d250>]"
      ]
     },
     "execution_count": 25,
     "metadata": {},
     "output_type": "execute_result"
    },
    {
     "data": {
      "image/png": "[encoded data removed]",
      "text/plain": [
       "<Figure size 1080x504 with 2 Axes>"
      ]
     },
     "metadata": {
      "needs_background": "light"
     },
     "output_type": "display_data"
    }
   ],
   "source": [
    "plt.figure(figsize=(15, 7))\n",
    "plt.subplot(211)\n",
    "plt.title(\"Loss\")\n",
    "plt.plot(loss_history)\n",
    "plt.subplot(212)\n",
    "plt.title(\"Train/validation accuracy\")\n",
    "plt.plot(train_history)\n",
    "plt.plot(val_history)"
   ]
  },
  {
   "cell_type": "markdown",
   "metadata": {},
   "source": [
    "# Как обычно, посмотрим, как наша лучшая модель работает на тестовых данных"
   ]
  },
  {
   "cell_type": "code",
   "execution_count": 26,
   "metadata": {},
   "outputs": [
    {
     "name": "stdout",
     "output_type": "stream",
     "text": [
      "Neural net test set accuracy: 0.756000\n"
     ]
    }
   ],
   "source": [
    "test_pred = best_classifier.predict(test_X)\n",
    "test_accuracy = multiclass_accuracy(test_pred, test_y)\n",
    "print('Neural net test set accuracy: %f' % (test_accuracy, ))"
   ]
  }
 ],
 "metadata": {
  "kernelspec": {
   "display_name": "Python 3",
   "language": "python",
   "name": "python3"
  },
  "language_info": {
   "codemirror_mode": {
    "name": "ipython",
    "version": 3
   },
   "file_extension": ".py",
   "mimetype": "text/x-python",
   "name": "python",
   "nbconvert_exporter": "python",
   "pygments_lexer": "ipython3",
   "version": "3.7.4"
  }
 },
 "nbformat": 4,
 "nbformat_minor": 2
}
